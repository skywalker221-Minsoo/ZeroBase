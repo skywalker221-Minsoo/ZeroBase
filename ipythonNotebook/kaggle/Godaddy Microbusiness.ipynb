{
 "cells": [
  {
   "cell_type": "code",
   "execution_count": 1,
   "metadata": {},
   "outputs": [
    {
     "name": "stdout",
     "output_type": "stream",
     "text": [
      "C:/Users/User/kaggle/GoDaddy\\ACSST5Y2017.S0101-Column-Metadata.csv\n",
      "C:/Users/User/kaggle/GoDaddy\\ACSST5Y2017.S0101-Data.csv\n",
      "C:/Users/User/kaggle/GoDaddy\\ACSST5Y2018.S0101-Column-Metadata.csv\n",
      "C:/Users/User/kaggle/GoDaddy\\ACSST5Y2018.S0101-Data.csv\n",
      "C:/Users/User/kaggle/GoDaddy\\ACSST5Y2019.S0101-Column-Metadata.csv\n",
      "C:/Users/User/kaggle/GoDaddy\\ACSST5Y2019.S0101-Data.csv\n",
      "C:/Users/User/kaggle/GoDaddy\\ACSST5Y2020.S0101-Column-Metadata.csv\n",
      "C:/Users/User/kaggle/GoDaddy\\ACSST5Y2020.S0101-Data.csv\n",
      "C:/Users/User/kaggle/GoDaddy\\ACSST5Y2021.S0101-Column-Metadata.csv\n",
      "C:/Users/User/kaggle/GoDaddy\\ACSST5Y2021.S0101-Data.csv\n",
      "C:/Users/User/kaggle/GoDaddy\\best_jan_sub_20230314.csv\n",
      "C:/Users/User/kaggle/GoDaddy\\census_starter.csv\n",
      "C:/Users/User/kaggle/GoDaddy\\cfips_location.csv\n",
      "C:/Users/User/kaggle/GoDaddy\\county-neighbours.csv\n",
      "C:/Users/User/kaggle/GoDaddy\\laucnty00.xlsx\n",
      "C:/Users/User/kaggle/GoDaddy\\laucnty01.xlsx\n",
      "C:/Users/User/kaggle/GoDaddy\\laucnty02.xlsx\n",
      "C:/Users/User/kaggle/GoDaddy\\laucnty03.xlsx\n",
      "C:/Users/User/kaggle/GoDaddy\\laucnty04.xlsx\n",
      "C:/Users/User/kaggle/GoDaddy\\laucnty05.xlsx\n",
      "C:/Users/User/kaggle/GoDaddy\\laucnty06.xlsx\n",
      "C:/Users/User/kaggle/GoDaddy\\laucnty07.xlsx\n",
      "C:/Users/User/kaggle/GoDaddy\\laucnty08.xlsx\n",
      "C:/Users/User/kaggle/GoDaddy\\laucnty09.xlsx\n",
      "C:/Users/User/kaggle/GoDaddy\\laucnty10.xlsx\n",
      "C:/Users/User/kaggle/GoDaddy\\laucnty11.xlsx\n",
      "C:/Users/User/kaggle/GoDaddy\\laucnty12.xlsx\n",
      "C:/Users/User/kaggle/GoDaddy\\laucnty13.xlsx\n",
      "C:/Users/User/kaggle/GoDaddy\\laucnty14.xlsx\n",
      "C:/Users/User/kaggle/GoDaddy\\laucnty15.xlsx\n",
      "C:/Users/User/kaggle/GoDaddy\\laucnty16.xlsx\n",
      "C:/Users/User/kaggle/GoDaddy\\laucnty17.xlsx\n",
      "C:/Users/User/kaggle/GoDaddy\\laucnty18.xlsx\n",
      "C:/Users/User/kaggle/GoDaddy\\laucnty19.xlsx\n",
      "C:/Users/User/kaggle/GoDaddy\\laucnty20.xlsx\n",
      "C:/Users/User/kaggle/GoDaddy\\laucnty21.xlsx\n",
      "C:/Users/User/kaggle/GoDaddy\\revealed_test.csv\n",
      "C:/Users/User/kaggle/GoDaddy\\sample_submission.csv\n",
      "C:/Users/User/kaggle/GoDaddy\\test.csv\n",
      "C:/Users/User/kaggle/GoDaddy\\train.csv\n",
      "C:/Users/User/kaggle/GoDaddy\\us.1969_2020.19ages.adjusted.csv\n",
      "C:/Users/User/kaggle/GoDaddy\\VF_mai_counties_Q222.csv\n"
     ]
    }
   ],
   "source": [
    "import numpy as np\n",
    "import pandas as pd\n",
    "import os\n",
    "for dirname, _, filenames in os.walk('C:/Users/User/kaggle/GoDaddy'):\n",
    "    for filename in filenames:\n",
    "        print(os.path.join(dirname, filename))\n",
    "        \n",
    "from tqdm.auto import tqdm\n",
    "\n",
    "import datetime\n",
    "import dateutil.parser\n",
    "\n",
    "import matplotlib.pyplot as plt\n",
    "import seaborn as sns\n",
    "sns.set_theme(style='whitegrid')\n",
    "\n",
    "%matplotlib inline\n",
    "\n",
    "import plotly.express as px\n",
    "\n",
    "import copy\n",
    "from collections import defaultdict\n",
    "from sklearn.preprocessing import MinMaxScaler\n",
    "from sklearn.linear_model import LinearRegression\n",
    "from sklearn.metrics import r2_score\n",
    "from sklearn.pipeline import Pipeline\n",
    "\n",
    "from statsmodels.tsa.forecasting.stl import STLForecast, STL\n",
    "from statsmodels.tsa.arima.model import ARIMA\n",
    "from statsmodels.tsa.statespace.exponential_smoothing import ExponentialSmoothing as ES\n",
    "\n",
    "import xgboost as xgb\n",
    "import statsmodels.formula.api as smf"
   ]
  },
  {
   "cell_type": "code",
   "execution_count": 2,
   "metadata": {},
   "outputs": [],
   "source": [
    "def smape(y_true, y_pred):\n",
    "    \n",
    "    # CONVERT TO NUMPY\n",
    "    y_true = np.array(y_true)\n",
    "    y_pred = np.array(y_pred)\n",
    "    \n",
    "    # WHEN BOTH EQUAL ZERO, METRIC IS ZERO\n",
    "    both = np.abs(y_true) + np.abs(y_pred)\n",
    "    idx = np.where(both==0)[0]\n",
    "    y_true[idx]=1; y_pred[idx]=1\n",
    "    \n",
    "    return 100/len(y_true) * np.sum(2 * np.abs(y_pred - y_true) / (np.abs(y_true) + np.abs(y_pred)))\n",
    "\n",
    "def vsmape(y_true, y_pred):\n",
    "    \n",
    "    # CONVERT TO NUMPY\n",
    "    y_true = np.array(y_true)\n",
    "    y_pred = np.array(y_pred)\n",
    "    \n",
    "    # WHEN BOTH EQUAL ZERO, METRIC IS ZERO\n",
    "    both = np.abs(y_true) + np.abs(y_pred)\n",
    "    idx = np.where(both==0)[0]\n",
    "    y_true[idx]=1\n",
    "    y_pred[idx]=1\n",
    "    \n",
    "    return 200 * np.abs(y_pred - y_true) / (np.abs(y_true) + np.abs(y_pred))"
   ]
  },
  {
   "attachments": {},
   "cell_type": "markdown",
   "metadata": {},
   "source": [
    "### Load Data"
   ]
  },
  {
   "cell_type": "code",
   "execution_count": 3,
   "metadata": {},
   "outputs": [],
   "source": [
    "train_data = pd.read_csv('C:/Users/User/kaggle/GoDaddy/train.csv')\n",
    "test_data = pd.read_csv('C:/Users/User/kaggle/GoDaddy/test.csv')\n",
    "revealed_data = pd.read_csv('C:/Users/User/kaggle/GoDaddy/revealed_test.csv')"
   ]
  },
  {
   "cell_type": "code",
   "execution_count": 4,
   "metadata": {},
   "outputs": [
    {
     "data": {
      "application/vnd.jupyter.widget-view+json": {
       "model_id": "9bf0499628d94273b992291e25a901f0",
       "version_major": 2,
       "version_minor": 0
      },
      "text/plain": [
       "  0%|          | 0/3135 [00:00<?, ?it/s]"
      ]
     },
     "metadata": {},
     "output_type": "display_data"
    }
   ],
   "source": [
    "train_data['is_test'] = 0\n",
    "revealed_data['is_test'] = 1\n",
    "test_data['is_test'] = 2\n",
    "\n",
    "test_data = test_data[~test_data.row_id.isin(revealed_data.row_id)]\n",
    "\n",
    "data = pd.concat([train_data, revealed_data, test_data])\n",
    "\n",
    "data['first_day_of_month'] = pd.to_datetime(data['first_day_of_month'])\n",
    "\n",
    "data['month_from_month'] =data['first_day_of_month'].dt.month\n",
    "data['year_from_month'] =data['first_day_of_month'].dt.year\n",
    "\n",
    "data['population_year_minus_two']=(data['active']/data['microbusiness_density'])*100\n",
    "data['population_year'] = data.year_from_month - 2\n",
    "\n",
    "coords = pd.read_csv('C:/Users/User/kaggle/GoDaddy/cfips_location.csv', sep=',')\n",
    "data = data.merge(coords.drop(['name'], axis=1), on=\"cfips\", how=\"left\")\n",
    "\n",
    "for cfips in tqdm(data['cfips'].unique()):\n",
    "    mask = data.cfips == cfips\n",
    "    data.loc[mask, 'county'] = data.loc[mask, 'county'].iloc[0]\n",
    "    data.loc[mask, 'state'] = data.loc[mask, 'state'].iloc[0]\n",
    "    data.loc[mask, 'population_year_minus_two'] = data.loc[mask, 'population_year_minus_two'].ffill()\n",
    "\n",
    "\n",
    "data.reset_index(drop=True, inplace=True)"
   ]
  },
  {
   "attachments": {},
   "cell_type": "markdown",
   "metadata": {},
   "source": [
    "Things we tried but didn't work: Latitude and Longitude Transforms: TODO: Insert link to notebook\n",
    "I was excited to learn about the UMAP transform library, however I found it did not improve the score other than the already in place latitude and longitude\n",
    "\n",
    "Add the actual population data\n",
    "Again, special thanks to Chris Deotte for uploading this data."
   ]
  },
  {
   "cell_type": "code",
   "execution_count": 5,
   "metadata": {},
   "outputs": [
    {
     "name": "stderr",
     "output_type": "stream",
     "text": [
      "C:\\Users\\User\\AppData\\Local\\Temp\\ipykernel_41848\\2225007560.py:5: DtypeWarning: Columns (102,110) have mixed types. Specify dtype option on import or set low_memory=False.\n",
      "  temp = pd.read_csv(filename,usecols=COLS)\n"
     ]
    },
    {
     "name": "stdout",
     "output_type": "stream",
     "text": [
      "Processing 2017\n",
      "Processing 2018\n"
     ]
    },
    {
     "name": "stderr",
     "output_type": "stream",
     "text": [
      "C:\\Users\\User\\AppData\\Local\\Temp\\ipykernel_41848\\2225007560.py:5: DtypeWarning: Columns (102,110) have mixed types. Specify dtype option on import or set low_memory=False.\n",
      "  temp = pd.read_csv(filename,usecols=COLS)\n",
      "C:\\Users\\User\\AppData\\Local\\Temp\\ipykernel_41848\\2225007560.py:5: DtypeWarning: Columns (102,110) have mixed types. Specify dtype option on import or set low_memory=False.\n",
      "  temp = pd.read_csv(filename,usecols=COLS)\n"
     ]
    },
    {
     "name": "stdout",
     "output_type": "stream",
     "text": [
      "Processing 2019\n",
      "Processing 2020\n"
     ]
    },
    {
     "name": "stderr",
     "output_type": "stream",
     "text": [
      "C:\\Users\\User\\AppData\\Local\\Temp\\ipykernel_41848\\2225007560.py:5: DtypeWarning: Columns (102,110) have mixed types. Specify dtype option on import or set low_memory=False.\n",
      "  temp = pd.read_csv(filename,usecols=COLS)\n"
     ]
    },
    {
     "name": "stdout",
     "output_type": "stream",
     "text": [
      "Processing 2021\n"
     ]
    },
    {
     "name": "stderr",
     "output_type": "stream",
     "text": [
      "C:\\Users\\User\\AppData\\Local\\Temp\\ipykernel_41848\\2225007560.py:5: DtypeWarning: Columns (102,110) have mixed types. Specify dtype option on import or set low_memory=False.\n",
      "  temp = pd.read_csv(filename,usecols=COLS)\n"
     ]
    }
   ],
   "source": [
    "for year in data['population_year'].unique():\n",
    "    print(f'Processing {year}')\n",
    "    filename = f'C:/Users/User/kaggle/GoDaddy/ACSST5Y{year}.S0101-Data.csv'\n",
    "    COLS = ['GEO_ID','NAME','S0101_C01_026E', 'S0101_C01_028E']\n",
    "    temp = pd.read_csv(filename,usecols=COLS)\n",
    "    temp = temp.iloc[1:]\n",
    "    temp['S0101_C01_026E'] = temp['S0101_C01_026E'].astype('int')\n",
    "    temp['S0101_C01_028E'] = temp['S0101_C01_028E'].astype('int')\n",
    "    temp['cfips'] = temp.GEO_ID.apply(lambda x: int(x.split('US')[-1]) )\n",
    "    adult = temp.set_index('cfips').S0101_C01_026E.to_dict()\n",
    "    retired = temp.set_index('cfips').S0101_C01_028E.to_dict()\n",
    "    mask = data.population_year == year\n",
    "    data.loc[mask, 'used_population'] = data.loc[mask, 'cfips'].map(adult)\n",
    "    data.loc[mask, 'retired_population'] = data.loc[mask, 'cfips'].map(retired)"
   ]
  },
  {
   "attachments": {},
   "cell_type": "markdown",
   "metadata": {},
   "source": [
    "Add the census data\n",
    "Many models that acheived high scores had a look ahead bias in that they would use the pct_bb_2021 as a predictor in the cross validation. I have chosen to just use the last available census data to prevent this. It is lagged by 2 years."
   ]
  },
  {
   "cell_type": "code",
   "execution_count": 6,
   "metadata": {},
   "outputs": [],
   "source": [
    "census_data = pd.read_csv('C:/Users/User/kaggle/GoDaddy/census_starter.csv')\n",
    "census_data.set_index('cfips', inplace=True)\n",
    "\n",
    "def add_last_year_data(cfips, year, census_data, col_stub):\n",
    "    col_name = f\"{col_stub}{year}\"\n",
    "    return census_data.loc[cfips][col_name]\n",
    "\n",
    "data['pct_bb_last_year'] = data.apply(lambda row: add_last_year_data(cfips=row['cfips'], \n",
    "                                                                     year=row['population_year'], \n",
    "                                                                     census_data=census_data, \n",
    "                                                                     col_stub='pct_bb_'), axis=1)\n",
    "data['pct_college_last_year'] = data.apply(lambda row: add_last_year_data(cfips=row['cfips'], \n",
    "                                                                          year=row['population_year'], \n",
    "                                                                          census_data=census_data, \n",
    "                                                                          col_stub='pct_college_'), axis=1)\n",
    "data['pct_foreign_born_last_year'] = data.apply(lambda row: add_last_year_data(cfips=row['cfips'], \n",
    "                                                                               year=row['population_year'], \n",
    "                                                                               census_data=census_data, \n",
    "                                                                               col_stub='pct_foreign_born_'), axis=1)\n",
    "data['pct_it_workers_last_year'] = data.apply(lambda row: add_last_year_data(cfips=row['cfips'], \n",
    "                                                                             year=row['population_year'], \n",
    "                                                                             census_data=census_data,\n",
    "                                                                             col_stub='pct_it_workers_'), axis=1)\n",
    "data['median_hh_inc_last_year'] = data.apply(lambda row: add_last_year_data(cfips=row['cfips'], \n",
    "                                                                            year=row['population_year'], \n",
    "                                                                            census_data=census_data, \n",
    "                                                                            col_stub='median_hh_inc_'), axis=1)"
   ]
  },
  {
   "attachments": {},
   "cell_type": "markdown",
   "metadata": {},
   "source": [
    "Add neighboring county information\n",
    "We would assume that any differences relative to neighboring counties would be smoothed out over time for two reasons:\n",
    "\n",
    "If it is a data error, the nearby counties should have the real value.\n",
    "If it is a true change, as people move to the area they would spread out to nearby counties for their business.\n",
    "Special thanks to @pranay for posting the data"
   ]
  },
  {
   "cell_type": "code",
   "execution_count": 7,
   "metadata": {},
   "outputs": [
    {
     "data": {
      "application/vnd.jupyter.widget-view+json": {
       "model_id": "91b9daf84a65485ba1ca55f137729a90",
       "version_major": 2,
       "version_minor": 0
      },
      "text/plain": [
       "  0%|          | 0/3135 [00:00<?, ?it/s]"
      ]
     },
     "metadata": {},
     "output_type": "display_data"
    }
   ],
   "source": [
    "def add_neighbor_value(df, weighted=False):\n",
    "    county_neighbors=pd.read_csv('C:/Users/User/kaggle/GoDaddy/county-neighbours.csv')\n",
    "    county_neighbors.rename(columns = {'Neighbour county code':'cfips'}, inplace = True)\n",
    "    \n",
    "    res = defaultdict(float)\n",
    "    all_cfips = df['cfips'].unique()\n",
    "    for cfips in tqdm(all_cfips):\n",
    "        neighbors = county_neighbors[county_neighbors['Countycode'] == cfips]['cfips'].unique()\n",
    "        if len(neighbors) == 0:  # If no neighbors, set to self\n",
    "            tdf = df[df['cfips'] == cfips]\n",
    "            res.update({(cfips, row['first_day_of_month']): row['microbusiness_density'] for __, row in tdf.iterrows()})\n",
    "        else:\n",
    "            temp = df[df['cfips'].isin(neighbors)]\n",
    "\n",
    "            if not weighted:\n",
    "                 res.update({(cfips, dt): df['microbusiness_density'].mean() for dt, df in temp.groupby('first_day_of_month')})\n",
    "            else:\n",
    "                res.update({(cfips, dt): (df['microbusiness_density'] * df['used_population']).sum() / df['used_population'].sum() for dt, df in temp.groupby('first_day_of_month')})\n",
    "\n",
    "\n",
    "    df['neighbor_average'] = df.apply(lambda row: res[(row['cfips'], row['first_day_of_month'])], axis=1)\n",
    "    df['neighbor_diff'] = df['neighbor_average']/df['microbusiness_density'] - 1\n",
    "    \n",
    "    df.loc[df['microbusiness_density'] == 0, 'neighbor_diff'] = 0\n",
    "    \n",
    "add_neighbor_value(data)"
   ]
  },
  {
   "attachments": {},
   "cell_type": "markdown",
   "metadata": {},
   "source": [
    "Add population changes for many years and population makeup\n",
    "* Since the target is the active amount of businesses divided by the 2 year lagged working age population, forecasting a population change, if the fraction of microbusinesses is roughly constant, could add some forecasting power.\n",
    "* The population makeup could also be a predictor"
   ]
  },
  {
   "cell_type": "code",
   "execution_count": 8,
   "metadata": {},
   "outputs": [],
   "source": [
    "working_age = {5, 6, 7, 8, 9, 10, 11}\n",
    "pop_df = pd.read_csv('C:/Users/User/kaggle/GoDaddy/us.1969_2020.19ages.adjusted.csv')\n",
    "total_pop = pop_df.groupby(['Year', 'cfips'])['population'].sum()\n",
    "working_pop = pop_df[pop_df['agecode'].isin(working_age)].groupby(['Year', 'cfips'])['population'].sum() / total_pop\n",
    "working_male = pop_df[pop_df['agecode'].isin(working_age) & (pop_df['sex'] == 'M')].groupby(['Year', 'cfips'])['population'].sum() / total_pop\n",
    "white_pop = pop_df[pop_df['race'] == 'W'].groupby(['Year', 'cfips'])['population'].sum() / total_pop\n",
    "black_pop = pop_df[pop_df['race'] == 'B'].groupby(['Year', 'cfips'])['population'].sum() / total_pop"
   ]
  },
  {
   "cell_type": "code",
   "execution_count": 9,
   "metadata": {},
   "outputs": [],
   "source": [
    "def get_pop(row, pop_df_grp, dflt='population_year_minus_two'):\n",
    "    try:\n",
    "        return pop_df_grp.loc[row['population_year'], row['cfips']]\n",
    "    except KeyError:\n",
    "        return row[dflt]\n",
    "\n",
    "\n",
    "def get_pop_pct(row, pop_df_grp, dflt=np.nan):\n",
    "    try:\n",
    "        return pop_df_grp.loc[row['population_year'], row['cfips']]\n",
    "    except KeyError:\n",
    "        return dflt\n",
    "\n",
    "\n",
    "def get_10yr_pop_chg(row, pop_df_grp):\n",
    "    try:\n",
    "        yr = row['population_year']\n",
    "        now = pop_df_grp.loc[yr, row['cfips']]\n",
    "        then = pop_df_grp.loc[yr-10, row['cfips']]\n",
    "        return now / then - 1\n",
    "    except KeyError:\n",
    "        return 0\n",
    "\n",
    "for c in data.columns:\n",
    "    if 'seer' in c:\n",
    "        del data[c]\n",
    "    \n",
    "data['seer_pop'] = data.apply(lambda row: get_pop(row, total_pop), axis=1)\n",
    "\n",
    "data['seer_working_pct'] = data.apply(lambda row: get_pop_pct(row, working_pop), axis=1)\n",
    "data['seer_working_male_pct'] = data.apply(lambda row: get_pop_pct(row, working_male), axis=1)\n",
    "data['seer_white_pct'] = data.apply(lambda row: get_pop_pct(row, white_pop), axis=1)\n",
    "data['seer_black_pct'] = data.apply(lambda row: get_pop_pct(row, black_pop), axis=1)\n",
    "\n",
    "data['seer_pop_chg'] = data.apply(lambda row: get_10yr_pop_chg(row, total_pop), axis=1)\n",
    "data['seer_pop_ratio'] = data['seer_pop']/data['used_population'] - 1"
   ]
  },
  {
   "cell_type": "code",
   "execution_count": 10,
   "metadata": {},
   "outputs": [
    {
     "data": {
      "application/vnd.jupyter.widget-view+json": {
       "model_id": "4a65b45c2cea49da8167b4f912c5a4e2",
       "version_major": 2,
       "version_minor": 0
      },
      "text/plain": [
       "  0%|          | 0/3135 [00:00<?, ?it/s]"
      ]
     },
     "metadata": {},
     "output_type": "display_data"
    },
    {
     "data": {
      "text/html": [
       "<div>\n",
       "<style scoped>\n",
       "    .dataframe tbody tr th:only-of-type {\n",
       "        vertical-align: middle;\n",
       "    }\n",
       "\n",
       "    .dataframe tbody tr th {\n",
       "        vertical-align: top;\n",
       "    }\n",
       "\n",
       "    .dataframe thead th {\n",
       "        text-align: right;\n",
       "    }\n",
       "</style>\n",
       "<table border=\"1\" class=\"dataframe\">\n",
       "  <thead>\n",
       "    <tr style=\"text-align: right;\">\n",
       "      <th></th>\n",
       "      <th>row_id</th>\n",
       "      <th>cfips</th>\n",
       "      <th>county</th>\n",
       "      <th>state</th>\n",
       "      <th>first_day_of_month</th>\n",
       "      <th>microbusiness_density</th>\n",
       "      <th>active</th>\n",
       "      <th>is_test</th>\n",
       "      <th>month_from_month</th>\n",
       "      <th>year_from_month</th>\n",
       "      <th>...</th>\n",
       "      <th>median_hh_inc_last_year</th>\n",
       "      <th>neighbor_average</th>\n",
       "      <th>neighbor_diff</th>\n",
       "      <th>seer_pop</th>\n",
       "      <th>seer_working_pct</th>\n",
       "      <th>seer_working_male_pct</th>\n",
       "      <th>seer_white_pct</th>\n",
       "      <th>seer_black_pct</th>\n",
       "      <th>seer_pop_chg</th>\n",
       "      <th>seer_pop_ratio</th>\n",
       "    </tr>\n",
       "  </thead>\n",
       "  <tbody>\n",
       "    <tr>\n",
       "      <th>0</th>\n",
       "      <td>1001_2019-08-01</td>\n",
       "      <td>1001</td>\n",
       "      <td>Autauga County</td>\n",
       "      <td>Alabama</td>\n",
       "      <td>2019-08-01</td>\n",
       "      <td>3.007682</td>\n",
       "      <td>1249.0</td>\n",
       "      <td>0</td>\n",
       "      <td>8</td>\n",
       "      <td>2019</td>\n",
       "      <td>...</td>\n",
       "      <td>55317.0</td>\n",
       "      <td>2.192232</td>\n",
       "      <td>-0.271122</td>\n",
       "      <td>55448.000000</td>\n",
       "      <td>0.460738</td>\n",
       "      <td>0.225779</td>\n",
       "      <td>0.779054</td>\n",
       "      <td>0.200729</td>\n",
       "      <td>0.058067</td>\n",
       "      <td>0.335228</td>\n",
       "    </tr>\n",
       "    <tr>\n",
       "      <th>1</th>\n",
       "      <td>1001_2019-09-01</td>\n",
       "      <td>1001</td>\n",
       "      <td>Autauga County</td>\n",
       "      <td>Alabama</td>\n",
       "      <td>2019-09-01</td>\n",
       "      <td>2.884870</td>\n",
       "      <td>1198.0</td>\n",
       "      <td>0</td>\n",
       "      <td>9</td>\n",
       "      <td>2019</td>\n",
       "      <td>...</td>\n",
       "      <td>55317.0</td>\n",
       "      <td>2.216480</td>\n",
       "      <td>-0.231688</td>\n",
       "      <td>55448.000000</td>\n",
       "      <td>0.460738</td>\n",
       "      <td>0.225779</td>\n",
       "      <td>0.779054</td>\n",
       "      <td>0.200729</td>\n",
       "      <td>0.058067</td>\n",
       "      <td>0.335228</td>\n",
       "    </tr>\n",
       "    <tr>\n",
       "      <th>2</th>\n",
       "      <td>1001_2019-10-01</td>\n",
       "      <td>1001</td>\n",
       "      <td>Autauga County</td>\n",
       "      <td>Alabama</td>\n",
       "      <td>2019-10-01</td>\n",
       "      <td>3.055843</td>\n",
       "      <td>1269.0</td>\n",
       "      <td>0</td>\n",
       "      <td>10</td>\n",
       "      <td>2019</td>\n",
       "      <td>...</td>\n",
       "      <td>55317.0</td>\n",
       "      <td>2.211303</td>\n",
       "      <td>-0.276369</td>\n",
       "      <td>55448.000000</td>\n",
       "      <td>0.460738</td>\n",
       "      <td>0.225779</td>\n",
       "      <td>0.779054</td>\n",
       "      <td>0.200729</td>\n",
       "      <td>0.058067</td>\n",
       "      <td>0.335228</td>\n",
       "    </tr>\n",
       "    <tr>\n",
       "      <th>3</th>\n",
       "      <td>1001_2019-11-01</td>\n",
       "      <td>1001</td>\n",
       "      <td>Autauga County</td>\n",
       "      <td>Alabama</td>\n",
       "      <td>2019-11-01</td>\n",
       "      <td>2.993233</td>\n",
       "      <td>1243.0</td>\n",
       "      <td>0</td>\n",
       "      <td>11</td>\n",
       "      <td>2019</td>\n",
       "      <td>...</td>\n",
       "      <td>55317.0</td>\n",
       "      <td>2.212587</td>\n",
       "      <td>-0.260804</td>\n",
       "      <td>55448.000000</td>\n",
       "      <td>0.460738</td>\n",
       "      <td>0.225779</td>\n",
       "      <td>0.779054</td>\n",
       "      <td>0.200729</td>\n",
       "      <td>0.058067</td>\n",
       "      <td>0.335228</td>\n",
       "    </tr>\n",
       "    <tr>\n",
       "      <th>4</th>\n",
       "      <td>1001_2019-12-01</td>\n",
       "      <td>1001</td>\n",
       "      <td>Autauga County</td>\n",
       "      <td>Alabama</td>\n",
       "      <td>2019-12-01</td>\n",
       "      <td>2.993233</td>\n",
       "      <td>1243.0</td>\n",
       "      <td>0</td>\n",
       "      <td>12</td>\n",
       "      <td>2019</td>\n",
       "      <td>...</td>\n",
       "      <td>55317.0</td>\n",
       "      <td>2.246902</td>\n",
       "      <td>-0.249340</td>\n",
       "      <td>55448.000000</td>\n",
       "      <td>0.460738</td>\n",
       "      <td>0.225779</td>\n",
       "      <td>0.779054</td>\n",
       "      <td>0.200729</td>\n",
       "      <td>0.058067</td>\n",
       "      <td>0.335228</td>\n",
       "    </tr>\n",
       "    <tr>\n",
       "      <th>...</th>\n",
       "      <td>...</td>\n",
       "      <td>...</td>\n",
       "      <td>...</td>\n",
       "      <td>...</td>\n",
       "      <td>...</td>\n",
       "      <td>...</td>\n",
       "      <td>...</td>\n",
       "      <td>...</td>\n",
       "      <td>...</td>\n",
       "      <td>...</td>\n",
       "      <td>...</td>\n",
       "      <td>...</td>\n",
       "      <td>...</td>\n",
       "      <td>...</td>\n",
       "      <td>...</td>\n",
       "      <td>...</td>\n",
       "      <td>...</td>\n",
       "      <td>...</td>\n",
       "      <td>...</td>\n",
       "      <td>...</td>\n",
       "      <td>...</td>\n",
       "    </tr>\n",
       "    <tr>\n",
       "      <th>147340</th>\n",
       "      <td>56037_2023-06-01</td>\n",
       "      <td>56037</td>\n",
       "      <td>Sweetwater County</td>\n",
       "      <td>Wyoming</td>\n",
       "      <td>2023-06-01</td>\n",
       "      <td>NaN</td>\n",
       "      <td>NaN</td>\n",
       "      <td>2</td>\n",
       "      <td>6</td>\n",
       "      <td>2023</td>\n",
       "      <td>...</td>\n",
       "      <td>76668.0</td>\n",
       "      <td>NaN</td>\n",
       "      <td>NaN</td>\n",
       "      <td>32048.999235</td>\n",
       "      <td>0.453448</td>\n",
       "      <td>0.236238</td>\n",
       "      <td>0.951070</td>\n",
       "      <td>0.018185</td>\n",
       "      <td>0.000000</td>\n",
       "      <td>0.016977</td>\n",
       "    </tr>\n",
       "    <tr>\n",
       "      <th>147341</th>\n",
       "      <td>56039_2023-06-01</td>\n",
       "      <td>56039</td>\n",
       "      <td>Teton County</td>\n",
       "      <td>Wyoming</td>\n",
       "      <td>2023-06-01</td>\n",
       "      <td>NaN</td>\n",
       "      <td>NaN</td>\n",
       "      <td>2</td>\n",
       "      <td>6</td>\n",
       "      <td>2023</td>\n",
       "      <td>...</td>\n",
       "      <td>94498.0</td>\n",
       "      <td>NaN</td>\n",
       "      <td>NaN</td>\n",
       "      <td>19163.999680</td>\n",
       "      <td>0.514747</td>\n",
       "      <td>0.272588</td>\n",
       "      <td>0.959952</td>\n",
       "      <td>0.011065</td>\n",
       "      <td>0.000000</td>\n",
       "      <td>-0.000261</td>\n",
       "    </tr>\n",
       "    <tr>\n",
       "      <th>147342</th>\n",
       "      <td>56041_2023-06-01</td>\n",
       "      <td>56041</td>\n",
       "      <td>Uinta County</td>\n",
       "      <td>Wyoming</td>\n",
       "      <td>2023-06-01</td>\n",
       "      <td>NaN</td>\n",
       "      <td>NaN</td>\n",
       "      <td>2</td>\n",
       "      <td>6</td>\n",
       "      <td>2023</td>\n",
       "      <td>...</td>\n",
       "      <td>75106.0</td>\n",
       "      <td>NaN</td>\n",
       "      <td>NaN</td>\n",
       "      <td>14516.000261</td>\n",
       "      <td>0.411971</td>\n",
       "      <td>0.207371</td>\n",
       "      <td>0.964037</td>\n",
       "      <td>0.011031</td>\n",
       "      <td>0.000000</td>\n",
       "      <td>-0.008538</td>\n",
       "    </tr>\n",
       "    <tr>\n",
       "      <th>147343</th>\n",
       "      <td>56043_2023-06-01</td>\n",
       "      <td>56043</td>\n",
       "      <td>Washakie County</td>\n",
       "      <td>Wyoming</td>\n",
       "      <td>2023-06-01</td>\n",
       "      <td>NaN</td>\n",
       "      <td>NaN</td>\n",
       "      <td>2</td>\n",
       "      <td>6</td>\n",
       "      <td>2023</td>\n",
       "      <td>...</td>\n",
       "      <td>62271.0</td>\n",
       "      <td>NaN</td>\n",
       "      <td>NaN</td>\n",
       "      <td>6044.999960</td>\n",
       "      <td>0.380412</td>\n",
       "      <td>0.198840</td>\n",
       "      <td>0.960696</td>\n",
       "      <td>0.011856</td>\n",
       "      <td>0.000000</td>\n",
       "      <td>0.007500</td>\n",
       "    </tr>\n",
       "    <tr>\n",
       "      <th>147344</th>\n",
       "      <td>56045_2023-06-01</td>\n",
       "      <td>56045</td>\n",
       "      <td>Weston County</td>\n",
       "      <td>Wyoming</td>\n",
       "      <td>2023-06-01</td>\n",
       "      <td>NaN</td>\n",
       "      <td>NaN</td>\n",
       "      <td>2</td>\n",
       "      <td>6</td>\n",
       "      <td>2023</td>\n",
       "      <td>...</td>\n",
       "      <td>65566.0</td>\n",
       "      <td>NaN</td>\n",
       "      <td>NaN</td>\n",
       "      <td>5600.999751</td>\n",
       "      <td>0.394038</td>\n",
       "      <td>0.219190</td>\n",
       "      <td>0.948539</td>\n",
       "      <td>0.014534</td>\n",
       "      <td>0.000000</td>\n",
       "      <td>0.018549</td>\n",
       "    </tr>\n",
       "  </tbody>\n",
       "</table>\n",
       "<p>147345 rows × 30 columns</p>\n",
       "</div>"
      ],
      "text/plain": [
       "                  row_id  cfips             county    state  \\\n",
       "0        1001_2019-08-01   1001     Autauga County  Alabama   \n",
       "1        1001_2019-09-01   1001     Autauga County  Alabama   \n",
       "2        1001_2019-10-01   1001     Autauga County  Alabama   \n",
       "3        1001_2019-11-01   1001     Autauga County  Alabama   \n",
       "4        1001_2019-12-01   1001     Autauga County  Alabama   \n",
       "...                  ...    ...                ...      ...   \n",
       "147340  56037_2023-06-01  56037  Sweetwater County  Wyoming   \n",
       "147341  56039_2023-06-01  56039       Teton County  Wyoming   \n",
       "147342  56041_2023-06-01  56041       Uinta County  Wyoming   \n",
       "147343  56043_2023-06-01  56043    Washakie County  Wyoming   \n",
       "147344  56045_2023-06-01  56045      Weston County  Wyoming   \n",
       "\n",
       "       first_day_of_month  microbusiness_density  active  is_test  \\\n",
       "0              2019-08-01               3.007682  1249.0        0   \n",
       "1              2019-09-01               2.884870  1198.0        0   \n",
       "2              2019-10-01               3.055843  1269.0        0   \n",
       "3              2019-11-01               2.993233  1243.0        0   \n",
       "4              2019-12-01               2.993233  1243.0        0   \n",
       "...                   ...                    ...     ...      ...   \n",
       "147340         2023-06-01                    NaN     NaN        2   \n",
       "147341         2023-06-01                    NaN     NaN        2   \n",
       "147342         2023-06-01                    NaN     NaN        2   \n",
       "147343         2023-06-01                    NaN     NaN        2   \n",
       "147344         2023-06-01                    NaN     NaN        2   \n",
       "\n",
       "        month_from_month  year_from_month  ...  median_hh_inc_last_year  \\\n",
       "0                      8             2019  ...                  55317.0   \n",
       "1                      9             2019  ...                  55317.0   \n",
       "2                     10             2019  ...                  55317.0   \n",
       "3                     11             2019  ...                  55317.0   \n",
       "4                     12             2019  ...                  55317.0   \n",
       "...                  ...              ...  ...                      ...   \n",
       "147340                 6             2023  ...                  76668.0   \n",
       "147341                 6             2023  ...                  94498.0   \n",
       "147342                 6             2023  ...                  75106.0   \n",
       "147343                 6             2023  ...                  62271.0   \n",
       "147344                 6             2023  ...                  65566.0   \n",
       "\n",
       "        neighbor_average  neighbor_diff      seer_pop  seer_working_pct  \\\n",
       "0               2.192232      -0.271122  55448.000000          0.460738   \n",
       "1               2.216480      -0.231688  55448.000000          0.460738   \n",
       "2               2.211303      -0.276369  55448.000000          0.460738   \n",
       "3               2.212587      -0.260804  55448.000000          0.460738   \n",
       "4               2.246902      -0.249340  55448.000000          0.460738   \n",
       "...                  ...            ...           ...               ...   \n",
       "147340               NaN            NaN  32048.999235          0.453448   \n",
       "147341               NaN            NaN  19163.999680          0.514747   \n",
       "147342               NaN            NaN  14516.000261          0.411971   \n",
       "147343               NaN            NaN   6044.999960          0.380412   \n",
       "147344               NaN            NaN   5600.999751          0.394038   \n",
       "\n",
       "        seer_working_male_pct  seer_white_pct  seer_black_pct  seer_pop_chg  \\\n",
       "0                    0.225779        0.779054        0.200729      0.058067   \n",
       "1                    0.225779        0.779054        0.200729      0.058067   \n",
       "2                    0.225779        0.779054        0.200729      0.058067   \n",
       "3                    0.225779        0.779054        0.200729      0.058067   \n",
       "4                    0.225779        0.779054        0.200729      0.058067   \n",
       "...                       ...             ...             ...           ...   \n",
       "147340               0.236238        0.951070        0.018185      0.000000   \n",
       "147341               0.272588        0.959952        0.011065      0.000000   \n",
       "147342               0.207371        0.964037        0.011031      0.000000   \n",
       "147343               0.198840        0.960696        0.011856      0.000000   \n",
       "147344               0.219190        0.948539        0.014534      0.000000   \n",
       "\n",
       "        seer_pop_ratio  \n",
       "0             0.335228  \n",
       "1             0.335228  \n",
       "2             0.335228  \n",
       "3             0.335228  \n",
       "4             0.335228  \n",
       "...                ...  \n",
       "147340        0.016977  \n",
       "147341       -0.000261  \n",
       "147342       -0.008538  \n",
       "147343        0.007500  \n",
       "147344        0.018549  \n",
       "\n",
       "[147345 rows x 30 columns]"
      ]
     },
     "execution_count": 10,
     "metadata": {},
     "output_type": "execute_result"
    }
   ],
   "source": [
    "for cfips in tqdm(data['cfips'].unique()):\n",
    "    mask = data.cfips == cfips\n",
    "    for c in data.columns:\n",
    "        if 'seer' in c:\n",
    "            data.loc[mask, c] = data.loc[mask, c].ffill()\n",
    "            \n",
    "data"
   ]
  },
  {
   "cell_type": "code",
   "execution_count": 11,
   "metadata": {},
   "outputs": [],
   "source": [
    "for col in ['unemployment_rate', 'labor_force']:\n",
    "    full_dict = defaultdict(lambda: np.nan)\n",
    "    for yr in data['population_year'].unique():\n",
    "        file = 'C:/Users/User/kaggle/GoDaddy/laucnty{}.xlsx'.format(yr % 100)\n",
    "        columns = ['LUASCode', 'state_fips', 'county_fips', 'name', 'year', 'dummy', 'labor_force', 'employed', 'unemployed', 'unemployment_rate']\n",
    "        df = pd.read_excel(file, header=4)\n",
    "        df.columns = columns\n",
    "        del df['dummy']\n",
    "        df.dropna(inplace=True)\n",
    "        df['year'] = df['year'].map(int)\n",
    "        df['cfips'] = (df['state_fips']*1000 + df['county_fips']).map(int)\n",
    "        temp = {(row['cfips'],yr): row[col] for __, row in df.iterrows()}\n",
    "        full_dict.update(temp)\n",
    "\n",
    "    data[col] = data.apply(lambda row: full_dict[(row['cfips'], row['population_year'])], axis=1)"
   ]
  },
  {
   "cell_type": "code",
   "execution_count": 12,
   "metadata": {},
   "outputs": [
    {
     "data": {
      "application/vnd.jupyter.widget-view+json": {
       "model_id": "4feabf42b1404892a07d68a0c4b4b297",
       "version_major": 2,
       "version_minor": 0
      },
      "text/plain": [
       "  0%|          | 0/3135 [00:00<?, ?it/s]"
      ]
     },
     "metadata": {},
     "output_type": "display_data"
    }
   ],
   "source": [
    "for cfips in tqdm(data['cfips'].unique()):\n",
    "    mask = data.cfips == cfips\n",
    "    for c in ['unemployment_rate', 'labor_force']:\n",
    "        data.loc[mask, c] = data.loc[mask, c].ffill()"
   ]
  },
  {
   "cell_type": "code",
   "execution_count": 13,
   "metadata": {},
   "outputs": [
    {
     "data": {
      "text/plain": [
       "<Axes: >"
      ]
     },
     "execution_count": 13,
     "metadata": {},
     "output_type": "execute_result"
    },
    {
     "data": {
      "image/png": "[encoded data removed]",
      "text/plain": [
       "<Figure size 640x480 with 1 Axes>"
      ]
     },
     "metadata": {},
     "output_type": "display_data"
    }
   ],
   "source": [
    "data['labor_participation'] = data['labor_force'] / data['seer_pop']\n",
    "data['labor_participation'].hist(bins=100)"
   ]
  },
  {
   "cell_type": "code",
   "execution_count": 14,
   "metadata": {},
   "outputs": [
    {
     "data": {
      "text/html": [
       "<div>\n",
       "<style scoped>\n",
       "    .dataframe tbody tr th:only-of-type {\n",
       "        vertical-align: middle;\n",
       "    }\n",
       "\n",
       "    .dataframe tbody tr th {\n",
       "        vertical-align: top;\n",
       "    }\n",
       "\n",
       "    .dataframe thead th {\n",
       "        text-align: right;\n",
       "    }\n",
       "</style>\n",
       "<table border=\"1\" class=\"dataframe\">\n",
       "  <thead>\n",
       "    <tr style=\"text-align: right;\">\n",
       "      <th></th>\n",
       "      <th>row_id</th>\n",
       "      <th>cfips</th>\n",
       "      <th>county</th>\n",
       "      <th>state</th>\n",
       "      <th>first_day_of_month</th>\n",
       "      <th>microbusiness_density</th>\n",
       "      <th>active</th>\n",
       "      <th>is_test</th>\n",
       "      <th>month_from_month</th>\n",
       "      <th>year_from_month</th>\n",
       "      <th>...</th>\n",
       "      <th>seer_black_pct</th>\n",
       "      <th>seer_pop_chg</th>\n",
       "      <th>seer_pop_ratio</th>\n",
       "      <th>unemployment_rate</th>\n",
       "      <th>labor_force</th>\n",
       "      <th>labor_participation</th>\n",
       "      <th>MAI_composite</th>\n",
       "      <th>engagement</th>\n",
       "      <th>participation</th>\n",
       "      <th>infrastructure</th>\n",
       "    </tr>\n",
       "  </thead>\n",
       "  <tbody>\n",
       "    <tr>\n",
       "      <th>0</th>\n",
       "      <td>1001_2019-08-01</td>\n",
       "      <td>1001</td>\n",
       "      <td>Autauga County</td>\n",
       "      <td>Alabama</td>\n",
       "      <td>2019-08-01</td>\n",
       "      <td>3.007682</td>\n",
       "      <td>1249.0</td>\n",
       "      <td>0</td>\n",
       "      <td>8</td>\n",
       "      <td>2019</td>\n",
       "      <td>...</td>\n",
       "      <td>0.200729</td>\n",
       "      <td>0.058067</td>\n",
       "      <td>0.335228</td>\n",
       "      <td>4.0</td>\n",
       "      <td>26269.0</td>\n",
       "      <td>0.473759</td>\n",
       "      <td>NaN</td>\n",
       "      <td>NaN</td>\n",
       "      <td>NaN</td>\n",
       "      <td>NaN</td>\n",
       "    </tr>\n",
       "    <tr>\n",
       "      <th>1</th>\n",
       "      <td>1001_2019-09-01</td>\n",
       "      <td>1001</td>\n",
       "      <td>Autauga County</td>\n",
       "      <td>Alabama</td>\n",
       "      <td>2019-09-01</td>\n",
       "      <td>2.884870</td>\n",
       "      <td>1198.0</td>\n",
       "      <td>0</td>\n",
       "      <td>9</td>\n",
       "      <td>2019</td>\n",
       "      <td>...</td>\n",
       "      <td>0.200729</td>\n",
       "      <td>0.058067</td>\n",
       "      <td>0.335228</td>\n",
       "      <td>4.0</td>\n",
       "      <td>26269.0</td>\n",
       "      <td>0.473759</td>\n",
       "      <td>NaN</td>\n",
       "      <td>NaN</td>\n",
       "      <td>NaN</td>\n",
       "      <td>NaN</td>\n",
       "    </tr>\n",
       "    <tr>\n",
       "      <th>2</th>\n",
       "      <td>1001_2019-10-01</td>\n",
       "      <td>1001</td>\n",
       "      <td>Autauga County</td>\n",
       "      <td>Alabama</td>\n",
       "      <td>2019-10-01</td>\n",
       "      <td>3.055843</td>\n",
       "      <td>1269.0</td>\n",
       "      <td>0</td>\n",
       "      <td>10</td>\n",
       "      <td>2019</td>\n",
       "      <td>...</td>\n",
       "      <td>0.200729</td>\n",
       "      <td>0.058067</td>\n",
       "      <td>0.335228</td>\n",
       "      <td>4.0</td>\n",
       "      <td>26269.0</td>\n",
       "      <td>0.473759</td>\n",
       "      <td>NaN</td>\n",
       "      <td>NaN</td>\n",
       "      <td>NaN</td>\n",
       "      <td>NaN</td>\n",
       "    </tr>\n",
       "    <tr>\n",
       "      <th>3</th>\n",
       "      <td>1001_2019-11-01</td>\n",
       "      <td>1001</td>\n",
       "      <td>Autauga County</td>\n",
       "      <td>Alabama</td>\n",
       "      <td>2019-11-01</td>\n",
       "      <td>2.993233</td>\n",
       "      <td>1243.0</td>\n",
       "      <td>0</td>\n",
       "      <td>11</td>\n",
       "      <td>2019</td>\n",
       "      <td>...</td>\n",
       "      <td>0.200729</td>\n",
       "      <td>0.058067</td>\n",
       "      <td>0.335228</td>\n",
       "      <td>4.0</td>\n",
       "      <td>26269.0</td>\n",
       "      <td>0.473759</td>\n",
       "      <td>NaN</td>\n",
       "      <td>NaN</td>\n",
       "      <td>NaN</td>\n",
       "      <td>NaN</td>\n",
       "    </tr>\n",
       "    <tr>\n",
       "      <th>4</th>\n",
       "      <td>1001_2019-12-01</td>\n",
       "      <td>1001</td>\n",
       "      <td>Autauga County</td>\n",
       "      <td>Alabama</td>\n",
       "      <td>2019-12-01</td>\n",
       "      <td>2.993233</td>\n",
       "      <td>1243.0</td>\n",
       "      <td>0</td>\n",
       "      <td>12</td>\n",
       "      <td>2019</td>\n",
       "      <td>...</td>\n",
       "      <td>0.200729</td>\n",
       "      <td>0.058067</td>\n",
       "      <td>0.335228</td>\n",
       "      <td>4.0</td>\n",
       "      <td>26269.0</td>\n",
       "      <td>0.473759</td>\n",
       "      <td>NaN</td>\n",
       "      <td>NaN</td>\n",
       "      <td>NaN</td>\n",
       "      <td>NaN</td>\n",
       "    </tr>\n",
       "    <tr>\n",
       "      <th>...</th>\n",
       "      <td>...</td>\n",
       "      <td>...</td>\n",
       "      <td>...</td>\n",
       "      <td>...</td>\n",
       "      <td>...</td>\n",
       "      <td>...</td>\n",
       "      <td>...</td>\n",
       "      <td>...</td>\n",
       "      <td>...</td>\n",
       "      <td>...</td>\n",
       "      <td>...</td>\n",
       "      <td>...</td>\n",
       "      <td>...</td>\n",
       "      <td>...</td>\n",
       "      <td>...</td>\n",
       "      <td>...</td>\n",
       "      <td>...</td>\n",
       "      <td>...</td>\n",
       "      <td>...</td>\n",
       "      <td>...</td>\n",
       "      <td>...</td>\n",
       "    </tr>\n",
       "    <tr>\n",
       "      <th>147340</th>\n",
       "      <td>56037_2023-06-01</td>\n",
       "      <td>56037</td>\n",
       "      <td>Sweetwater County</td>\n",
       "      <td>Wyoming</td>\n",
       "      <td>2023-06-01</td>\n",
       "      <td>NaN</td>\n",
       "      <td>NaN</td>\n",
       "      <td>2</td>\n",
       "      <td>6</td>\n",
       "      <td>2023</td>\n",
       "      <td>...</td>\n",
       "      <td>0.018185</td>\n",
       "      <td>0.000000</td>\n",
       "      <td>0.016977</td>\n",
       "      <td>5.6</td>\n",
       "      <td>19449.0</td>\n",
       "      <td>0.606852</td>\n",
       "      <td>NaN</td>\n",
       "      <td>NaN</td>\n",
       "      <td>NaN</td>\n",
       "      <td>NaN</td>\n",
       "    </tr>\n",
       "    <tr>\n",
       "      <th>147341</th>\n",
       "      <td>56039_2023-06-01</td>\n",
       "      <td>56039</td>\n",
       "      <td>Teton County</td>\n",
       "      <td>Wyoming</td>\n",
       "      <td>2023-06-01</td>\n",
       "      <td>NaN</td>\n",
       "      <td>NaN</td>\n",
       "      <td>2</td>\n",
       "      <td>6</td>\n",
       "      <td>2023</td>\n",
       "      <td>...</td>\n",
       "      <td>0.011065</td>\n",
       "      <td>0.000000</td>\n",
       "      <td>-0.000261</td>\n",
       "      <td>3.2</td>\n",
       "      <td>15886.0</td>\n",
       "      <td>0.828950</td>\n",
       "      <td>NaN</td>\n",
       "      <td>NaN</td>\n",
       "      <td>NaN</td>\n",
       "      <td>NaN</td>\n",
       "    </tr>\n",
       "    <tr>\n",
       "      <th>147342</th>\n",
       "      <td>56041_2023-06-01</td>\n",
       "      <td>56041</td>\n",
       "      <td>Uinta County</td>\n",
       "      <td>Wyoming</td>\n",
       "      <td>2023-06-01</td>\n",
       "      <td>NaN</td>\n",
       "      <td>NaN</td>\n",
       "      <td>2</td>\n",
       "      <td>6</td>\n",
       "      <td>2023</td>\n",
       "      <td>...</td>\n",
       "      <td>0.011031</td>\n",
       "      <td>0.000000</td>\n",
       "      <td>-0.008538</td>\n",
       "      <td>5.0</td>\n",
       "      <td>8832.0</td>\n",
       "      <td>0.608432</td>\n",
       "      <td>NaN</td>\n",
       "      <td>NaN</td>\n",
       "      <td>NaN</td>\n",
       "      <td>NaN</td>\n",
       "    </tr>\n",
       "    <tr>\n",
       "      <th>147343</th>\n",
       "      <td>56043_2023-06-01</td>\n",
       "      <td>56043</td>\n",
       "      <td>Washakie County</td>\n",
       "      <td>Wyoming</td>\n",
       "      <td>2023-06-01</td>\n",
       "      <td>NaN</td>\n",
       "      <td>NaN</td>\n",
       "      <td>2</td>\n",
       "      <td>6</td>\n",
       "      <td>2023</td>\n",
       "      <td>...</td>\n",
       "      <td>0.011856</td>\n",
       "      <td>0.000000</td>\n",
       "      <td>0.007500</td>\n",
       "      <td>4.0</td>\n",
       "      <td>3978.0</td>\n",
       "      <td>0.658065</td>\n",
       "      <td>NaN</td>\n",
       "      <td>NaN</td>\n",
       "      <td>NaN</td>\n",
       "      <td>NaN</td>\n",
       "    </tr>\n",
       "    <tr>\n",
       "      <th>147344</th>\n",
       "      <td>56045_2023-06-01</td>\n",
       "      <td>56045</td>\n",
       "      <td>Weston County</td>\n",
       "      <td>Wyoming</td>\n",
       "      <td>2023-06-01</td>\n",
       "      <td>NaN</td>\n",
       "      <td>NaN</td>\n",
       "      <td>2</td>\n",
       "      <td>6</td>\n",
       "      <td>2023</td>\n",
       "      <td>...</td>\n",
       "      <td>0.014534</td>\n",
       "      <td>0.000000</td>\n",
       "      <td>0.018549</td>\n",
       "      <td>3.2</td>\n",
       "      <td>3741.0</td>\n",
       "      <td>0.667916</td>\n",
       "      <td>NaN</td>\n",
       "      <td>NaN</td>\n",
       "      <td>NaN</td>\n",
       "      <td>NaN</td>\n",
       "    </tr>\n",
       "  </tbody>\n",
       "</table>\n",
       "<p>147345 rows × 37 columns</p>\n",
       "</div>"
      ],
      "text/plain": [
       "                  row_id  cfips             county    state  \\\n",
       "0        1001_2019-08-01   1001     Autauga County  Alabama   \n",
       "1        1001_2019-09-01   1001     Autauga County  Alabama   \n",
       "2        1001_2019-10-01   1001     Autauga County  Alabama   \n",
       "3        1001_2019-11-01   1001     Autauga County  Alabama   \n",
       "4        1001_2019-12-01   1001     Autauga County  Alabama   \n",
       "...                  ...    ...                ...      ...   \n",
       "147340  56037_2023-06-01  56037  Sweetwater County  Wyoming   \n",
       "147341  56039_2023-06-01  56039       Teton County  Wyoming   \n",
       "147342  56041_2023-06-01  56041       Uinta County  Wyoming   \n",
       "147343  56043_2023-06-01  56043    Washakie County  Wyoming   \n",
       "147344  56045_2023-06-01  56045      Weston County  Wyoming   \n",
       "\n",
       "       first_day_of_month  microbusiness_density  active  is_test  \\\n",
       "0              2019-08-01               3.007682  1249.0        0   \n",
       "1              2019-09-01               2.884870  1198.0        0   \n",
       "2              2019-10-01               3.055843  1269.0        0   \n",
       "3              2019-11-01               2.993233  1243.0        0   \n",
       "4              2019-12-01               2.993233  1243.0        0   \n",
       "...                   ...                    ...     ...      ...   \n",
       "147340         2023-06-01                    NaN     NaN        2   \n",
       "147341         2023-06-01                    NaN     NaN        2   \n",
       "147342         2023-06-01                    NaN     NaN        2   \n",
       "147343         2023-06-01                    NaN     NaN        2   \n",
       "147344         2023-06-01                    NaN     NaN        2   \n",
       "\n",
       "        month_from_month  year_from_month  ...  seer_black_pct  seer_pop_chg  \\\n",
       "0                      8             2019  ...        0.200729      0.058067   \n",
       "1                      9             2019  ...        0.200729      0.058067   \n",
       "2                     10             2019  ...        0.200729      0.058067   \n",
       "3                     11             2019  ...        0.200729      0.058067   \n",
       "4                     12             2019  ...        0.200729      0.058067   \n",
       "...                  ...              ...  ...             ...           ...   \n",
       "147340                 6             2023  ...        0.018185      0.000000   \n",
       "147341                 6             2023  ...        0.011065      0.000000   \n",
       "147342                 6             2023  ...        0.011031      0.000000   \n",
       "147343                 6             2023  ...        0.011856      0.000000   \n",
       "147344                 6             2023  ...        0.014534      0.000000   \n",
       "\n",
       "        seer_pop_ratio  unemployment_rate  labor_force  labor_participation  \\\n",
       "0             0.335228                4.0      26269.0             0.473759   \n",
       "1             0.335228                4.0      26269.0             0.473759   \n",
       "2             0.335228                4.0      26269.0             0.473759   \n",
       "3             0.335228                4.0      26269.0             0.473759   \n",
       "4             0.335228                4.0      26269.0             0.473759   \n",
       "...                ...                ...          ...                  ...   \n",
       "147340        0.016977                5.6      19449.0             0.606852   \n",
       "147341       -0.000261                3.2      15886.0             0.828950   \n",
       "147342       -0.008538                5.0       8832.0             0.608432   \n",
       "147343        0.007500                4.0       3978.0             0.658065   \n",
       "147344        0.018549                3.2       3741.0             0.667916   \n",
       "\n",
       "        MAI_composite  engagement  participation  infrastructure  \n",
       "0                 NaN         NaN            NaN             NaN  \n",
       "1                 NaN         NaN            NaN             NaN  \n",
       "2                 NaN         NaN            NaN             NaN  \n",
       "3                 NaN         NaN            NaN             NaN  \n",
       "4                 NaN         NaN            NaN             NaN  \n",
       "...               ...         ...            ...             ...  \n",
       "147340            NaN         NaN            NaN             NaN  \n",
       "147341            NaN         NaN            NaN             NaN  \n",
       "147342            NaN         NaN            NaN             NaN  \n",
       "147343            NaN         NaN            NaN             NaN  \n",
       "147344            NaN         NaN            NaN             NaN  \n",
       "\n",
       "[147345 rows x 37 columns]"
      ]
     },
     "execution_count": 14,
     "metadata": {},
     "output_type": "execute_result"
    }
   ],
   "source": [
    "tmp = pd.read_csv('C:/Users/User/kaggle/GoDaddy/VF_mai_counties_Q222.csv')\n",
    "tmp['first_day_of_month'] = pd.to_datetime(tmp['date'])\n",
    "data = data.merge(tmp.drop(['total_pop_20', 'county_name', 'date'], axis=1), how='left', on=['first_day_of_month', 'cfips'])\n",
    "data"
   ]
  },
  {
   "cell_type": "code",
   "execution_count": 15,
   "metadata": {},
   "outputs": [
    {
     "data": {
      "application/vnd.jupyter.widget-view+json": {
       "model_id": "d58cdb884fa64533a2dabed59d9ee4b3",
       "version_major": 2,
       "version_minor": 0
      },
      "text/plain": [
       "  0%|          | 0/3135 [00:00<?, ?it/s]"
      ]
     },
     "metadata": {},
     "output_type": "display_data"
    },
    {
     "data": {
      "text/html": [
       "<div>\n",
       "<style scoped>\n",
       "    .dataframe tbody tr th:only-of-type {\n",
       "        vertical-align: middle;\n",
       "    }\n",
       "\n",
       "    .dataframe tbody tr th {\n",
       "        vertical-align: top;\n",
       "    }\n",
       "\n",
       "    .dataframe thead th {\n",
       "        text-align: right;\n",
       "    }\n",
       "</style>\n",
       "<table border=\"1\" class=\"dataframe\">\n",
       "  <thead>\n",
       "    <tr style=\"text-align: right;\">\n",
       "      <th></th>\n",
       "      <th>row_id</th>\n",
       "      <th>cfips</th>\n",
       "      <th>county</th>\n",
       "      <th>state</th>\n",
       "      <th>first_day_of_month</th>\n",
       "      <th>microbusiness_density</th>\n",
       "      <th>active</th>\n",
       "      <th>is_test</th>\n",
       "      <th>month_from_month</th>\n",
       "      <th>year_from_month</th>\n",
       "      <th>...</th>\n",
       "      <th>seer_black_pct</th>\n",
       "      <th>seer_pop_chg</th>\n",
       "      <th>seer_pop_ratio</th>\n",
       "      <th>unemployment_rate</th>\n",
       "      <th>labor_force</th>\n",
       "      <th>labor_participation</th>\n",
       "      <th>MAI_composite</th>\n",
       "      <th>engagement</th>\n",
       "      <th>participation</th>\n",
       "      <th>infrastructure</th>\n",
       "    </tr>\n",
       "  </thead>\n",
       "  <tbody>\n",
       "    <tr>\n",
       "      <th>0</th>\n",
       "      <td>1001_2019-08-01</td>\n",
       "      <td>1001</td>\n",
       "      <td>Autauga County</td>\n",
       "      <td>Alabama</td>\n",
       "      <td>2019-08-01</td>\n",
       "      <td>3.007682</td>\n",
       "      <td>1249.0</td>\n",
       "      <td>0</td>\n",
       "      <td>8</td>\n",
       "      <td>2019</td>\n",
       "      <td>...</td>\n",
       "      <td>0.200729</td>\n",
       "      <td>0.058067</td>\n",
       "      <td>0.335228</td>\n",
       "      <td>4.0</td>\n",
       "      <td>26269.0</td>\n",
       "      <td>0.473759</td>\n",
       "      <td>97.00</td>\n",
       "      <td>87.91</td>\n",
       "      <td>99.39</td>\n",
       "      <td>106.99</td>\n",
       "    </tr>\n",
       "    <tr>\n",
       "      <th>1</th>\n",
       "      <td>1001_2019-09-01</td>\n",
       "      <td>1001</td>\n",
       "      <td>Autauga County</td>\n",
       "      <td>Alabama</td>\n",
       "      <td>2019-09-01</td>\n",
       "      <td>2.884870</td>\n",
       "      <td>1198.0</td>\n",
       "      <td>0</td>\n",
       "      <td>9</td>\n",
       "      <td>2019</td>\n",
       "      <td>...</td>\n",
       "      <td>0.200729</td>\n",
       "      <td>0.058067</td>\n",
       "      <td>0.335228</td>\n",
       "      <td>4.0</td>\n",
       "      <td>26269.0</td>\n",
       "      <td>0.473759</td>\n",
       "      <td>97.00</td>\n",
       "      <td>87.91</td>\n",
       "      <td>99.39</td>\n",
       "      <td>106.99</td>\n",
       "    </tr>\n",
       "    <tr>\n",
       "      <th>2</th>\n",
       "      <td>1001_2019-10-01</td>\n",
       "      <td>1001</td>\n",
       "      <td>Autauga County</td>\n",
       "      <td>Alabama</td>\n",
       "      <td>2019-10-01</td>\n",
       "      <td>3.055843</td>\n",
       "      <td>1269.0</td>\n",
       "      <td>0</td>\n",
       "      <td>10</td>\n",
       "      <td>2019</td>\n",
       "      <td>...</td>\n",
       "      <td>0.200729</td>\n",
       "      <td>0.058067</td>\n",
       "      <td>0.335228</td>\n",
       "      <td>4.0</td>\n",
       "      <td>26269.0</td>\n",
       "      <td>0.473759</td>\n",
       "      <td>97.00</td>\n",
       "      <td>87.91</td>\n",
       "      <td>99.39</td>\n",
       "      <td>106.99</td>\n",
       "    </tr>\n",
       "    <tr>\n",
       "      <th>3</th>\n",
       "      <td>1001_2019-11-01</td>\n",
       "      <td>1001</td>\n",
       "      <td>Autauga County</td>\n",
       "      <td>Alabama</td>\n",
       "      <td>2019-11-01</td>\n",
       "      <td>2.993233</td>\n",
       "      <td>1243.0</td>\n",
       "      <td>0</td>\n",
       "      <td>11</td>\n",
       "      <td>2019</td>\n",
       "      <td>...</td>\n",
       "      <td>0.200729</td>\n",
       "      <td>0.058067</td>\n",
       "      <td>0.335228</td>\n",
       "      <td>4.0</td>\n",
       "      <td>26269.0</td>\n",
       "      <td>0.473759</td>\n",
       "      <td>97.00</td>\n",
       "      <td>87.91</td>\n",
       "      <td>99.39</td>\n",
       "      <td>106.99</td>\n",
       "    </tr>\n",
       "    <tr>\n",
       "      <th>4</th>\n",
       "      <td>1001_2019-12-01</td>\n",
       "      <td>1001</td>\n",
       "      <td>Autauga County</td>\n",
       "      <td>Alabama</td>\n",
       "      <td>2019-12-01</td>\n",
       "      <td>2.993233</td>\n",
       "      <td>1243.0</td>\n",
       "      <td>0</td>\n",
       "      <td>12</td>\n",
       "      <td>2019</td>\n",
       "      <td>...</td>\n",
       "      <td>0.200729</td>\n",
       "      <td>0.058067</td>\n",
       "      <td>0.335228</td>\n",
       "      <td>4.0</td>\n",
       "      <td>26269.0</td>\n",
       "      <td>0.473759</td>\n",
       "      <td>97.00</td>\n",
       "      <td>87.91</td>\n",
       "      <td>99.39</td>\n",
       "      <td>106.99</td>\n",
       "    </tr>\n",
       "    <tr>\n",
       "      <th>...</th>\n",
       "      <td>...</td>\n",
       "      <td>...</td>\n",
       "      <td>...</td>\n",
       "      <td>...</td>\n",
       "      <td>...</td>\n",
       "      <td>...</td>\n",
       "      <td>...</td>\n",
       "      <td>...</td>\n",
       "      <td>...</td>\n",
       "      <td>...</td>\n",
       "      <td>...</td>\n",
       "      <td>...</td>\n",
       "      <td>...</td>\n",
       "      <td>...</td>\n",
       "      <td>...</td>\n",
       "      <td>...</td>\n",
       "      <td>...</td>\n",
       "      <td>...</td>\n",
       "      <td>...</td>\n",
       "      <td>...</td>\n",
       "      <td>...</td>\n",
       "    </tr>\n",
       "    <tr>\n",
       "      <th>147340</th>\n",
       "      <td>56037_2023-06-01</td>\n",
       "      <td>56037</td>\n",
       "      <td>Sweetwater County</td>\n",
       "      <td>Wyoming</td>\n",
       "      <td>2023-06-01</td>\n",
       "      <td>NaN</td>\n",
       "      <td>NaN</td>\n",
       "      <td>2</td>\n",
       "      <td>6</td>\n",
       "      <td>2023</td>\n",
       "      <td>...</td>\n",
       "      <td>0.018185</td>\n",
       "      <td>0.000000</td>\n",
       "      <td>0.016977</td>\n",
       "      <td>5.6</td>\n",
       "      <td>19449.0</td>\n",
       "      <td>0.606852</td>\n",
       "      <td>108.31</td>\n",
       "      <td>112.71</td>\n",
       "      <td>100.67</td>\n",
       "      <td>112.74</td>\n",
       "    </tr>\n",
       "    <tr>\n",
       "      <th>147341</th>\n",
       "      <td>56039_2023-06-01</td>\n",
       "      <td>56039</td>\n",
       "      <td>Teton County</td>\n",
       "      <td>Wyoming</td>\n",
       "      <td>2023-06-01</td>\n",
       "      <td>NaN</td>\n",
       "      <td>NaN</td>\n",
       "      <td>2</td>\n",
       "      <td>6</td>\n",
       "      <td>2023</td>\n",
       "      <td>...</td>\n",
       "      <td>0.011065</td>\n",
       "      <td>0.000000</td>\n",
       "      <td>-0.000261</td>\n",
       "      <td>3.2</td>\n",
       "      <td>15886.0</td>\n",
       "      <td>0.828950</td>\n",
       "      <td>119.29</td>\n",
       "      <td>116.97</td>\n",
       "      <td>108.08</td>\n",
       "      <td>127.14</td>\n",
       "    </tr>\n",
       "    <tr>\n",
       "      <th>147342</th>\n",
       "      <td>56041_2023-06-01</td>\n",
       "      <td>56041</td>\n",
       "      <td>Uinta County</td>\n",
       "      <td>Wyoming</td>\n",
       "      <td>2023-06-01</td>\n",
       "      <td>NaN</td>\n",
       "      <td>NaN</td>\n",
       "      <td>2</td>\n",
       "      <td>6</td>\n",
       "      <td>2023</td>\n",
       "      <td>...</td>\n",
       "      <td>0.011031</td>\n",
       "      <td>0.000000</td>\n",
       "      <td>-0.008538</td>\n",
       "      <td>5.0</td>\n",
       "      <td>8832.0</td>\n",
       "      <td>0.608432</td>\n",
       "      <td>109.50</td>\n",
       "      <td>111.99</td>\n",
       "      <td>101.93</td>\n",
       "      <td>114.58</td>\n",
       "    </tr>\n",
       "    <tr>\n",
       "      <th>147343</th>\n",
       "      <td>56043_2023-06-01</td>\n",
       "      <td>56043</td>\n",
       "      <td>Washakie County</td>\n",
       "      <td>Wyoming</td>\n",
       "      <td>2023-06-01</td>\n",
       "      <td>NaN</td>\n",
       "      <td>NaN</td>\n",
       "      <td>2</td>\n",
       "      <td>6</td>\n",
       "      <td>2023</td>\n",
       "      <td>...</td>\n",
       "      <td>0.011856</td>\n",
       "      <td>0.000000</td>\n",
       "      <td>0.007500</td>\n",
       "      <td>4.0</td>\n",
       "      <td>3978.0</td>\n",
       "      <td>0.658065</td>\n",
       "      <td>NaN</td>\n",
       "      <td>NaN</td>\n",
       "      <td>NaN</td>\n",
       "      <td>NaN</td>\n",
       "    </tr>\n",
       "    <tr>\n",
       "      <th>147344</th>\n",
       "      <td>56045_2023-06-01</td>\n",
       "      <td>56045</td>\n",
       "      <td>Weston County</td>\n",
       "      <td>Wyoming</td>\n",
       "      <td>2023-06-01</td>\n",
       "      <td>NaN</td>\n",
       "      <td>NaN</td>\n",
       "      <td>2</td>\n",
       "      <td>6</td>\n",
       "      <td>2023</td>\n",
       "      <td>...</td>\n",
       "      <td>0.014534</td>\n",
       "      <td>0.000000</td>\n",
       "      <td>0.018549</td>\n",
       "      <td>3.2</td>\n",
       "      <td>3741.0</td>\n",
       "      <td>0.667916</td>\n",
       "      <td>104.17</td>\n",
       "      <td>111.17</td>\n",
       "      <td>98.66</td>\n",
       "      <td>104.82</td>\n",
       "    </tr>\n",
       "  </tbody>\n",
       "</table>\n",
       "<p>147345 rows × 37 columns</p>\n",
       "</div>"
      ],
      "text/plain": [
       "                  row_id  cfips             county    state  \\\n",
       "0        1001_2019-08-01   1001     Autauga County  Alabama   \n",
       "1        1001_2019-09-01   1001     Autauga County  Alabama   \n",
       "2        1001_2019-10-01   1001     Autauga County  Alabama   \n",
       "3        1001_2019-11-01   1001     Autauga County  Alabama   \n",
       "4        1001_2019-12-01   1001     Autauga County  Alabama   \n",
       "...                  ...    ...                ...      ...   \n",
       "147340  56037_2023-06-01  56037  Sweetwater County  Wyoming   \n",
       "147341  56039_2023-06-01  56039       Teton County  Wyoming   \n",
       "147342  56041_2023-06-01  56041       Uinta County  Wyoming   \n",
       "147343  56043_2023-06-01  56043    Washakie County  Wyoming   \n",
       "147344  56045_2023-06-01  56045      Weston County  Wyoming   \n",
       "\n",
       "       first_day_of_month  microbusiness_density  active  is_test  \\\n",
       "0              2019-08-01               3.007682  1249.0        0   \n",
       "1              2019-09-01               2.884870  1198.0        0   \n",
       "2              2019-10-01               3.055843  1269.0        0   \n",
       "3              2019-11-01               2.993233  1243.0        0   \n",
       "4              2019-12-01               2.993233  1243.0        0   \n",
       "...                   ...                    ...     ...      ...   \n",
       "147340         2023-06-01                    NaN     NaN        2   \n",
       "147341         2023-06-01                    NaN     NaN        2   \n",
       "147342         2023-06-01                    NaN     NaN        2   \n",
       "147343         2023-06-01                    NaN     NaN        2   \n",
       "147344         2023-06-01                    NaN     NaN        2   \n",
       "\n",
       "        month_from_month  year_from_month  ...  seer_black_pct  seer_pop_chg  \\\n",
       "0                      8             2019  ...        0.200729      0.058067   \n",
       "1                      9             2019  ...        0.200729      0.058067   \n",
       "2                     10             2019  ...        0.200729      0.058067   \n",
       "3                     11             2019  ...        0.200729      0.058067   \n",
       "4                     12             2019  ...        0.200729      0.058067   \n",
       "...                  ...              ...  ...             ...           ...   \n",
       "147340                 6             2023  ...        0.018185      0.000000   \n",
       "147341                 6             2023  ...        0.011065      0.000000   \n",
       "147342                 6             2023  ...        0.011031      0.000000   \n",
       "147343                 6             2023  ...        0.011856      0.000000   \n",
       "147344                 6             2023  ...        0.014534      0.000000   \n",
       "\n",
       "        seer_pop_ratio  unemployment_rate  labor_force  labor_participation  \\\n",
       "0             0.335228                4.0      26269.0             0.473759   \n",
       "1             0.335228                4.0      26269.0             0.473759   \n",
       "2             0.335228                4.0      26269.0             0.473759   \n",
       "3             0.335228                4.0      26269.0             0.473759   \n",
       "4             0.335228                4.0      26269.0             0.473759   \n",
       "...                ...                ...          ...                  ...   \n",
       "147340        0.016977                5.6      19449.0             0.606852   \n",
       "147341       -0.000261                3.2      15886.0             0.828950   \n",
       "147342       -0.008538                5.0       8832.0             0.608432   \n",
       "147343        0.007500                4.0       3978.0             0.658065   \n",
       "147344        0.018549                3.2       3741.0             0.667916   \n",
       "\n",
       "        MAI_composite  engagement  participation  infrastructure  \n",
       "0               97.00       87.91          99.39          106.99  \n",
       "1               97.00       87.91          99.39          106.99  \n",
       "2               97.00       87.91          99.39          106.99  \n",
       "3               97.00       87.91          99.39          106.99  \n",
       "4               97.00       87.91          99.39          106.99  \n",
       "...               ...         ...            ...             ...  \n",
       "147340         108.31      112.71         100.67          112.74  \n",
       "147341         119.29      116.97         108.08          127.14  \n",
       "147342         109.50      111.99         101.93          114.58  \n",
       "147343            NaN         NaN            NaN             NaN  \n",
       "147344         104.17      111.17          98.66          104.82  \n",
       "\n",
       "[147345 rows x 37 columns]"
      ]
     },
     "execution_count": 15,
     "metadata": {},
     "output_type": "execute_result"
    }
   ],
   "source": [
    "# Fill missing data\n",
    "for cfips in tqdm(data['cfips'].unique()):\n",
    "    mask = data.cfips == cfips\n",
    "    for c in ['MAI_composite', 'engagement', 'participation', 'infrastructure']:\n",
    "        data.loc[mask, c] = data.loc[mask, c].bfill().ffill()\n",
    "        \n",
    "data"
   ]
  },
  {
   "cell_type": "code",
   "execution_count": 16,
   "metadata": {},
   "outputs": [
    {
     "data": {
      "text/html": [
       "<div>\n",
       "<style scoped>\n",
       "    .dataframe tbody tr th:only-of-type {\n",
       "        vertical-align: middle;\n",
       "    }\n",
       "\n",
       "    .dataframe tbody tr th {\n",
       "        vertical-align: top;\n",
       "    }\n",
       "\n",
       "    .dataframe thead th {\n",
       "        text-align: right;\n",
       "    }\n",
       "</style>\n",
       "<table border=\"1\" class=\"dataframe\">\n",
       "  <thead>\n",
       "    <tr style=\"text-align: right;\">\n",
       "      <th></th>\n",
       "      <th>count</th>\n",
       "      <th>mean</th>\n",
       "      <th>std</th>\n",
       "      <th>min</th>\n",
       "      <th>25%</th>\n",
       "      <th>50%</th>\n",
       "      <th>75%</th>\n",
       "      <th>max</th>\n",
       "    </tr>\n",
       "  </thead>\n",
       "  <tbody>\n",
       "    <tr>\n",
       "      <th>cfips</th>\n",
       "      <td>147345.0</td>\n",
       "      <td>30376.037640</td>\n",
       "      <td>15143.498180</td>\n",
       "      <td>1001.000000</td>\n",
       "      <td>18177.000000</td>\n",
       "      <td>29173.000000</td>\n",
       "      <td>45077.000000</td>\n",
       "      <td>5.604500e+04</td>\n",
       "    </tr>\n",
       "    <tr>\n",
       "      <th>microbusiness_density</th>\n",
       "      <td>128535.0</td>\n",
       "      <td>3.827817</td>\n",
       "      <td>5.059306</td>\n",
       "      <td>0.000000</td>\n",
       "      <td>1.642628</td>\n",
       "      <td>2.591420</td>\n",
       "      <td>4.525830</td>\n",
       "      <td>2.843400e+02</td>\n",
       "    </tr>\n",
       "    <tr>\n",
       "      <th>active</th>\n",
       "      <td>128535.0</td>\n",
       "      <td>6461.169277</td>\n",
       "      <td>33117.587584</td>\n",
       "      <td>0.000000</td>\n",
       "      <td>145.000000</td>\n",
       "      <td>490.000000</td>\n",
       "      <td>2126.500000</td>\n",
       "      <td>1.167744e+06</td>\n",
       "    </tr>\n",
       "    <tr>\n",
       "      <th>is_test</th>\n",
       "      <td>147345.0</td>\n",
       "      <td>0.297872</td>\n",
       "      <td>0.681518</td>\n",
       "      <td>0.000000</td>\n",
       "      <td>0.000000</td>\n",
       "      <td>0.000000</td>\n",
       "      <td>0.000000</td>\n",
       "      <td>2.000000e+00</td>\n",
       "    </tr>\n",
       "    <tr>\n",
       "      <th>month_from_month</th>\n",
       "      <td>147345.0</td>\n",
       "      <td>6.489362</td>\n",
       "      <td>3.487816</td>\n",
       "      <td>1.000000</td>\n",
       "      <td>3.000000</td>\n",
       "      <td>6.000000</td>\n",
       "      <td>10.000000</td>\n",
       "      <td>1.200000e+01</td>\n",
       "    </tr>\n",
       "    <tr>\n",
       "      <th>year_from_month</th>\n",
       "      <td>147345.0</td>\n",
       "      <td>2021.042553</td>\n",
       "      <td>1.202085</td>\n",
       "      <td>2019.000000</td>\n",
       "      <td>2020.000000</td>\n",
       "      <td>2021.000000</td>\n",
       "      <td>2022.000000</td>\n",
       "      <td>2.023000e+03</td>\n",
       "    </tr>\n",
       "    <tr>\n",
       "      <th>population_year_minus_two</th>\n",
       "      <td>147345.0</td>\n",
       "      <td>80093.848149</td>\n",
       "      <td>255895.853313</td>\n",
       "      <td>64.999999</td>\n",
       "      <td>8483.000006</td>\n",
       "      <td>20213.000103</td>\n",
       "      <td>52795.999434</td>\n",
       "      <td>7.866810e+06</td>\n",
       "    </tr>\n",
       "    <tr>\n",
       "      <th>population_year</th>\n",
       "      <td>147345.0</td>\n",
       "      <td>2019.042553</td>\n",
       "      <td>1.202085</td>\n",
       "      <td>2017.000000</td>\n",
       "      <td>2018.000000</td>\n",
       "      <td>2019.000000</td>\n",
       "      <td>2020.000000</td>\n",
       "      <td>2.021000e+03</td>\n",
       "    </tr>\n",
       "    <tr>\n",
       "      <th>lng</th>\n",
       "      <td>147345.0</td>\n",
       "      <td>-92.234642</td>\n",
       "      <td>12.769139</td>\n",
       "      <td>-164.031581</td>\n",
       "      <td>-98.218223</td>\n",
       "      <td>-90.396557</td>\n",
       "      <td>-83.446525</td>\n",
       "      <td>-6.762911e+01</td>\n",
       "    </tr>\n",
       "    <tr>\n",
       "      <th>lat</th>\n",
       "      <td>147345.0</td>\n",
       "      <td>38.439765</td>\n",
       "      <td>5.278955</td>\n",
       "      <td>19.601235</td>\n",
       "      <td>34.689784</td>\n",
       "      <td>38.372872</td>\n",
       "      <td>41.806699</td>\n",
       "      <td>6.931508e+01</td>\n",
       "    </tr>\n",
       "    <tr>\n",
       "      <th>used_population</th>\n",
       "      <td>147345.0</td>\n",
       "      <td>80184.162754</td>\n",
       "      <td>256111.095357</td>\n",
       "      <td>47.000000</td>\n",
       "      <td>8476.000000</td>\n",
       "      <td>20213.000000</td>\n",
       "      <td>52796.000000</td>\n",
       "      <td>7.866810e+06</td>\n",
       "    </tr>\n",
       "    <tr>\n",
       "      <th>retired_population</th>\n",
       "      <td>147345.0</td>\n",
       "      <td>22577.773857</td>\n",
       "      <td>64933.262503</td>\n",
       "      <td>15.000000</td>\n",
       "      <td>2907.000000</td>\n",
       "      <td>6566.000000</td>\n",
       "      <td>16812.000000</td>\n",
       "      <td>1.951249e+06</td>\n",
       "    </tr>\n",
       "    <tr>\n",
       "      <th>pct_bb_last_year</th>\n",
       "      <td>147345.0</td>\n",
       "      <td>75.599703</td>\n",
       "      <td>9.377404</td>\n",
       "      <td>24.500000</td>\n",
       "      <td>70.300000</td>\n",
       "      <td>76.700000</td>\n",
       "      <td>82.200000</td>\n",
       "      <td>9.760000e+01</td>\n",
       "    </tr>\n",
       "    <tr>\n",
       "      <th>pct_college_last_year</th>\n",
       "      <td>147345.0</td>\n",
       "      <td>14.319693</td>\n",
       "      <td>5.712328</td>\n",
       "      <td>0.000000</td>\n",
       "      <td>10.200000</td>\n",
       "      <td>13.300000</td>\n",
       "      <td>17.400000</td>\n",
       "      <td>4.800000e+01</td>\n",
       "    </tr>\n",
       "    <tr>\n",
       "      <th>pct_foreign_born_last_year</th>\n",
       "      <td>147345.0</td>\n",
       "      <td>4.745629</td>\n",
       "      <td>5.712090</td>\n",
       "      <td>0.000000</td>\n",
       "      <td>1.400000</td>\n",
       "      <td>2.700000</td>\n",
       "      <td>5.700000</td>\n",
       "      <td>5.400000e+01</td>\n",
       "    </tr>\n",
       "    <tr>\n",
       "      <th>pct_it_workers_last_year</th>\n",
       "      <td>147333.0</td>\n",
       "      <td>1.343501</td>\n",
       "      <td>0.962841</td>\n",
       "      <td>0.000000</td>\n",
       "      <td>0.700000</td>\n",
       "      <td>1.200000</td>\n",
       "      <td>1.800000</td>\n",
       "      <td>1.740000e+01</td>\n",
       "    </tr>\n",
       "    <tr>\n",
       "      <th>median_hh_inc_last_year</th>\n",
       "      <td>147315.0</td>\n",
       "      <td>53618.899786</td>\n",
       "      <td>14454.126528</td>\n",
       "      <td>17109.000000</td>\n",
       "      <td>44090.000000</td>\n",
       "      <td>51750.000000</td>\n",
       "      <td>60102.000000</td>\n",
       "      <td>1.568210e+05</td>\n",
       "    </tr>\n",
       "    <tr>\n",
       "      <th>neighbor_average</th>\n",
       "      <td>128535.0</td>\n",
       "      <td>3.807657</td>\n",
       "      <td>2.841301</td>\n",
       "      <td>0.143384</td>\n",
       "      <td>2.104187</td>\n",
       "      <td>2.987306</td>\n",
       "      <td>4.599506</td>\n",
       "      <td>7.912341e+01</td>\n",
       "    </tr>\n",
       "    <tr>\n",
       "      <th>neighbor_diff</th>\n",
       "      <td>128535.0</td>\n",
       "      <td>0.402321</td>\n",
       "      <td>1.287912</td>\n",
       "      <td>-0.988835</td>\n",
       "      <td>-0.186483</td>\n",
       "      <td>0.159061</td>\n",
       "      <td>0.649698</td>\n",
       "      <td>5.067369e+01</td>\n",
       "    </tr>\n",
       "    <tr>\n",
       "      <th>seer_pop</th>\n",
       "      <td>147345.0</td>\n",
       "      <td>101515.549445</td>\n",
       "      <td>324573.858692</td>\n",
       "      <td>87.000000</td>\n",
       "      <td>10649.000000</td>\n",
       "      <td>25218.000000</td>\n",
       "      <td>66740.000000</td>\n",
       "      <td>1.009236e+07</td>\n",
       "    </tr>\n",
       "    <tr>\n",
       "      <th>seer_working_pct</th>\n",
       "      <td>147298.0</td>\n",
       "      <td>0.417160</td>\n",
       "      <td>0.046339</td>\n",
       "      <td>0.199988</td>\n",
       "      <td>0.389149</td>\n",
       "      <td>0.416651</td>\n",
       "      <td>0.444013</td>\n",
       "      <td>6.622951e-01</td>\n",
       "    </tr>\n",
       "    <tr>\n",
       "      <th>seer_working_male_pct</th>\n",
       "      <td>147298.0</td>\n",
       "      <td>0.214876</td>\n",
       "      <td>0.033882</td>\n",
       "      <td>0.120409</td>\n",
       "      <td>0.195901</td>\n",
       "      <td>0.209874</td>\n",
       "      <td>0.226590</td>\n",
       "      <td>5.339790e-01</td>\n",
       "    </tr>\n",
       "    <tr>\n",
       "      <th>seer_white_pct</th>\n",
       "      <td>147298.0</td>\n",
       "      <td>0.855608</td>\n",
       "      <td>0.162917</td>\n",
       "      <td>0.083665</td>\n",
       "      <td>0.810076</td>\n",
       "      <td>0.925245</td>\n",
       "      <td>0.964841</td>\n",
       "      <td>9.944584e-01</td>\n",
       "    </tr>\n",
       "    <tr>\n",
       "      <th>seer_black_pct</th>\n",
       "      <td>147293.0</td>\n",
       "      <td>0.099939</td>\n",
       "      <td>0.145966</td>\n",
       "      <td>0.000502</td>\n",
       "      <td>0.013633</td>\n",
       "      <td>0.031486</td>\n",
       "      <td>0.116552</td>\n",
       "      <td>8.715270e-01</td>\n",
       "    </tr>\n",
       "    <tr>\n",
       "      <th>seer_pop_chg</th>\n",
       "      <td>147345.0</td>\n",
       "      <td>0.012833</td>\n",
       "      <td>0.089447</td>\n",
       "      <td>-0.347858</td>\n",
       "      <td>-0.036562</td>\n",
       "      <td>0.000000</td>\n",
       "      <td>0.042383</td>\n",
       "      <td>1.442623e+00</td>\n",
       "    </tr>\n",
       "    <tr>\n",
       "      <th>seer_pop_ratio</th>\n",
       "      <td>147345.0</td>\n",
       "      <td>0.255634</td>\n",
       "      <td>0.130084</td>\n",
       "      <td>-0.800000</td>\n",
       "      <td>0.226263</td>\n",
       "      <td>0.275983</td>\n",
       "      <td>0.316770</td>\n",
       "      <td>8.255319e+00</td>\n",
       "    </tr>\n",
       "    <tr>\n",
       "      <th>unemployment_rate</th>\n",
       "      <td>147298.0</td>\n",
       "      <td>4.855731</td>\n",
       "      <td>2.098715</td>\n",
       "      <td>0.800000</td>\n",
       "      <td>3.400000</td>\n",
       "      <td>4.400000</td>\n",
       "      <td>5.900000</td>\n",
       "      <td>2.280000e+01</td>\n",
       "    </tr>\n",
       "    <tr>\n",
       "      <th>labor_force</th>\n",
       "      <td>147298.0</td>\n",
       "      <td>51718.187681</td>\n",
       "      <td>168389.622738</td>\n",
       "      <td>100.000000</td>\n",
       "      <td>4898.000000</td>\n",
       "      <td>11617.000000</td>\n",
       "      <td>31859.000000</td>\n",
       "      <td>5.153091e+06</td>\n",
       "    </tr>\n",
       "    <tr>\n",
       "      <th>labor_participation</th>\n",
       "      <td>147298.0</td>\n",
       "      <td>0.486757</td>\n",
       "      <td>0.097470</td>\n",
       "      <td>0.181878</td>\n",
       "      <td>0.429608</td>\n",
       "      <td>0.481290</td>\n",
       "      <td>0.534915</td>\n",
       "      <td>4.813187e+00</td>\n",
       "    </tr>\n",
       "    <tr>\n",
       "      <th>MAI_composite</th>\n",
       "      <td>123422.0</td>\n",
       "      <td>103.605697</td>\n",
       "      <td>6.404095</td>\n",
       "      <td>23.810000</td>\n",
       "      <td>99.760000</td>\n",
       "      <td>103.850000</td>\n",
       "      <td>107.800000</td>\n",
       "      <td>1.238100e+02</td>\n",
       "    </tr>\n",
       "    <tr>\n",
       "      <th>engagement</th>\n",
       "      <td>123422.0</td>\n",
       "      <td>106.793507</td>\n",
       "      <td>9.109727</td>\n",
       "      <td>44.470000</td>\n",
       "      <td>100.840000</td>\n",
       "      <td>107.430000</td>\n",
       "      <td>112.960000</td>\n",
       "      <td>1.444700e+02</td>\n",
       "    </tr>\n",
       "    <tr>\n",
       "      <th>participation</th>\n",
       "      <td>123422.0</td>\n",
       "      <td>100.787792</td>\n",
       "      <td>3.977824</td>\n",
       "      <td>11.970000</td>\n",
       "      <td>98.920000</td>\n",
       "      <td>100.530000</td>\n",
       "      <td>102.450000</td>\n",
       "      <td>1.119700e+02</td>\n",
       "    </tr>\n",
       "    <tr>\n",
       "      <th>infrastructure</th>\n",
       "      <td>123422.0</td>\n",
       "      <td>102.228915</td>\n",
       "      <td>12.052233</td>\n",
       "      <td>42.080000</td>\n",
       "      <td>94.910000</td>\n",
       "      <td>102.640000</td>\n",
       "      <td>110.060000</td>\n",
       "      <td>1.420800e+02</td>\n",
       "    </tr>\n",
       "  </tbody>\n",
       "</table>\n",
       "</div>"
      ],
      "text/plain": [
       "                               count           mean            std  \\\n",
       "cfips                       147345.0   30376.037640   15143.498180   \n",
       "microbusiness_density       128535.0       3.827817       5.059306   \n",
       "active                      128535.0    6461.169277   33117.587584   \n",
       "is_test                     147345.0       0.297872       0.681518   \n",
       "month_from_month            147345.0       6.489362       3.487816   \n",
       "year_from_month             147345.0    2021.042553       1.202085   \n",
       "population_year_minus_two   147345.0   80093.848149  255895.853313   \n",
       "population_year             147345.0    2019.042553       1.202085   \n",
       "lng                         147345.0     -92.234642      12.769139   \n",
       "lat                         147345.0      38.439765       5.278955   \n",
       "used_population             147345.0   80184.162754  256111.095357   \n",
       "retired_population          147345.0   22577.773857   64933.262503   \n",
       "pct_bb_last_year            147345.0      75.599703       9.377404   \n",
       "pct_college_last_year       147345.0      14.319693       5.712328   \n",
       "pct_foreign_born_last_year  147345.0       4.745629       5.712090   \n",
       "pct_it_workers_last_year    147333.0       1.343501       0.962841   \n",
       "median_hh_inc_last_year     147315.0   53618.899786   14454.126528   \n",
       "neighbor_average            128535.0       3.807657       2.841301   \n",
       "neighbor_diff               128535.0       0.402321       1.287912   \n",
       "seer_pop                    147345.0  101515.549445  324573.858692   \n",
       "seer_working_pct            147298.0       0.417160       0.046339   \n",
       "seer_working_male_pct       147298.0       0.214876       0.033882   \n",
       "seer_white_pct              147298.0       0.855608       0.162917   \n",
       "seer_black_pct              147293.0       0.099939       0.145966   \n",
       "seer_pop_chg                147345.0       0.012833       0.089447   \n",
       "seer_pop_ratio              147345.0       0.255634       0.130084   \n",
       "unemployment_rate           147298.0       4.855731       2.098715   \n",
       "labor_force                 147298.0   51718.187681  168389.622738   \n",
       "labor_participation         147298.0       0.486757       0.097470   \n",
       "MAI_composite               123422.0     103.605697       6.404095   \n",
       "engagement                  123422.0     106.793507       9.109727   \n",
       "participation               123422.0     100.787792       3.977824   \n",
       "infrastructure              123422.0     102.228915      12.052233   \n",
       "\n",
       "                                     min           25%           50%  \\\n",
       "cfips                        1001.000000  18177.000000  29173.000000   \n",
       "microbusiness_density           0.000000      1.642628      2.591420   \n",
       "active                          0.000000    145.000000    490.000000   \n",
       "is_test                         0.000000      0.000000      0.000000   \n",
       "month_from_month                1.000000      3.000000      6.000000   \n",
       "year_from_month              2019.000000   2020.000000   2021.000000   \n",
       "population_year_minus_two      64.999999   8483.000006  20213.000103   \n",
       "population_year              2017.000000   2018.000000   2019.000000   \n",
       "lng                          -164.031581    -98.218223    -90.396557   \n",
       "lat                            19.601235     34.689784     38.372872   \n",
       "used_population                47.000000   8476.000000  20213.000000   \n",
       "retired_population             15.000000   2907.000000   6566.000000   \n",
       "pct_bb_last_year               24.500000     70.300000     76.700000   \n",
       "pct_college_last_year           0.000000     10.200000     13.300000   \n",
       "pct_foreign_born_last_year      0.000000      1.400000      2.700000   \n",
       "pct_it_workers_last_year        0.000000      0.700000      1.200000   \n",
       "median_hh_inc_last_year     17109.000000  44090.000000  51750.000000   \n",
       "neighbor_average                0.143384      2.104187      2.987306   \n",
       "neighbor_diff                  -0.988835     -0.186483      0.159061   \n",
       "seer_pop                       87.000000  10649.000000  25218.000000   \n",
       "seer_working_pct                0.199988      0.389149      0.416651   \n",
       "seer_working_male_pct           0.120409      0.195901      0.209874   \n",
       "seer_white_pct                  0.083665      0.810076      0.925245   \n",
       "seer_black_pct                  0.000502      0.013633      0.031486   \n",
       "seer_pop_chg                   -0.347858     -0.036562      0.000000   \n",
       "seer_pop_ratio                 -0.800000      0.226263      0.275983   \n",
       "unemployment_rate               0.800000      3.400000      4.400000   \n",
       "labor_force                   100.000000   4898.000000  11617.000000   \n",
       "labor_participation             0.181878      0.429608      0.481290   \n",
       "MAI_composite                  23.810000     99.760000    103.850000   \n",
       "engagement                     44.470000    100.840000    107.430000   \n",
       "participation                  11.970000     98.920000    100.530000   \n",
       "infrastructure                 42.080000     94.910000    102.640000   \n",
       "\n",
       "                                     75%           max  \n",
       "cfips                       45077.000000  5.604500e+04  \n",
       "microbusiness_density           4.525830  2.843400e+02  \n",
       "active                       2126.500000  1.167744e+06  \n",
       "is_test                         0.000000  2.000000e+00  \n",
       "month_from_month               10.000000  1.200000e+01  \n",
       "year_from_month              2022.000000  2.023000e+03  \n",
       "population_year_minus_two   52795.999434  7.866810e+06  \n",
       "population_year              2020.000000  2.021000e+03  \n",
       "lng                           -83.446525 -6.762911e+01  \n",
       "lat                            41.806699  6.931508e+01  \n",
       "used_population             52796.000000  7.866810e+06  \n",
       "retired_population          16812.000000  1.951249e+06  \n",
       "pct_bb_last_year               82.200000  9.760000e+01  \n",
       "pct_college_last_year          17.400000  4.800000e+01  \n",
       "pct_foreign_born_last_year      5.700000  5.400000e+01  \n",
       "pct_it_workers_last_year        1.800000  1.740000e+01  \n",
       "median_hh_inc_last_year     60102.000000  1.568210e+05  \n",
       "neighbor_average                4.599506  7.912341e+01  \n",
       "neighbor_diff                   0.649698  5.067369e+01  \n",
       "seer_pop                    66740.000000  1.009236e+07  \n",
       "seer_working_pct                0.444013  6.622951e-01  \n",
       "seer_working_male_pct           0.226590  5.339790e-01  \n",
       "seer_white_pct                  0.964841  9.944584e-01  \n",
       "seer_black_pct                  0.116552  8.715270e-01  \n",
       "seer_pop_chg                    0.042383  1.442623e+00  \n",
       "seer_pop_ratio                  0.316770  8.255319e+00  \n",
       "unemployment_rate               5.900000  2.280000e+01  \n",
       "labor_force                 31859.000000  5.153091e+06  \n",
       "labor_participation             0.534915  4.813187e+00  \n",
       "MAI_composite                 107.800000  1.238100e+02  \n",
       "engagement                    112.960000  1.444700e+02  \n",
       "participation                 102.450000  1.119700e+02  \n",
       "infrastructure                110.060000  1.420800e+02  "
      ]
     },
     "execution_count": 16,
     "metadata": {},
     "output_type": "execute_result"
    }
   ],
   "source": [
    "data.describe().T"
   ]
  },
  {
   "cell_type": "code",
   "execution_count": 17,
   "metadata": {},
   "outputs": [],
   "source": [
    "class CVTestEnv(object):\n",
    "    def __init__(self, data, start_test_month, number_months, number_folds):\n",
    "        \"\"\"\n",
    "        \n",
    "        Will get the cross validation metric and some analysis for a given model.\n",
    "        \n",
    "        for example, if the data available is up to 2022-12-01, start_test_month=2, number_months=5, number folds = 3 will run 5 tests\n",
    "        \n",
    "        Fold 1 : Train up to and including data from  2022-03-01T00:00:00.000000000 and evaluate forecasts from  2022-06-01T00:00:00.000000000 to 2022-08-01T00:00:00.000000000\n",
    "        Fold 2 : Train up to and including data from  2022-04-01T00:00:00.000000000 and evaluate forecasts from  2022-07-01T00:00:00.000000000 to 2022-09-01T00:00:00.000000000\n",
    "        Fold 3 : Train up to and including data from  2022-05-01T00:00:00.000000000 and evaluate forecasts from  2022-08-01T00:00:00.000000000 to 2022-10-01T00:00:00.000000000\n",
    "        Fold 4 : Train up to and including data from  2022-06-01T00:00:00.000000000 and evaluate forecasts from  2022-09-01T00:00:00.000000000 to 2022-11-01T00:00:00.000000000\n",
    "        Fold 5 : Train up to and including data from  2022-07-01T00:00:00.000000000 and evaluate forecasts from  2022-10-01T00:00:00.000000000 to 2022-12-01T00:00:00.000000000\n",
    "        \n",
    "        The model itself is responsible for any data cleaning and transforms.  We will evaluate on the raw microbusiness density smape as used in the real data set.\n",
    "                \n",
    "        :param data: data for cross validation.\n",
    "        :param start_test_month: int, number of months forward to forecast.  For example, 2 would mean skip the first month and begin evaluation\n",
    "        :param number_months: int, number of months for forecast.  For example, 3 would be to forecast 3 months from start month.  \n",
    "        :param number_folds: int, number of cross validations to test.  We will walk forward in time.\n",
    "        \"\"\"\n",
    "        self.data = data\n",
    "        self.start_test_month = start_test_month\n",
    "        self.number_months = number_months\n",
    "        self.number_folds = number_folds\n",
    "        \n",
    "    def test_model(self, model):\n",
    "        \"\"\"\n",
    "        model needs to have .fit(data), predict(data), and .reset() defined\n",
    "        \n",
    "        .predict(data) must return a series with index 'row_id' of microbusiness_density\n",
    "        \n",
    "        It can save any data it requires from the predict method it feels necessary.\n",
    "        \n",
    "        \"\"\"\n",
    "        values = []\n",
    "        \n",
    "        months = self.data.first_day_of_month.unique()\n",
    "        for n in reversed(range(self.number_folds)):\n",
    "            last_forecast_month = months[-n-1]\n",
    "            begin_forecast_month = months[-n-self.number_months]\n",
    "            train_max_month = months[-n-self.number_months-self.start_test_month-1]\n",
    "            print('------------------------------------------------------------------------------------------------------------------------------')\n",
    "            print('Fold', self.number_folds - n, ': Train up to and including data from ', train_max_month, 'and evaluate forecasts from ', begin_forecast_month,'to', last_forecast_month)\n",
    "            train_data = self.data[self.data.first_day_of_month <= train_max_month].copy()\n",
    "            validation_data = self.data[(self.data.first_day_of_month > train_max_month) & (self.data.first_day_of_month <= last_forecast_month)].copy()\n",
    "            validation_data['microbusiness_density'] = np.nan\n",
    "            validation_data['active'] = np.nan\n",
    "            \n",
    "            model.reset()\n",
    "            print('Training model')\n",
    "            t1 = datetime.datetime.utcnow()\n",
    "            model.fit(train_data)\n",
    "            t2 = datetime.datetime.utcnow()\n",
    "            print('Training took ', (t2-t1).seconds, 'seconds')\n",
    "            print('Predicting')\n",
    "            pred = model.predict(validation_data)\n",
    "            \n",
    "            \n",
    "            test = self.data[self.data.first_day_of_month > train_max_month].copy()\n",
    "            test.set_index('row_id', inplace=True)\n",
    "            test['pred'] = pred\n",
    "            \n",
    "            evaluation_data = test[(test.first_day_of_month >= begin_forecast_month) & (test.first_day_of_month <= last_forecast_month)]\n",
    "            \n",
    "            value = smape(evaluation_data['microbusiness_density'], evaluation_data['pred'])\n",
    "            if np.isnan(value):\n",
    "                raise ValueError('Smape is NaN')\n",
    "            print(f'SMAPE = ', value)\n",
    "            values.append([train_max_month, begin_forecast_month, last_forecast_month, value])\n",
    "            \n",
    "        print('------------------------------------------------------SUMMARY-------------------------------------------------------------------')\n",
    "            \n",
    "        for train_max_month, begin_forecast_month, last_forecast_month, value in values:\n",
    "            print('Train up to and including data from ', train_max_month, 'and evaluate forecasts from ', begin_forecast_month,'to', last_forecast_month,'=', value)\n",
    "            \n",
    "        print('Average SMAPE =', np.mean([x[-1] for x in values]))\n",
    "        \n",
    "        return values"
   ]
  },
  {
   "cell_type": "code",
   "execution_count": 18,
   "metadata": {},
   "outputs": [],
   "source": [
    "## Simple Baseline model\n",
    "\n",
    "class LastValueModel(object):\n",
    "    def __init__(self):\n",
    "        self.last_values = defaultdict(float)\n",
    "        \n",
    "    def reset(self):\n",
    "        pass\n",
    "    \n",
    "    def fit(self, data):\n",
    "        max_dt = data.first_day_of_month.max()\n",
    "        print('Take last values from', max_dt)\n",
    "        self.last_values = {row.cfips: row.microbusiness_density for __, row in data[data.first_day_of_month == max_dt].iterrows()}\n",
    "        \n",
    "    def predict(self, data):\n",
    "        data['pred'] = data['cfips'].map(self.last_values)\n",
    "        \n",
    "        return data.set_index('row_id')['pred']"
   ]
  },
  {
   "cell_type": "code",
   "execution_count": 19,
   "metadata": {},
   "outputs": [
    {
     "name": "stdout",
     "output_type": "stream",
     "text": [
      "------------------------------------------------------------------------------------------------------------------------------\n",
      "Fold 1 : Train up to and including data from  2022-01-01T00:00:00.000000000 and evaluate forecasts from  2022-04-01T00:00:00.000000000 to 2022-06-01T00:00:00.000000000\n",
      "Training model\n",
      "Take last values from 2022-01-01 00:00:00\n",
      "Training took  0 seconds\n",
      "Predicting\n",
      "SMAPE =  3.1956774734784967\n",
      "------------------------------------------------------------------------------------------------------------------------------\n",
      "Fold 2 : Train up to and including data from  2022-02-01T00:00:00.000000000 and evaluate forecasts from  2022-05-01T00:00:00.000000000 to 2022-07-01T00:00:00.000000000\n",
      "Training model\n",
      "Take last values from 2022-02-01 00:00:00\n",
      "Training took  0 seconds\n",
      "Predicting\n",
      "SMAPE =  3.4152913611520037\n",
      "------------------------------------------------------------------------------------------------------------------------------\n",
      "Fold 3 : Train up to and including data from  2022-03-01T00:00:00.000000000 and evaluate forecasts from  2022-06-01T00:00:00.000000000 to 2022-08-01T00:00:00.000000000\n",
      "Training model\n",
      "Take last values from 2022-03-01 00:00:00\n",
      "Training took  0 seconds\n",
      "Predicting\n",
      "SMAPE =  3.3317878979931765\n",
      "------------------------------------------------------------------------------------------------------------------------------\n",
      "Fold 4 : Train up to and including data from  2022-04-01T00:00:00.000000000 and evaluate forecasts from  2022-07-01T00:00:00.000000000 to 2022-09-01T00:00:00.000000000\n",
      "Training model\n",
      "Take last values from 2022-04-01 00:00:00\n",
      "Training took  0 seconds\n",
      "Predicting\n",
      "SMAPE =  3.3842283789667764\n",
      "------------------------------------------------------------------------------------------------------------------------------\n",
      "Fold 5 : Train up to and including data from  2022-05-01T00:00:00.000000000 and evaluate forecasts from  2022-08-01T00:00:00.000000000 to 2022-10-01T00:00:00.000000000\n",
      "Training model\n",
      "Take last values from 2022-05-01 00:00:00\n",
      "Training took  0 seconds\n",
      "Predicting\n",
      "SMAPE =  3.7841915766675602\n",
      "------------------------------------------------------SUMMARY-------------------------------------------------------------------\n",
      "Train up to and including data from  2022-01-01T00:00:00.000000000 and evaluate forecasts from  2022-04-01T00:00:00.000000000 to 2022-06-01T00:00:00.000000000 = 3.1956774734784967\n",
      "Train up to and including data from  2022-02-01T00:00:00.000000000 and evaluate forecasts from  2022-05-01T00:00:00.000000000 to 2022-07-01T00:00:00.000000000 = 3.4152913611520037\n",
      "Train up to and including data from  2022-03-01T00:00:00.000000000 and evaluate forecasts from  2022-06-01T00:00:00.000000000 to 2022-08-01T00:00:00.000000000 = 3.3317878979931765\n",
      "Train up to and including data from  2022-04-01T00:00:00.000000000 and evaluate forecasts from  2022-07-01T00:00:00.000000000 to 2022-09-01T00:00:00.000000000 = 3.3842283789667764\n",
      "Train up to and including data from  2022-05-01T00:00:00.000000000 and evaluate forecasts from  2022-08-01T00:00:00.000000000 to 2022-10-01T00:00:00.000000000 = 3.7841915766675602\n",
      "Average SMAPE = 3.4222353376516024\n"
     ]
    }
   ],
   "source": [
    "env = CVTestEnv(data=data[data.is_test == 0].copy(), start_test_month=2, number_months=3, number_folds=5)\n",
    "lvmodel = LastValueModel()\n",
    "results = env.test_model(lvmodel)"
   ]
  },
  {
   "attachments": {},
   "cell_type": "markdown",
   "metadata": {},
   "source": [
    "Data Cleaning\n",
    "* There seem to be many issues in the data, from changes in the way it is measured to individual issues in how many business are in each county. Much of this is outside our control, so we will focus on smoothing the data to predict whatever change we can in the data.\n",
    "\n",
    "Data Cleaning for pipelines\n",
    "* We can see that the data changes at 2021-02-01 and in the beginning 2019-09-01, probably due to initial data collection issues. The 2021 data collection issue is a result of a change of methodology, stated somewhere in the discussion section."
   ]
  },
  {
   "cell_type": "code",
   "execution_count": 20,
   "metadata": {},
   "outputs": [],
   "source": [
    "from sklearn.base import TransformerMixin, BaseEstimator\n",
    "\n",
    "class OutlierRemover(BaseEstimator, TransformerMixin):\n",
    "    def __init__(self, active_threshold, pct_change_threshold):\n",
    "        self.active_threshold = active_threshold\n",
    "        self.pct_change_threshold = pct_change_threshold\n",
    "    \n",
    "    def fit(self, X, y=None):\n",
    "        return self\n",
    "    \n",
    "    def transform(self, X, y=None):\n",
    "        changes = defaultdict(list)\n",
    "\n",
    "        X_ = X.copy()\n",
    "        for o in X_.cfips.unique():\n",
    "            indices = (X_['cfips']==o)\n",
    "            tmp = X_.loc[indices].copy().reset_index(drop=True)\n",
    "            var = tmp.active.values.copy()\n",
    "            dts = tmp.first_day_of_month.copy()\n",
    "\n",
    "            for i in range(len(var)-1, 1, -1):\n",
    "                if var[i] > self.active_threshold:\n",
    "                    pct_chg = var[i]/var[i-1] - 1\n",
    "                    if abs(pct_chg) > self.pct_change_threshold:\n",
    "                        var[:i] += (var[i] - var[i-1])\n",
    "                        changes[o].append(dts[i])\n",
    "\n",
    "            X_.loc[indices, 'smoothed_active'] = var\n",
    "            X_.loc[indices, 'average_population'] = np.mean(X_.loc[indices, 'used_population'])\n",
    "                \n",
    "        X_['smoothed_microbusiness_density'] = X_['smoothed_active'] / X_['average_population'] * 100\n",
    "\n",
    "        cnt = sum([len(v) for v in changes.values()])\n",
    "        print(f'Adjusted {len(changes)} cfips and {cnt} points for threshold = {self.pct_change_threshold}')\n",
    "        return X_"
   ]
  },
  {
   "cell_type": "code",
   "execution_count": 21,
   "metadata": {},
   "outputs": [],
   "source": [
    "blacklist = [\n",
    "    'North Dakota', 'Iowa', 'Kansas', 'Nebraska', 'South Dakota','New Mexico', 'Alaska', 'Vermont'\n",
    "]\n",
    "blacklistcfips = [\n",
    "1019,1027,1029,1035,1039,1045,1049,1057,1067,1071,1077,1085,1091,1099,1101,1123,1131,1133,4001,4012,4013,4021,4023,5001,5003,5005,5017,5019,5027,5031,5035,5047,5063,5065,5071,5081,5083,5087,5091,5093,5107,5109,5115,5121,5137,5139,5141,5147,6003,6015,6027,6033,6053,6055,6057,6071,6093,6097,6103,6105,6115,8003,8007,8009,8019,8021,8023,8047,8051,8053,8055,8057,8059,8061,8065,8067,8069,8071,8073,8075,8085,8091,8093,8097,8099,8103,8105,8107,8109,8111,8115,8117,8121,9007,9009,9015,12009,12017,12019,12029,12047,12055,12065,12075,12093,12107,12127,13005,13007,13015,13017,13019,13027,13035,13047,13065,13081,13083,13099,13107,13109,13117,13119,13121,13123,13125,13127,13135,13143,13147,13161,13165,13171,13175,13181,13193,13201,13221,13225,13229,13231,13233,13245,13247,13249,13257,13279,13281,13287,13289,13293,13301,13319,15001,15005,15007,16001,16003,16005,16007,16013,16015,16017,16023,16025,16029,16031,16033,16035,16037,16043,16045,16049,16061,16063,16067,17001,17003,17007,17009,17013,17015,17023,17025,17031,17035,17045,17051,17059,17061,17063,17065,17067,17069,17075,17077,17081,17085,17087,17103,17105,17107,17109,17115,17117,17123,17127,17133,17137,17141,17143,17147,17153,17167,17169,17171,17177,17179,17181,17185,17187,17193,18001,18007,18009,18013,18015,18019,18021,18025,18035,18037,18039,18041,18053,18061,18075,18079,18083,18087,18099,18103,18111,18113,18115,18137,18139,18145,18153,18171,18179,21001,21003,21013,21017,21023,21029,21035,21037,21039,21045,21047,21055,21059,21065,21075,21077,21085,21091,21093,21097,21099,21101,21103,21115,21125,21137,21139,21141,21149,21155,21157,21161,21165,21179,21183,21191,21197,21199,21215,21217,21223,21227,21237,21239,22019,22021,22031,22039,22041,22047,22069,22085,22089,22101,22103,22109,22111,22115,22119,22121,23003,23009,23021,23027,23029,24011,24027,24029,24031,24035,24037,24039,24041,25011,25015,26003,26007,26011,26019,26021,26025,26027,26033,26037,26041,26043,26051,26053,26057,26059,26061,26065,26071,26077,26079,26083,26089,26097,26101,26103,26109,26111,26115,26117,26119,26127,26129,26131,26135,26141,26143,26155,26161,26165,27005,27011,27013,27015,27017,27021,27023,27025,27029,27047,27051,27055,27057,27065,27069,27073,27075,27077,27079,27087,27091,27095,27101,27103,27105,27107,27109,27113,27117,27119,27123,27125,27129,27131,27133,27135,27141,27147,27149,27155,27159,27167,27169,28017,28019,28023,28025,28035,28045,28049,28061,28063,28093,28097,28099,28125,28137,28139,28147,28159,29001,29015,29019,29031,29033,29041,29049,29051,29055,29057,29063,29065,29069,29075,29085,29089,29101,29103,29111,29121,29123,29125,29135,29137,29139,29143,29157,29159,29161,29167,29171,29173,29175,29177,29183,29195,29197,29199,29203,29205,29207,29209,29213,29215,29217,29223,29227,29229,30005,30009,30025,30027,30033,30035,30037,30039,30045,30049,30051,30053,30055,30057,30059,30069,30071,30073,30077,30079,30083,30085,30089,30091,30093,30101,30103,30105,30107,30109,32005,32009,32017,32023,32027,32029,32510,33005,33007,34021,34027,34033,34035,36011,36017,36023,36033,36043,36047,36049,36051,36057,36061,36067,36083,36091,36097,36103,36107,36113,36115,36121,36123,37005,37009,37011,37017,37023,37029,37031,37049,37061,37075,37095,37117,37123,37131,37137,37151,37187,37189,37197,39005,39009,39015,39017,39019,39023,39037,39039,39043,39049,39053,39057,39063,39067,39071,39077,39085,39087,39091,39097,39105,39107,39113,39117,39119,39125,39127,39129,39135,39137,39151,39153,39157,40003,40013,40015,40023,40025,40027,40035,40039,40043,40045,40053,40055,40057,40059,40065,40067,40073,40077,40079,40099,40105,40107,40111,40115,40123,40127,40129,40133,40141,40147,40151,40153,41001,41007,41013,41015,41017,41021,41025,41031,41033,41037,41051,41055,41063,41067,41069,42005,42007,42011,42013,42015,42019,42027,42029,42031,42035,42053,42057,42067,42071,42083,42085,42093,42097,42105,42111,42113,42115,42123,42125,42127,42129,44005,44007,44009,45001,45009,45021,45025,45031,45059,45067,45071,45073,45089,47001,47005,47013,47015,47019,47021,47023,47027,47035,47039,47041,47047,47055,47057,47059,47061,47069,47073,47075,47077,47083,47087,47099,47105,47121,47127,47131,47133,47135,47137,47147,47151,47153,47159,47161,47163,47169,47177,47183,47185,48001,48011,48017,48019,48045,48057,48059,48063,48065,48073,48077,48079,48081,48083,48087,48095,48101,48103,48107,48109,48115,48117,48119,48123,48125,48129,48149,48151,48153,48155,48159,48161,48165,48175,48189,48191,48195,48197,48211,48221,48229,48233,48235,48237,48239,48241,48243,48245,48255,48261,48263,48265,48267,48269,48275,48277,48283,48293,48299,48305,48311,48313,48319,48321,48323,48327,48333,48345,48347,48355,48369,48377,48379,48383,48387,48389,48401,48403,48413,48417,48431,48433,48437,48443,48447,48453,48455,48457,48461,48463,48465,48469,48471,48481,48483,48485,48487,48495,48499,49001,49009,49013,49019,49027,49031,49045,51005,51017,51025,51029,51031,51036,51037,51043,51057,51059,51065,51071,51073,51077,51079,51083,51091,51095,51097,51101,51111,51115,51119,51121,51127,51135,51147,51155,51159,51165,51167,51171,51173,51181,51183,51191,51197,51530,51590,51610,51620,51670,51678,51720,51735,51750,51770,51810,51820,53013,53019,53023,53031,53033,53037,53039,53041,53047,53065,53069,53071,53075,54013,54019,54025,54031,54033,54041,54049,54055,54057,54063,54067,54071,54077,54079,54085,54089,54103,55001,55003,55005,55007,55011,55017,55021,55025,55029,55037,55043,55047,55049,55051,55061,55065,55067,55075,55077,55091,55097,55101,55103,55109,55117,55123,55125,55127,56007,56009,56011,56015,56017,56019,56021,56027,56031,56037,56043,56045,\n",
    "12061,  6095, 49025, 18073, 29029, 29097, 48419, 51830, 30067, 26095, 18159, 32001, 54065, 54027, 13043, 48177, 55069, 48137, 30087, 29007, 13055, 48295, 28157, 29037, 45061, 22053, 13199, 47171, 53001, 55041, 51195, 18127, 29151, 48307, 51009, 16047, 29133,  5145, 17175, 21027, 48357, 29179, 13023, 16077, 48371, 21057, 16039, 21143, 48435, 48317, 48475,  5129, 36041, 48075, 29017, 47175, 39167, 47109, 17189, 17173, 28009, 39027, 48133, 18129, 48217, 40081, 36021,  6005, 42099, 18051, 36055, 53051, 6109, 21073, 27019,  6051, 48055,  8083, 48503, 17021, 10003, 41061, 22001, 22011, 21205, 48223, 51103, 51047, 16069, 17033, 41011,  6035, 47145, 27083, 18165, 36055, 12001, 26159,  8125, 34017,\n",
    "28141, 55119, 48405, 40029, 18125, 21135, 29073, 55115, 37149,55039, 26029, 12099, 13251, 48421, 39007, 41043, 22015, 37115,54099, 51137, 22049, 55131, 17159, 56001, 40005, 18017, 28091,47101, 27037, 29005, 13239, 21019, 55085, 48253, 51139, 40101,13283, 18049, 39163, 45049, 51113,\n",
    "]"
   ]
  },
  {
   "cell_type": "code",
   "execution_count": 22,
   "metadata": {},
   "outputs": [],
   "source": [
    "import xgboost as xgb\n",
    "\n",
    "def get_model_xgb():\n",
    "    xgb_model = xgb.XGBRegressor(\n",
    "        objective='reg:pseudohubererror',\n",
    "        #objective='reg:squarederror',\n",
    "        tree_method=\"hist\",\n",
    "        n_estimators=795,\n",
    "        learning_rate=0.0075,\n",
    "        max_leaves = 17,\n",
    "        subsample=0.50,\n",
    "        colsample_bytree=0.50,\n",
    "        max_bin=4096,\n",
    "        n_jobs=2,\n",
    "    )\n",
    "\n",
    "    return xgb_model"
   ]
  },
  {
   "cell_type": "code",
   "execution_count": 23,
   "metadata": {},
   "outputs": [],
   "source": [
    "def build_features(raw, target='microbusiness_density', target_act='active_tmp', lags = 6):\n",
    "    feats = []\n",
    "    for lag in tqdm(range(1, lags)):\n",
    "        raw[f'mbd_lag_{lag}'] = raw.groupby('cfips')[target].shift(lag)\n",
    "        raw[f'act_lag_{lag}'] = raw.groupby('cfips')[target_act].diff(lag)\n",
    "        feats.append(f'mbd_lag_{lag}')\n",
    "        feats.append(f'act_lag_{lag}')\n",
    "        \n",
    "    lag = 1\n",
    "    for window in [2, 4, 6, 8, 10]:\n",
    "        raw[f'mbd_rollmea{window}_{lag}'] = raw.groupby('cfips')[f'mbd_lag_{lag}'].transform(lambda s: s.rolling(window, min_periods=1).sum())        \n",
    "        #raw[f'mbd_rollmea{window}_{lag}'] = raw[f'mbd_lag_{lag}'] - raw[f'mbd_rollmea{window}_{lag}']\n",
    "        feats.append(f'mbd_rollmea{window}_{lag}')\n",
    "    \n",
    "    return raw, feats"
   ]
  },
  {
   "cell_type": "code",
   "execution_count": 24,
   "metadata": {},
   "outputs": [],
   "source": [
    "def train_clip_none(s):\n",
    "    return s\n",
    "\n",
    "def train_clip_small(s):\n",
    "    return s.clip(-0.0045, 0.0045)"
   ]
  },
  {
   "attachments": {},
   "cell_type": "markdown",
   "metadata": {},
   "source": [
    "Models\n",
    "We tested a few models:\n",
    "\n",
    "* The roll forward boosted decision tree model below.\n",
    "* A model where the number of months forward is a column predictor and we fit one tree to the forward data.\n",
    "* A model where we only forecast 1 month ahead than set that to the value forever.\n",
    "* a GRU model\n",
    "In the end we found model #1 was best model.\n",
    "\n",
    "We also did many checks adding different predictors, as noted above in the 'Removed' sections."
   ]
  },
  {
   "cell_type": "code",
   "execution_count": 25,
   "metadata": {},
   "outputs": [],
   "source": [
    "## Rolling forward boosted decision trees.\n",
    "\n",
    "class BDTRollFwdModel(LastValueModel):\n",
    "    def __init__(self, get_model, pop_split, train_clip, use_blacklist, features, scale, probing_changes=None, jan_replace_file=None):\n",
    "        \"\"\"\n",
    "        This one rolls foward the Model described by 'get_model' prediction, which could be subject to bias.  \n",
    "        However, given that we replace january numbers, this was decided to be the best solution.\n",
    "        \n",
    "        :param get_model: Return a model with the sklearn interface\n",
    "        :param pop_split: population split.  Greater than this number and we will use the model, less and we use a constant.\n",
    "        :param train_clip: function for clipping training data to try and improve stability\n",
    "        :param use_blacklist: Whether to remove some counties and only use their last values.\n",
    "        :param scale: Whether to scale the final output to a smaller amount.  Used to control overfitting\n",
    "        :param probing_changes:  If it exists, describes values to replace for the January 2023 forecast before running the model for February.\n",
    "        \"\"\"\n",
    "        super().__init__()\n",
    "        \n",
    "        self.use_blacklist = use_blacklist\n",
    "        self.train_clip = train_clip\n",
    "        self.pop_split = pop_split\n",
    "        self.get_model = get_model\n",
    "        self.features = features\n",
    "        self.scale = scale\n",
    "        self.probing_changes = probing_changes\n",
    "        self.jan_replace_file = jan_replace_file\n",
    "        \n",
    "        self.save_data = None\n",
    "        \n",
    "    def reset(self):\n",
    "        super().reset()\n",
    "        self.save_data = None\n",
    "        \n",
    "    def prep_data(self, df, training):\n",
    "        smoother = OutlierRemover(active_threshold=5, pct_change_threshold=0.1)\n",
    "        xgb_data = smoother.transform(df.copy())\n",
    "\n",
    "        xgb_data['target_0'] = xgb_data.groupby('cfips')['smoothed_microbusiness_density'].shift(-1)\n",
    "        xgb_data['target'] = xgb_data['target_0'] / xgb_data['smoothed_microbusiness_density'] - 1\n",
    "\n",
    "        if training:\n",
    "            xgb_data['target'] = xgb_data['target'].fillna(0)\n",
    "            xgb_data.loc[xgb_data.first_day_of_month == xgb_data.first_day_of_month.max(), 'target'] = np.nan\n",
    "        \n",
    "            xgb_data.dropna(subset=['target'], inplace=True)\n",
    "            mask = xgb_data['target'] == np.inf\n",
    "            xgb_data.loc[mask, 'target'] = 0\n",
    "\n",
    "        xgb_data, __ = build_features(xgb_data, target='target', target_act='smoothed_active', lags=8)\n",
    "\n",
    "        xgb_data.reset_index(inplace=True, drop=True)\n",
    "\n",
    "        xgb_data['county_i'] = (xgb_data['county'] + xgb_data['state']).factorize()[0]\n",
    "        xgb_data['state_i'] = xgb_data['state'].factorize()[0]\n",
    "\n",
    "#         xgb_data['top0ind_i'] = xgb_data['top0ind'].factorize()[0]\n",
    "#         xgb_data['top1ind_i'] = xgb_data['top1ind'].factorize()[0]\n",
    "#         xgb_data['top2ind_i'] = xgb_data['top2ind'].factorize()[0]\n",
    "        \n",
    "        return xgb_data\n",
    "        \n",
    "    def get_mask(self, df):\n",
    "        return df.average_population > self.pop_split\n",
    "        \n",
    "    def fit(self, data):\n",
    "        super().fit(data)\n",
    "        \n",
    "        self.saved_data = data.copy()\n",
    "        \n",
    "        fit_data = self.prep_data(data, training=True)\n",
    "        \n",
    "        print('Fitting model')\n",
    "        self.model = self.get_model()\n",
    "        mask = self.get_mask(fit_data)\n",
    "        \n",
    "#         fcst_dt = fit_data.first_day_of_month.max()\n",
    "#         t = pd.to_datetime(fcst_dt).strftime('%Y%m%d')\n",
    "#         fit_data[mask].to_pickle(f'v10_train_{t}.p')\n",
    "        \n",
    "        self.model.fit(fit_data.loc[mask, self.features], self.train_clip(fit_data.loc[mask, 'target']))\n",
    "        \n",
    "    def predict(self, data):\n",
    "        last_value_pred = super().predict(data)\n",
    "\n",
    "        tmp = pd.concat([self.saved_data.copy(), data.copy()])\n",
    "        \n",
    "        for fcst_dt in data['first_day_of_month'].unique():\n",
    "            print('Fcst Date', fcst_dt)\n",
    "            \n",
    "            fit_data = self.prep_data(tmp[(tmp.first_day_of_month < fcst_dt)].copy(), training=False)\n",
    "            \n",
    "#             t = pd.to_datetime(fcst_dt).strftime('%Y%m%d')\n",
    "#             fit_data.to_pickle(f'v10_validation_{t}.p')\n",
    "            \n",
    "            max_date = fit_data.first_day_of_month.max()\n",
    "            print('Max Date: ', max_date)\n",
    "            validation = fit_data[fit_data.first_day_of_month == max_date].copy()\n",
    "            validation_pred_y = (self.model.predict(validation.loc[:, self.features]) * self.scale + 1) * validation['microbusiness_density']\n",
    "    \n",
    "            # Below pop split, use last value\n",
    "            validation['pred'] = validation_pred_y\n",
    "            validation.loc[~self.get_mask(validation), 'pred'] = validation.loc[~self.get_mask(validation), 'microbusiness_density']\n",
    "    \n",
    "            if self.use_blacklist:\n",
    "                mask = validation['state'].isin(blacklist) | validation.cfips.isin(blacklistcfips)\n",
    "                validation.loc[mask, 'pred'] = validation.loc[mask, 'microbusiness_density']\n",
    "    \n",
    "            prd = validation['pred'].copy()\n",
    "\n",
    "            prd.loc[prd.isna()] = 0  \n",
    "            \n",
    "            # NOTE THE ROUNDING.  It improves scores.\n",
    "            validation['active_pred'] = (prd * validation['used_population'] / 100).map(round)\n",
    "    \n",
    "            d = {row['cfips']: row['active_pred'] for __, row in validation.iterrows()}\n",
    "            mask = tmp.first_day_of_month == fcst_dt\n",
    "            tmp.loc[mask, 'active'] = tmp.loc[mask, 'cfips'].map(d)\n",
    "            tmp.loc[mask, 'microbusiness_density'] = tmp.loc[mask, 'active'] / tmp.loc[mask, 'used_population'] * 100\n",
    "            \n",
    "            if self.probing_changes is not None and fcst_dt == np.datetime64('2023-01-01'):\n",
    "                print(f'Do january replace with {self.probing_changes}')\n",
    "                pdict = dict(self.probing_changes)\n",
    "                mask = (tmp.first_day_of_month == fcst_dt) & (tmp.cfips.isin(pdict))\n",
    "                tmp.loc[mask, 'active'] = tmp.loc[mask, 'cfips'].map(pdict)\n",
    "                tmp.loc[mask, 'microbusiness_density'] = tmp.loc[mask, 'active'] / tmp.loc[mask, 'used_population'] * 100\n",
    "                \n",
    "            if self.jan_replace_file is not None and fcst_dt == np.datetime64('2023-01-01'):\n",
    "                print(f'Do january replace with {self.jan_replace_file}')\n",
    "                mask = tmp.first_day_of_month == fcst_dt\n",
    "                tdf = pd.read_csv(self.jan_replace_file).set_index('row_id')\n",
    "                tdf['cfips'] = tdf.index.map(lambda x: int(x.split('_')[0]))\n",
    "                tdf['first_day_of_month'] = pd.to_datetime(tdf.index.map(lambda x: x.split('_')[1]))\n",
    "                d = tdf[tdf['first_day_of_month'] == fcst_dt].groupby('cfips')['microbusiness_density'].last().to_dict()\n",
    "                tmp.loc[mask, 'microbusiness_density'] = tmp.loc[mask, 'cfips'].map(d)\n",
    "                tmp.loc[mask, 'active'] = (tmp.loc[mask, 'microbusiness_density'] * tmp.loc[mask, 'used_population'] / 100).map(round)\n",
    "                \n",
    "        d = {row['row_id']: row['microbusiness_density'] for __, row in tmp.iterrows()}\n",
    "        data['pred'] = data['row_id'].map(d)\n",
    "        return data.set_index('row_id')['pred']"
   ]
  },
  {
   "cell_type": "code",
   "execution_count": 26,
   "metadata": {},
   "outputs": [],
   "source": [
    "        \n",
    "features = ['state_i',  \n",
    " 'mbd_lag_1',\n",
    " 'act_lag_1',\n",
    " 'mbd_lag_2',\n",
    " 'act_lag_2',\n",
    " 'mbd_lag_3',\n",
    " 'act_lag_3',\n",
    " 'mbd_lag_4',\n",
    " 'act_lag_4',\n",
    " 'mbd_lag_5',\n",
    " 'act_lag_5',\n",
    " 'mbd_lag_6',\n",
    " 'act_lag_6',\n",
    " 'mbd_lag_7',\n",
    " 'act_lag_7',\n",
    " 'mbd_rollmea2_1',\n",
    " 'mbd_rollmea4_1',\n",
    " 'mbd_rollmea6_1',\n",
    " 'mbd_rollmea8_1',\n",
    " 'mbd_rollmea10_1',\n",
    " 'pct_bb_last_year',\n",
    " 'used_population',\n",
    " 'neighbor_diff',\n",
    " 'pct_college_last_year',\n",
    " 'pct_foreign_born_last_year',\n",
    " 'pct_it_workers_last_year',\n",
    " 'median_hh_inc_last_year',\n",
    " 'seer_pop_chg',\n",
    " 'labor_force',\n",
    " 'labor_participation',\n",
    " 'participation',\n",
    " 'lat',\n",
    " 'lng',\n",
    " 'engagement',\n",
    " 'seer_black_pct',\n",
    "           ]\n",
    "\n",
    "use_blacklist = True\n",
    "train_clip = train_clip_small\n",
    "pop_split = 5000\n",
    "get_model = get_model_xgb"
   ]
  },
  {
   "cell_type": "code",
   "execution_count": 27,
   "metadata": {},
   "outputs": [
    {
     "name": "stdout",
     "output_type": "stream",
     "text": [
      "------------------------------------------------------------------------------------------------------------------------------\n",
      "Fold 1 : Train up to and including data from  2022-01-01T00:00:00.000000000 and evaluate forecasts from  2022-04-01T00:00:00.000000000 to 2022-06-01T00:00:00.000000000\n",
      "Training model\n",
      "Take last values from 2022-01-01 00:00:00\n",
      "Adjusted 1127 cfips and 2023 points for threshold = 0.1\n"
     ]
    },
    {
     "data": {
      "application/vnd.jupyter.widget-view+json": {
       "model_id": "33810ed413c24e60bc2c860fa1d42fb6",
       "version_major": 2,
       "version_minor": 0
      },
      "text/plain": [
       "  0%|          | 0/7 [00:00<?, ?it/s]"
      ]
     },
     "metadata": {},
     "output_type": "display_data"
    },
    {
     "name": "stdout",
     "output_type": "stream",
     "text": [
      "Fitting model\n",
      "Training took  25 seconds\n",
      "Predicting\n",
      "Fcst Date 2022-02-01T00:00:00.000000000\n",
      "Adjusted 1127 cfips and 2023 points for threshold = 0.1\n"
     ]
    },
    {
     "data": {
      "application/vnd.jupyter.widget-view+json": {
       "model_id": "525538fb29054574b4a6b36939b9df3b",
       "version_major": 2,
       "version_minor": 0
      },
      "text/plain": [
       "  0%|          | 0/7 [00:00<?, ?it/s]"
      ]
     },
     "metadata": {},
     "output_type": "display_data"
    },
    {
     "name": "stdout",
     "output_type": "stream",
     "text": [
      "Max Date:  2022-01-01 00:00:00\n",
      "Fcst Date 2022-03-01T00:00:00.000000000\n",
      "Adjusted 1127 cfips and 2023 points for threshold = 0.1\n"
     ]
    },
    {
     "data": {
      "application/vnd.jupyter.widget-view+json": {
       "model_id": "36615debe30c4039986841ef78fb2c2b",
       "version_major": 2,
       "version_minor": 0
      },
      "text/plain": [
       "  0%|          | 0/7 [00:00<?, ?it/s]"
      ]
     },
     "metadata": {},
     "output_type": "display_data"
    },
    {
     "name": "stdout",
     "output_type": "stream",
     "text": [
      "Max Date:  2022-02-01 00:00:00\n",
      "Fcst Date 2022-04-01T00:00:00.000000000\n",
      "Adjusted 1127 cfips and 2023 points for threshold = 0.1\n"
     ]
    },
    {
     "data": {
      "application/vnd.jupyter.widget-view+json": {
       "model_id": "b647bafa922748529f15cb27d66891c0",
       "version_major": 2,
       "version_minor": 0
      },
      "text/plain": [
       "  0%|          | 0/7 [00:00<?, ?it/s]"
      ]
     },
     "metadata": {},
     "output_type": "display_data"
    },
    {
     "name": "stdout",
     "output_type": "stream",
     "text": [
      "Max Date:  2022-03-01 00:00:00\n",
      "Fcst Date 2022-05-01T00:00:00.000000000\n",
      "Adjusted 1127 cfips and 2023 points for threshold = 0.1\n"
     ]
    },
    {
     "data": {
      "application/vnd.jupyter.widget-view+json": {
       "model_id": "1f68c7eac048448c9ec06efca4521f3e",
       "version_major": 2,
       "version_minor": 0
      },
      "text/plain": [
       "  0%|          | 0/7 [00:00<?, ?it/s]"
      ]
     },
     "metadata": {},
     "output_type": "display_data"
    },
    {
     "name": "stdout",
     "output_type": "stream",
     "text": [
      "Max Date:  2022-04-01 00:00:00\n",
      "Fcst Date 2022-06-01T00:00:00.000000000\n",
      "Adjusted 1127 cfips and 2023 points for threshold = 0.1\n"
     ]
    },
    {
     "data": {
      "application/vnd.jupyter.widget-view+json": {
       "model_id": "a6cc0ca8ab374899b04ea98aba6a03ab",
       "version_major": 2,
       "version_minor": 0
      },
      "text/plain": [
       "  0%|          | 0/7 [00:00<?, ?it/s]"
      ]
     },
     "metadata": {},
     "output_type": "display_data"
    },
    {
     "name": "stdout",
     "output_type": "stream",
     "text": [
      "Max Date:  2022-05-01 00:00:00\n",
      "SMAPE =  3.0306891973970402\n",
      "------------------------------------------------------------------------------------------------------------------------------\n",
      "Fold 2 : Train up to and including data from  2022-02-01T00:00:00.000000000 and evaluate forecasts from  2022-05-01T00:00:00.000000000 to 2022-07-01T00:00:00.000000000\n",
      "Training model\n",
      "Take last values from 2022-02-01 00:00:00\n",
      "Adjusted 1137 cfips and 2041 points for threshold = 0.1\n"
     ]
    },
    {
     "data": {
      "application/vnd.jupyter.widget-view+json": {
       "model_id": "226e3561f3b64e4c80442c8893101c1c",
       "version_major": 2,
       "version_minor": 0
      },
      "text/plain": [
       "  0%|          | 0/7 [00:00<?, ?it/s]"
      ]
     },
     "metadata": {},
     "output_type": "display_data"
    },
    {
     "name": "stdout",
     "output_type": "stream",
     "text": [
      "Fitting model\n",
      "Training took  25 seconds\n",
      "Predicting\n",
      "Fcst Date 2022-03-01T00:00:00.000000000\n",
      "Adjusted 1137 cfips and 2041 points for threshold = 0.1\n"
     ]
    },
    {
     "data": {
      "application/vnd.jupyter.widget-view+json": {
       "model_id": "fde5d2f39ca14f3cbe33b75439b31ef3",
       "version_major": 2,
       "version_minor": 0
      },
      "text/plain": [
       "  0%|          | 0/7 [00:00<?, ?it/s]"
      ]
     },
     "metadata": {},
     "output_type": "display_data"
    },
    {
     "name": "stdout",
     "output_type": "stream",
     "text": [
      "Max Date:  2022-02-01 00:00:00\n",
      "Fcst Date 2022-04-01T00:00:00.000000000\n",
      "Adjusted 1137 cfips and 2041 points for threshold = 0.1\n"
     ]
    },
    {
     "data": {
      "application/vnd.jupyter.widget-view+json": {
       "model_id": "6e2b4860db2e460b8add16a75e9c89b6",
       "version_major": 2,
       "version_minor": 0
      },
      "text/plain": [
       "  0%|          | 0/7 [00:00<?, ?it/s]"
      ]
     },
     "metadata": {},
     "output_type": "display_data"
    },
    {
     "name": "stdout",
     "output_type": "stream",
     "text": [
      "Max Date:  2022-03-01 00:00:00\n",
      "Fcst Date 2022-05-01T00:00:00.000000000\n",
      "Adjusted 1137 cfips and 2041 points for threshold = 0.1\n"
     ]
    },
    {
     "data": {
      "application/vnd.jupyter.widget-view+json": {
       "model_id": "8ca9c5a2c0e14b96b4f980b8db059ed6",
       "version_major": 2,
       "version_minor": 0
      },
      "text/plain": [
       "  0%|          | 0/7 [00:00<?, ?it/s]"
      ]
     },
     "metadata": {},
     "output_type": "display_data"
    },
    {
     "name": "stdout",
     "output_type": "stream",
     "text": [
      "Max Date:  2022-04-01 00:00:00\n",
      "Fcst Date 2022-06-01T00:00:00.000000000\n",
      "Adjusted 1137 cfips and 2041 points for threshold = 0.1\n"
     ]
    },
    {
     "data": {
      "application/vnd.jupyter.widget-view+json": {
       "model_id": "73bd3640eb584b4983218c999bcc755d",
       "version_major": 2,
       "version_minor": 0
      },
      "text/plain": [
       "  0%|          | 0/7 [00:00<?, ?it/s]"
      ]
     },
     "metadata": {},
     "output_type": "display_data"
    },
    {
     "name": "stdout",
     "output_type": "stream",
     "text": [
      "Max Date:  2022-05-01 00:00:00\n",
      "Fcst Date 2022-07-01T00:00:00.000000000\n",
      "Adjusted 1137 cfips and 2041 points for threshold = 0.1\n"
     ]
    },
    {
     "data": {
      "application/vnd.jupyter.widget-view+json": {
       "model_id": "8717e73cd7ed447bba0832467e512ec2",
       "version_major": 2,
       "version_minor": 0
      },
      "text/plain": [
       "  0%|          | 0/7 [00:00<?, ?it/s]"
      ]
     },
     "metadata": {},
     "output_type": "display_data"
    },
    {
     "name": "stdout",
     "output_type": "stream",
     "text": [
      "Max Date:  2022-06-01 00:00:00\n",
      "SMAPE =  3.215700297656176\n",
      "------------------------------------------------------------------------------------------------------------------------------\n",
      "Fold 3 : Train up to and including data from  2022-03-01T00:00:00.000000000 and evaluate forecasts from  2022-06-01T00:00:00.000000000 to 2022-08-01T00:00:00.000000000\n",
      "Training model\n",
      "Take last values from 2022-03-01 00:00:00\n",
      "Adjusted 1146 cfips and 2074 points for threshold = 0.1\n"
     ]
    },
    {
     "data": {
      "application/vnd.jupyter.widget-view+json": {
       "model_id": "ea3e3b20d24249e0884b631e8fcd19ac",
       "version_major": 2,
       "version_minor": 0
      },
      "text/plain": [
       "  0%|          | 0/7 [00:00<?, ?it/s]"
      ]
     },
     "metadata": {},
     "output_type": "display_data"
    },
    {
     "name": "stdout",
     "output_type": "stream",
     "text": [
      "Fitting model\n",
      "Training took  26 seconds\n",
      "Predicting\n",
      "Fcst Date 2022-04-01T00:00:00.000000000\n",
      "Adjusted 1146 cfips and 2074 points for threshold = 0.1\n"
     ]
    },
    {
     "data": {
      "application/vnd.jupyter.widget-view+json": {
       "model_id": "950b765667284f86b87740860c99ac98",
       "version_major": 2,
       "version_minor": 0
      },
      "text/plain": [
       "  0%|          | 0/7 [00:00<?, ?it/s]"
      ]
     },
     "metadata": {},
     "output_type": "display_data"
    },
    {
     "name": "stdout",
     "output_type": "stream",
     "text": [
      "Max Date:  2022-03-01 00:00:00\n",
      "Fcst Date 2022-05-01T00:00:00.000000000\n",
      "Adjusted 1146 cfips and 2074 points for threshold = 0.1\n"
     ]
    },
    {
     "data": {
      "application/vnd.jupyter.widget-view+json": {
       "model_id": "7a425a87fbd1477382a742c9b7462c75",
       "version_major": 2,
       "version_minor": 0
      },
      "text/plain": [
       "  0%|          | 0/7 [00:00<?, ?it/s]"
      ]
     },
     "metadata": {},
     "output_type": "display_data"
    },
    {
     "name": "stdout",
     "output_type": "stream",
     "text": [
      "Max Date:  2022-04-01 00:00:00\n",
      "Fcst Date 2022-06-01T00:00:00.000000000\n",
      "Adjusted 1146 cfips and 2074 points for threshold = 0.1\n"
     ]
    },
    {
     "data": {
      "application/vnd.jupyter.widget-view+json": {
       "model_id": "bb54a696ad484fe49ade37fc350c961b",
       "version_major": 2,
       "version_minor": 0
      },
      "text/plain": [
       "  0%|          | 0/7 [00:00<?, ?it/s]"
      ]
     },
     "metadata": {},
     "output_type": "display_data"
    },
    {
     "name": "stdout",
     "output_type": "stream",
     "text": [
      "Max Date:  2022-05-01 00:00:00\n",
      "Fcst Date 2022-07-01T00:00:00.000000000\n",
      "Adjusted 1146 cfips and 2074 points for threshold = 0.1\n"
     ]
    },
    {
     "data": {
      "application/vnd.jupyter.widget-view+json": {
       "model_id": "f12be4580e5f4225ae21441ef9a01020",
       "version_major": 2,
       "version_minor": 0
      },
      "text/plain": [
       "  0%|          | 0/7 [00:00<?, ?it/s]"
      ]
     },
     "metadata": {},
     "output_type": "display_data"
    },
    {
     "name": "stdout",
     "output_type": "stream",
     "text": [
      "Max Date:  2022-06-01 00:00:00\n",
      "Fcst Date 2022-08-01T00:00:00.000000000\n",
      "Adjusted 1146 cfips and 2074 points for threshold = 0.1\n"
     ]
    },
    {
     "data": {
      "application/vnd.jupyter.widget-view+json": {
       "model_id": "385e284493514a25aac702a883bfe708",
       "version_major": 2,
       "version_minor": 0
      },
      "text/plain": [
       "  0%|          | 0/7 [00:00<?, ?it/s]"
      ]
     },
     "metadata": {},
     "output_type": "display_data"
    },
    {
     "name": "stdout",
     "output_type": "stream",
     "text": [
      "Max Date:  2022-07-01 00:00:00\n",
      "SMAPE =  3.116731127638121\n",
      "------------------------------------------------------------------------------------------------------------------------------\n",
      "Fold 4 : Train up to and including data from  2022-04-01T00:00:00.000000000 and evaluate forecasts from  2022-07-01T00:00:00.000000000 to 2022-09-01T00:00:00.000000000\n",
      "Training model\n",
      "Take last values from 2022-04-01 00:00:00\n",
      "Adjusted 1157 cfips and 2121 points for threshold = 0.1\n"
     ]
    },
    {
     "data": {
      "application/vnd.jupyter.widget-view+json": {
       "model_id": "d9050a27af2a4b3d9668651ec1fcf785",
       "version_major": 2,
       "version_minor": 0
      },
      "text/plain": [
       "  0%|          | 0/7 [00:00<?, ?it/s]"
      ]
     },
     "metadata": {},
     "output_type": "display_data"
    },
    {
     "name": "stdout",
     "output_type": "stream",
     "text": [
      "Fitting model\n",
      "Training took  25 seconds\n",
      "Predicting\n",
      "Fcst Date 2022-05-01T00:00:00.000000000\n",
      "Adjusted 1157 cfips and 2121 points for threshold = 0.1\n"
     ]
    },
    {
     "data": {
      "application/vnd.jupyter.widget-view+json": {
       "model_id": "78057869270a4e4cb249bfbb41ca46d7",
       "version_major": 2,
       "version_minor": 0
      },
      "text/plain": [
       "  0%|          | 0/7 [00:00<?, ?it/s]"
      ]
     },
     "metadata": {},
     "output_type": "display_data"
    },
    {
     "name": "stdout",
     "output_type": "stream",
     "text": [
      "Max Date:  2022-04-01 00:00:00\n",
      "Fcst Date 2022-06-01T00:00:00.000000000\n",
      "Adjusted 1157 cfips and 2121 points for threshold = 0.1\n"
     ]
    },
    {
     "data": {
      "application/vnd.jupyter.widget-view+json": {
       "model_id": "5f29ee01469b413e9d67878de487c240",
       "version_major": 2,
       "version_minor": 0
      },
      "text/plain": [
       "  0%|          | 0/7 [00:00<?, ?it/s]"
      ]
     },
     "metadata": {},
     "output_type": "display_data"
    },
    {
     "name": "stdout",
     "output_type": "stream",
     "text": [
      "Max Date:  2022-05-01 00:00:00\n",
      "Fcst Date 2022-07-01T00:00:00.000000000\n",
      "Adjusted 1157 cfips and 2121 points for threshold = 0.1\n"
     ]
    },
    {
     "data": {
      "application/vnd.jupyter.widget-view+json": {
       "model_id": "1d04b588c8414dd398eca6d0861d7a14",
       "version_major": 2,
       "version_minor": 0
      },
      "text/plain": [
       "  0%|          | 0/7 [00:00<?, ?it/s]"
      ]
     },
     "metadata": {},
     "output_type": "display_data"
    },
    {
     "name": "stdout",
     "output_type": "stream",
     "text": [
      "Max Date:  2022-06-01 00:00:00\n",
      "Fcst Date 2022-08-01T00:00:00.000000000\n",
      "Adjusted 1157 cfips and 2121 points for threshold = 0.1\n"
     ]
    },
    {
     "data": {
      "application/vnd.jupyter.widget-view+json": {
       "model_id": "c3949857055e4f989635456b845d0572",
       "version_major": 2,
       "version_minor": 0
      },
      "text/plain": [
       "  0%|          | 0/7 [00:00<?, ?it/s]"
      ]
     },
     "metadata": {},
     "output_type": "display_data"
    },
    {
     "name": "stdout",
     "output_type": "stream",
     "text": [
      "Max Date:  2022-07-01 00:00:00\n",
      "Fcst Date 2022-09-01T00:00:00.000000000\n",
      "Adjusted 1157 cfips and 2121 points for threshold = 0.1\n"
     ]
    },
    {
     "data": {
      "application/vnd.jupyter.widget-view+json": {
       "model_id": "d9d7b3b9c8184b78bd6466e7c3ba426a",
       "version_major": 2,
       "version_minor": 0
      },
      "text/plain": [
       "  0%|          | 0/7 [00:00<?, ?it/s]"
      ]
     },
     "metadata": {},
     "output_type": "display_data"
    },
    {
     "name": "stdout",
     "output_type": "stream",
     "text": [
      "Max Date:  2022-08-01 00:00:00\n",
      "SMAPE =  3.125975745486089\n",
      "------------------------------------------------------------------------------------------------------------------------------\n",
      "Fold 5 : Train up to and including data from  2022-05-01T00:00:00.000000000 and evaluate forecasts from  2022-08-01T00:00:00.000000000 to 2022-10-01T00:00:00.000000000\n",
      "Training model\n",
      "Take last values from 2022-05-01 00:00:00\n",
      "Adjusted 1158 cfips and 2140 points for threshold = 0.1\n"
     ]
    },
    {
     "data": {
      "application/vnd.jupyter.widget-view+json": {
       "model_id": "b464c62365d349c7814fa4aa18783f11",
       "version_major": 2,
       "version_minor": 0
      },
      "text/plain": [
       "  0%|          | 0/7 [00:00<?, ?it/s]"
      ]
     },
     "metadata": {},
     "output_type": "display_data"
    },
    {
     "name": "stdout",
     "output_type": "stream",
     "text": [
      "Fitting model\n",
      "Training took  25 seconds\n",
      "Predicting\n",
      "Fcst Date 2022-06-01T00:00:00.000000000\n",
      "Adjusted 1158 cfips and 2140 points for threshold = 0.1\n"
     ]
    },
    {
     "data": {
      "application/vnd.jupyter.widget-view+json": {
       "model_id": "16821f6f2023401180c8c0de8fdb2d30",
       "version_major": 2,
       "version_minor": 0
      },
      "text/plain": [
       "  0%|          | 0/7 [00:00<?, ?it/s]"
      ]
     },
     "metadata": {},
     "output_type": "display_data"
    },
    {
     "name": "stdout",
     "output_type": "stream",
     "text": [
      "Max Date:  2022-05-01 00:00:00\n",
      "Fcst Date 2022-07-01T00:00:00.000000000\n",
      "Adjusted 1158 cfips and 2140 points for threshold = 0.1\n"
     ]
    },
    {
     "data": {
      "application/vnd.jupyter.widget-view+json": {
       "model_id": "4c4c4b2d352545fda4330b0249e96707",
       "version_major": 2,
       "version_minor": 0
      },
      "text/plain": [
       "  0%|          | 0/7 [00:00<?, ?it/s]"
      ]
     },
     "metadata": {},
     "output_type": "display_data"
    },
    {
     "name": "stdout",
     "output_type": "stream",
     "text": [
      "Max Date:  2022-06-01 00:00:00\n",
      "Fcst Date 2022-08-01T00:00:00.000000000\n",
      "Adjusted 1158 cfips and 2140 points for threshold = 0.1\n"
     ]
    },
    {
     "data": {
      "application/vnd.jupyter.widget-view+json": {
       "model_id": "1079680529b440bb994f9650681aa4f2",
       "version_major": 2,
       "version_minor": 0
      },
      "text/plain": [
       "  0%|          | 0/7 [00:00<?, ?it/s]"
      ]
     },
     "metadata": {},
     "output_type": "display_data"
    },
    {
     "name": "stdout",
     "output_type": "stream",
     "text": [
      "Max Date:  2022-07-01 00:00:00\n",
      "Fcst Date 2022-09-01T00:00:00.000000000\n",
      "Adjusted 1158 cfips and 2140 points for threshold = 0.1\n"
     ]
    },
    {
     "data": {
      "application/vnd.jupyter.widget-view+json": {
       "model_id": "d9eaf811abdd41da9a7a5026c0929167",
       "version_major": 2,
       "version_minor": 0
      },
      "text/plain": [
       "  0%|          | 0/7 [00:00<?, ?it/s]"
      ]
     },
     "metadata": {},
     "output_type": "display_data"
    },
    {
     "name": "stdout",
     "output_type": "stream",
     "text": [
      "Max Date:  2022-08-01 00:00:00\n",
      "Fcst Date 2022-10-01T00:00:00.000000000\n",
      "Adjusted 1158 cfips and 2140 points for threshold = 0.1\n"
     ]
    },
    {
     "data": {
      "application/vnd.jupyter.widget-view+json": {
       "model_id": "e983e909373b456e8fe732cac286c53b",
       "version_major": 2,
       "version_minor": 0
      },
      "text/plain": [
       "  0%|          | 0/7 [00:00<?, ?it/s]"
      ]
     },
     "metadata": {},
     "output_type": "display_data"
    },
    {
     "name": "stdout",
     "output_type": "stream",
     "text": [
      "Max Date:  2022-09-01 00:00:00\n",
      "SMAPE =  3.5523267423327463\n",
      "------------------------------------------------------SUMMARY-------------------------------------------------------------------\n",
      "Train up to and including data from  2022-01-01T00:00:00.000000000 and evaluate forecasts from  2022-04-01T00:00:00.000000000 to 2022-06-01T00:00:00.000000000 = 3.0306891973970402\n",
      "Train up to and including data from  2022-02-01T00:00:00.000000000 and evaluate forecasts from  2022-05-01T00:00:00.000000000 to 2022-07-01T00:00:00.000000000 = 3.215700297656176\n",
      "Train up to and including data from  2022-03-01T00:00:00.000000000 and evaluate forecasts from  2022-06-01T00:00:00.000000000 to 2022-08-01T00:00:00.000000000 = 3.116731127638121\n",
      "Train up to and including data from  2022-04-01T00:00:00.000000000 and evaluate forecasts from  2022-07-01T00:00:00.000000000 to 2022-09-01T00:00:00.000000000 = 3.125975745486089\n",
      "Train up to and including data from  2022-05-01T00:00:00.000000000 and evaluate forecasts from  2022-08-01T00:00:00.000000000 to 2022-10-01T00:00:00.000000000 = 3.5523267423327463\n",
      "Average SMAPE = 3.2082846221020347\n"
     ]
    }
   ],
   "source": [
    "env = CVTestEnv(data=data[data.is_test == 0].copy(), start_test_month=2, number_months=3, number_folds=5)\n",
    "bdtmodel = BDTRollFwdModel(get_model=get_model, pop_split=pop_split, train_clip=train_clip, use_blacklist=use_blacklist, features=features, scale=1.0)\n",
    "bdtresults = env.test_model(bdtmodel)"
   ]
  },
  {
   "cell_type": "code",
   "execution_count": 28,
   "metadata": {},
   "outputs": [
    {
     "name": "stdout",
     "output_type": "stream",
     "text": [
      "------------------------------------------------------------------------------------------------------------------------------\n",
      "Fold 1 : Train up to and including data from  2022-03-01T00:00:00.000000000 and evaluate forecasts from  2022-06-01T00:00:00.000000000 to 2022-08-01T00:00:00.000000000\n",
      "Training model\n",
      "Take last values from 2022-03-01 00:00:00\n",
      "Adjusted 1146 cfips and 2074 points for threshold = 0.1\n"
     ]
    },
    {
     "data": {
      "application/vnd.jupyter.widget-view+json": {
       "model_id": "e4712df5057742ea9bf021cd6d2b2cb9",
       "version_major": 2,
       "version_minor": 0
      },
      "text/plain": [
       "  0%|          | 0/7 [00:00<?, ?it/s]"
      ]
     },
     "metadata": {},
     "output_type": "display_data"
    },
    {
     "name": "stdout",
     "output_type": "stream",
     "text": [
      "Fitting model\n",
      "Training took  29 seconds\n",
      "Predicting\n",
      "Fcst Date 2022-04-01T00:00:00.000000000\n",
      "Adjusted 1146 cfips and 2074 points for threshold = 0.1\n"
     ]
    },
    {
     "data": {
      "application/vnd.jupyter.widget-view+json": {
       "model_id": "fb7871f6c8a94c54890a4c2171e9a67a",
       "version_major": 2,
       "version_minor": 0
      },
      "text/plain": [
       "  0%|          | 0/7 [00:00<?, ?it/s]"
      ]
     },
     "metadata": {},
     "output_type": "display_data"
    },
    {
     "name": "stdout",
     "output_type": "stream",
     "text": [
      "Max Date:  2022-03-01 00:00:00\n",
      "Fcst Date 2022-05-01T00:00:00.000000000\n",
      "Adjusted 1146 cfips and 2074 points for threshold = 0.1\n"
     ]
    },
    {
     "data": {
      "application/vnd.jupyter.widget-view+json": {
       "model_id": "c1d86517a1374ed396c618a4b9e9208e",
       "version_major": 2,
       "version_minor": 0
      },
      "text/plain": [
       "  0%|          | 0/7 [00:00<?, ?it/s]"
      ]
     },
     "metadata": {},
     "output_type": "display_data"
    },
    {
     "name": "stdout",
     "output_type": "stream",
     "text": [
      "Max Date:  2022-04-01 00:00:00\n",
      "Fcst Date 2022-06-01T00:00:00.000000000\n",
      "Adjusted 1146 cfips and 2074 points for threshold = 0.1\n"
     ]
    },
    {
     "data": {
      "application/vnd.jupyter.widget-view+json": {
       "model_id": "77f947d55e104614a1d8b995c0eb8f63",
       "version_major": 2,
       "version_minor": 0
      },
      "text/plain": [
       "  0%|          | 0/7 [00:00<?, ?it/s]"
      ]
     },
     "metadata": {},
     "output_type": "display_data"
    },
    {
     "name": "stdout",
     "output_type": "stream",
     "text": [
      "Max Date:  2022-05-01 00:00:00\n",
      "Fcst Date 2022-07-01T00:00:00.000000000\n",
      "Adjusted 1146 cfips and 2074 points for threshold = 0.1\n"
     ]
    },
    {
     "data": {
      "application/vnd.jupyter.widget-view+json": {
       "model_id": "54c8a4217d384ed99f5259e1aff085a4",
       "version_major": 2,
       "version_minor": 0
      },
      "text/plain": [
       "  0%|          | 0/7 [00:00<?, ?it/s]"
      ]
     },
     "metadata": {},
     "output_type": "display_data"
    },
    {
     "name": "stdout",
     "output_type": "stream",
     "text": [
      "Max Date:  2022-06-01 00:00:00\n",
      "Fcst Date 2022-08-01T00:00:00.000000000\n",
      "Adjusted 1146 cfips and 2074 points for threshold = 0.1\n"
     ]
    },
    {
     "data": {
      "application/vnd.jupyter.widget-view+json": {
       "model_id": "d57facec25c64b7a8064bdc5897932a6",
       "version_major": 2,
       "version_minor": 0
      },
      "text/plain": [
       "  0%|          | 0/7 [00:00<?, ?it/s]"
      ]
     },
     "metadata": {},
     "output_type": "display_data"
    },
    {
     "name": "stdout",
     "output_type": "stream",
     "text": [
      "Max Date:  2022-07-01 00:00:00\n",
      "SMAPE =  3.018827146872973\n",
      "------------------------------------------------------------------------------------------------------------------------------\n",
      "Fold 2 : Train up to and including data from  2022-04-01T00:00:00.000000000 and evaluate forecasts from  2022-07-01T00:00:00.000000000 to 2022-09-01T00:00:00.000000000\n",
      "Training model\n",
      "Take last values from 2022-04-01 00:00:00\n",
      "Adjusted 1157 cfips and 2121 points for threshold = 0.1\n"
     ]
    },
    {
     "data": {
      "application/vnd.jupyter.widget-view+json": {
       "model_id": "975c21a7c3b9437f98db486a959f54c8",
       "version_major": 2,
       "version_minor": 0
      },
      "text/plain": [
       "  0%|          | 0/7 [00:00<?, ?it/s]"
      ]
     },
     "metadata": {},
     "output_type": "display_data"
    },
    {
     "name": "stdout",
     "output_type": "stream",
     "text": [
      "Fitting model\n",
      "Training took  29 seconds\n",
      "Predicting\n",
      "Fcst Date 2022-05-01T00:00:00.000000000\n",
      "Adjusted 1157 cfips and 2121 points for threshold = 0.1\n"
     ]
    },
    {
     "data": {
      "application/vnd.jupyter.widget-view+json": {
       "model_id": "7ea14eadab14416b9a79dfad9d5b75fc",
       "version_major": 2,
       "version_minor": 0
      },
      "text/plain": [
       "  0%|          | 0/7 [00:00<?, ?it/s]"
      ]
     },
     "metadata": {},
     "output_type": "display_data"
    },
    {
     "name": "stdout",
     "output_type": "stream",
     "text": [
      "Max Date:  2022-04-01 00:00:00\n",
      "Fcst Date 2022-06-01T00:00:00.000000000\n",
      "Adjusted 1157 cfips and 2121 points for threshold = 0.1\n"
     ]
    },
    {
     "data": {
      "application/vnd.jupyter.widget-view+json": {
       "model_id": "6d7d067f5f84405fa5f8c187d2cc2d66",
       "version_major": 2,
       "version_minor": 0
      },
      "text/plain": [
       "  0%|          | 0/7 [00:00<?, ?it/s]"
      ]
     },
     "metadata": {},
     "output_type": "display_data"
    },
    {
     "name": "stdout",
     "output_type": "stream",
     "text": [
      "Max Date:  2022-05-01 00:00:00\n",
      "Fcst Date 2022-07-01T00:00:00.000000000\n",
      "Adjusted 1157 cfips and 2121 points for threshold = 0.1\n"
     ]
    },
    {
     "data": {
      "application/vnd.jupyter.widget-view+json": {
       "model_id": "4f4717edf1274f68aa9987ec5ed7d7d6",
       "version_major": 2,
       "version_minor": 0
      },
      "text/plain": [
       "  0%|          | 0/7 [00:00<?, ?it/s]"
      ]
     },
     "metadata": {},
     "output_type": "display_data"
    },
    {
     "name": "stdout",
     "output_type": "stream",
     "text": [
      "Max Date:  2022-06-01 00:00:00\n",
      "Fcst Date 2022-08-01T00:00:00.000000000\n",
      "Adjusted 1157 cfips and 2121 points for threshold = 0.1\n"
     ]
    },
    {
     "data": {
      "application/vnd.jupyter.widget-view+json": {
       "model_id": "36c95d7611c44b7d97a4be864318a6e9",
       "version_major": 2,
       "version_minor": 0
      },
      "text/plain": [
       "  0%|          | 0/7 [00:00<?, ?it/s]"
      ]
     },
     "metadata": {},
     "output_type": "display_data"
    },
    {
     "name": "stdout",
     "output_type": "stream",
     "text": [
      "Max Date:  2022-07-01 00:00:00\n",
      "Fcst Date 2022-09-01T00:00:00.000000000\n",
      "Adjusted 1157 cfips and 2121 points for threshold = 0.1\n"
     ]
    },
    {
     "data": {
      "application/vnd.jupyter.widget-view+json": {
       "model_id": "7e213a26bde0446a8b9e1bae066d3de3",
       "version_major": 2,
       "version_minor": 0
      },
      "text/plain": [
       "  0%|          | 0/7 [00:00<?, ?it/s]"
      ]
     },
     "metadata": {},
     "output_type": "display_data"
    },
    {
     "name": "stdout",
     "output_type": "stream",
     "text": [
      "Max Date:  2022-08-01 00:00:00\n",
      "SMAPE =  2.990852618859583\n",
      "------------------------------------------------------------------------------------------------------------------------------\n",
      "Fold 3 : Train up to and including data from  2022-05-01T00:00:00.000000000 and evaluate forecasts from  2022-08-01T00:00:00.000000000 to 2022-10-01T00:00:00.000000000\n",
      "Training model\n",
      "Take last values from 2022-05-01 00:00:00\n",
      "Adjusted 1158 cfips and 2140 points for threshold = 0.1\n"
     ]
    },
    {
     "data": {
      "application/vnd.jupyter.widget-view+json": {
       "model_id": "4a9afef2ebae4cfb8782ddc356507e92",
       "version_major": 2,
       "version_minor": 0
      },
      "text/plain": [
       "  0%|          | 0/7 [00:00<?, ?it/s]"
      ]
     },
     "metadata": {},
     "output_type": "display_data"
    },
    {
     "name": "stdout",
     "output_type": "stream",
     "text": [
      "Fitting model\n",
      "Training took  29 seconds\n",
      "Predicting\n",
      "Fcst Date 2022-06-01T00:00:00.000000000\n",
      "Adjusted 1158 cfips and 2140 points for threshold = 0.1\n"
     ]
    },
    {
     "data": {
      "application/vnd.jupyter.widget-view+json": {
       "model_id": "86779038ddf646bf9624c7f1a4016550",
       "version_major": 2,
       "version_minor": 0
      },
      "text/plain": [
       "  0%|          | 0/7 [00:00<?, ?it/s]"
      ]
     },
     "metadata": {},
     "output_type": "display_data"
    },
    {
     "name": "stdout",
     "output_type": "stream",
     "text": [
      "Max Date:  2022-05-01 00:00:00\n",
      "Fcst Date 2022-07-01T00:00:00.000000000\n",
      "Adjusted 1158 cfips and 2140 points for threshold = 0.1\n"
     ]
    },
    {
     "data": {
      "application/vnd.jupyter.widget-view+json": {
       "model_id": "f3c1dc97ad5443a0b356b12a39c4e6ff",
       "version_major": 2,
       "version_minor": 0
      },
      "text/plain": [
       "  0%|          | 0/7 [00:00<?, ?it/s]"
      ]
     },
     "metadata": {},
     "output_type": "display_data"
    },
    {
     "name": "stdout",
     "output_type": "stream",
     "text": [
      "Max Date:  2022-06-01 00:00:00\n",
      "Fcst Date 2022-08-01T00:00:00.000000000\n",
      "Adjusted 1158 cfips and 2140 points for threshold = 0.1\n"
     ]
    },
    {
     "data": {
      "application/vnd.jupyter.widget-view+json": {
       "model_id": "de076627be2d44d68cb670dfe3fc3876",
       "version_major": 2,
       "version_minor": 0
      },
      "text/plain": [
       "  0%|          | 0/7 [00:00<?, ?it/s]"
      ]
     },
     "metadata": {},
     "output_type": "display_data"
    },
    {
     "name": "stdout",
     "output_type": "stream",
     "text": [
      "Max Date:  2022-07-01 00:00:00\n",
      "Fcst Date 2022-09-01T00:00:00.000000000\n",
      "Adjusted 1158 cfips and 2140 points for threshold = 0.1\n"
     ]
    },
    {
     "data": {
      "application/vnd.jupyter.widget-view+json": {
       "model_id": "88cf500c8d99415fb9df411f0270a695",
       "version_major": 2,
       "version_minor": 0
      },
      "text/plain": [
       "  0%|          | 0/7 [00:00<?, ?it/s]"
      ]
     },
     "metadata": {},
     "output_type": "display_data"
    },
    {
     "name": "stdout",
     "output_type": "stream",
     "text": [
      "Max Date:  2022-08-01 00:00:00\n",
      "Fcst Date 2022-10-01T00:00:00.000000000\n",
      "Adjusted 1158 cfips and 2140 points for threshold = 0.1\n"
     ]
    },
    {
     "data": {
      "application/vnd.jupyter.widget-view+json": {
       "model_id": "a6daf45d1c424319a71c21972d4ac4d8",
       "version_major": 2,
       "version_minor": 0
      },
      "text/plain": [
       "  0%|          | 0/7 [00:00<?, ?it/s]"
      ]
     },
     "metadata": {},
     "output_type": "display_data"
    },
    {
     "name": "stdout",
     "output_type": "stream",
     "text": [
      "Max Date:  2022-09-01 00:00:00\n",
      "SMAPE =  3.361413632739364\n",
      "------------------------------------------------------------------------------------------------------------------------------\n",
      "Fold 4 : Train up to and including data from  2022-06-01T00:00:00.000000000 and evaluate forecasts from  2022-09-01T00:00:00.000000000 to 2022-11-01T00:00:00.000000000\n",
      "Training model\n",
      "Take last values from 2022-06-01 00:00:00\n",
      "Adjusted 1170 cfips and 2186 points for threshold = 0.1\n"
     ]
    },
    {
     "data": {
      "application/vnd.jupyter.widget-view+json": {
       "model_id": "f67b5fb92ac94026ad83b05462a42f20",
       "version_major": 2,
       "version_minor": 0
      },
      "text/plain": [
       "  0%|          | 0/7 [00:00<?, ?it/s]"
      ]
     },
     "metadata": {},
     "output_type": "display_data"
    },
    {
     "name": "stdout",
     "output_type": "stream",
     "text": [
      "Fitting model\n",
      "Training took  29 seconds\n",
      "Predicting\n",
      "Fcst Date 2022-07-01T00:00:00.000000000\n",
      "Adjusted 1170 cfips and 2186 points for threshold = 0.1\n"
     ]
    },
    {
     "data": {
      "application/vnd.jupyter.widget-view+json": {
       "model_id": "e0dfb6d79ddf434a83ccf56537697b68",
       "version_major": 2,
       "version_minor": 0
      },
      "text/plain": [
       "  0%|          | 0/7 [00:00<?, ?it/s]"
      ]
     },
     "metadata": {},
     "output_type": "display_data"
    },
    {
     "name": "stdout",
     "output_type": "stream",
     "text": [
      "Max Date:  2022-06-01 00:00:00\n",
      "Fcst Date 2022-08-01T00:00:00.000000000\n",
      "Adjusted 1170 cfips and 2186 points for threshold = 0.1\n"
     ]
    },
    {
     "data": {
      "application/vnd.jupyter.widget-view+json": {
       "model_id": "2a67fc959fdc40599bc78b035c82b22b",
       "version_major": 2,
       "version_minor": 0
      },
      "text/plain": [
       "  0%|          | 0/7 [00:00<?, ?it/s]"
      ]
     },
     "metadata": {},
     "output_type": "display_data"
    },
    {
     "name": "stdout",
     "output_type": "stream",
     "text": [
      "Max Date:  2022-07-01 00:00:00\n",
      "Fcst Date 2022-09-01T00:00:00.000000000\n",
      "Adjusted 1170 cfips and 2186 points for threshold = 0.1\n"
     ]
    },
    {
     "data": {
      "application/vnd.jupyter.widget-view+json": {
       "model_id": "1589be724a3c431a88371031f59217b1",
       "version_major": 2,
       "version_minor": 0
      },
      "text/plain": [
       "  0%|          | 0/7 [00:00<?, ?it/s]"
      ]
     },
     "metadata": {},
     "output_type": "display_data"
    },
    {
     "name": "stdout",
     "output_type": "stream",
     "text": [
      "Max Date:  2022-08-01 00:00:00\n",
      "Fcst Date 2022-10-01T00:00:00.000000000\n",
      "Adjusted 1170 cfips and 2186 points for threshold = 0.1\n"
     ]
    },
    {
     "data": {
      "application/vnd.jupyter.widget-view+json": {
       "model_id": "a094abb6a0894b0f8e10813863bd42ee",
       "version_major": 2,
       "version_minor": 0
      },
      "text/plain": [
       "  0%|          | 0/7 [00:00<?, ?it/s]"
      ]
     },
     "metadata": {},
     "output_type": "display_data"
    },
    {
     "name": "stdout",
     "output_type": "stream",
     "text": [
      "Max Date:  2022-09-01 00:00:00\n",
      "Fcst Date 2022-11-01T00:00:00.000000000\n",
      "Adjusted 1170 cfips and 2186 points for threshold = 0.1\n"
     ]
    },
    {
     "data": {
      "application/vnd.jupyter.widget-view+json": {
       "model_id": "2ffd323173d944748c4be5334487c8dd",
       "version_major": 2,
       "version_minor": 0
      },
      "text/plain": [
       "  0%|          | 0/7 [00:00<?, ?it/s]"
      ]
     },
     "metadata": {},
     "output_type": "display_data"
    },
    {
     "name": "stdout",
     "output_type": "stream",
     "text": [
      "Max Date:  2022-10-01 00:00:00\n",
      "SMAPE =  2.9483335257353676\n",
      "------------------------------------------------------------------------------------------------------------------------------\n",
      "Fold 5 : Train up to and including data from  2022-07-01T00:00:00.000000000 and evaluate forecasts from  2022-10-01T00:00:00.000000000 to 2022-12-01T00:00:00.000000000\n",
      "Training model\n",
      "Take last values from 2022-07-01 00:00:00\n",
      "Adjusted 1191 cfips and 2224 points for threshold = 0.1\n"
     ]
    },
    {
     "data": {
      "application/vnd.jupyter.widget-view+json": {
       "model_id": "463942c4813d46129d62f40ff7f111a5",
       "version_major": 2,
       "version_minor": 0
      },
      "text/plain": [
       "  0%|          | 0/7 [00:00<?, ?it/s]"
      ]
     },
     "metadata": {},
     "output_type": "display_data"
    },
    {
     "name": "stdout",
     "output_type": "stream",
     "text": [
      "Fitting model\n",
      "Training took  30 seconds\n",
      "Predicting\n",
      "Fcst Date 2022-08-01T00:00:00.000000000\n",
      "Adjusted 1191 cfips and 2224 points for threshold = 0.1\n"
     ]
    },
    {
     "data": {
      "application/vnd.jupyter.widget-view+json": {
       "model_id": "27ae00a33f9e42879c957c33adbea913",
       "version_major": 2,
       "version_minor": 0
      },
      "text/plain": [
       "  0%|          | 0/7 [00:00<?, ?it/s]"
      ]
     },
     "metadata": {},
     "output_type": "display_data"
    },
    {
     "name": "stdout",
     "output_type": "stream",
     "text": [
      "Max Date:  2022-07-01 00:00:00\n",
      "Fcst Date 2022-09-01T00:00:00.000000000\n",
      "Adjusted 1191 cfips and 2224 points for threshold = 0.1\n"
     ]
    },
    {
     "data": {
      "application/vnd.jupyter.widget-view+json": {
       "model_id": "eda597ecb0884400acde2790684706a6",
       "version_major": 2,
       "version_minor": 0
      },
      "text/plain": [
       "  0%|          | 0/7 [00:00<?, ?it/s]"
      ]
     },
     "metadata": {},
     "output_type": "display_data"
    },
    {
     "name": "stdout",
     "output_type": "stream",
     "text": [
      "Max Date:  2022-08-01 00:00:00\n",
      "Fcst Date 2022-10-01T00:00:00.000000000\n",
      "Adjusted 1191 cfips and 2224 points for threshold = 0.1\n"
     ]
    },
    {
     "data": {
      "application/vnd.jupyter.widget-view+json": {
       "model_id": "faddf3d0c63c4a9c99c80cbe76e2e413",
       "version_major": 2,
       "version_minor": 0
      },
      "text/plain": [
       "  0%|          | 0/7 [00:00<?, ?it/s]"
      ]
     },
     "metadata": {},
     "output_type": "display_data"
    },
    {
     "name": "stdout",
     "output_type": "stream",
     "text": [
      "Max Date:  2022-09-01 00:00:00\n",
      "Fcst Date 2022-11-01T00:00:00.000000000\n",
      "Adjusted 1191 cfips and 2224 points for threshold = 0.1\n"
     ]
    },
    {
     "data": {
      "application/vnd.jupyter.widget-view+json": {
       "model_id": "938a7cefbfcd4b2698348df28fbd2351",
       "version_major": 2,
       "version_minor": 0
      },
      "text/plain": [
       "  0%|          | 0/7 [00:00<?, ?it/s]"
      ]
     },
     "metadata": {},
     "output_type": "display_data"
    },
    {
     "name": "stdout",
     "output_type": "stream",
     "text": [
      "Max Date:  2022-10-01 00:00:00\n",
      "Fcst Date 2022-12-01T00:00:00.000000000\n",
      "Adjusted 1191 cfips and 2224 points for threshold = 0.1\n"
     ]
    },
    {
     "data": {
      "application/vnd.jupyter.widget-view+json": {
       "model_id": "cd7790b61aba491085749325e8e71c0d",
       "version_major": 2,
       "version_minor": 0
      },
      "text/plain": [
       "  0%|          | 0/7 [00:00<?, ?it/s]"
      ]
     },
     "metadata": {},
     "output_type": "display_data"
    },
    {
     "name": "stdout",
     "output_type": "stream",
     "text": [
      "Max Date:  2022-11-01 00:00:00\n",
      "SMAPE =  3.2573870107369913\n",
      "------------------------------------------------------SUMMARY-------------------------------------------------------------------\n",
      "Train up to and including data from  2022-03-01T00:00:00.000000000 and evaluate forecasts from  2022-06-01T00:00:00.000000000 to 2022-08-01T00:00:00.000000000 = 3.018827146872973\n",
      "Train up to and including data from  2022-04-01T00:00:00.000000000 and evaluate forecasts from  2022-07-01T00:00:00.000000000 to 2022-09-01T00:00:00.000000000 = 2.990852618859583\n",
      "Train up to and including data from  2022-05-01T00:00:00.000000000 and evaluate forecasts from  2022-08-01T00:00:00.000000000 to 2022-10-01T00:00:00.000000000 = 3.361413632739364\n",
      "Train up to and including data from  2022-06-01T00:00:00.000000000 and evaluate forecasts from  2022-09-01T00:00:00.000000000 to 2022-11-01T00:00:00.000000000 = 2.9483335257353676\n",
      "Train up to and including data from  2022-07-01T00:00:00.000000000 and evaluate forecasts from  2022-10-01T00:00:00.000000000 to 2022-12-01T00:00:00.000000000 = 3.2573870107369913\n",
      "Average SMAPE = 3.115362786988856\n"
     ]
    }
   ],
   "source": [
    "features = ['state_i',  \n",
    " 'mbd_lag_1',\n",
    " 'act_lag_1',\n",
    " 'mbd_lag_2',\n",
    " 'act_lag_2',\n",
    " 'mbd_lag_3',\n",
    " 'act_lag_3',\n",
    " 'mbd_lag_4',\n",
    " 'act_lag_4',\n",
    " 'mbd_lag_5',\n",
    " 'act_lag_5',\n",
    " 'mbd_lag_6',\n",
    " 'act_lag_6',\n",
    " 'mbd_lag_7',\n",
    " 'act_lag_7',\n",
    " 'mbd_rollmea2_1',\n",
    " 'mbd_rollmea4_1',\n",
    " 'mbd_rollmea6_1',\n",
    " 'mbd_rollmea8_1',\n",
    " 'mbd_rollmea10_1',\n",
    " 'pct_bb_last_year',\n",
    " 'used_population',\n",
    " 'neighbor_diff',\n",
    " 'pct_college_last_year',\n",
    " 'pct_foreign_born_last_year',\n",
    " 'pct_it_workers_last_year',\n",
    " 'median_hh_inc_last_year',\n",
    " 'seer_pop_chg',\n",
    " 'labor_force',\n",
    " 'labor_participation',\n",
    " 'participation',\n",
    " 'lat',\n",
    " 'lng',\n",
    " 'engagement',\n",
    " 'seer_black_pct',\n",
    " 'MAI_composite',            \n",
    "           ]\n",
    "\n",
    "use_blacklist = True\n",
    "train_clip = train_clip_none\n",
    "pop_split = 5000\n",
    "get_model = get_model_xgb\n",
    "\n",
    "env = CVTestEnv(data=data[data.is_test < 2].copy(), start_test_month=2, number_months=3, number_folds=5)\n",
    "bdtmodel = BDTRollFwdModel(get_model=get_model, pop_split=pop_split, train_clip=train_clip, use_blacklist=use_blacklist, features=features, scale=1.0)\n",
    "bdtresults = env.test_model(bdtmodel)"
   ]
  },
  {
   "cell_type": "code",
   "execution_count": 29,
   "metadata": {},
   "outputs": [
    {
     "name": "stdout",
     "output_type": "stream",
     "text": [
      "Take last values from 2022-12-01 00:00:00\n",
      "Adjusted 1231 cfips and 2359 points for threshold = 0.1\n"
     ]
    },
    {
     "data": {
      "application/vnd.jupyter.widget-view+json": {
       "model_id": "c17e03334a4941e48a2215fc76367176",
       "version_major": 2,
       "version_minor": 0
      },
      "text/plain": [
       "  0%|          | 0/7 [00:00<?, ?it/s]"
      ]
     },
     "metadata": {},
     "output_type": "display_data"
    },
    {
     "name": "stdout",
     "output_type": "stream",
     "text": [
      "Fitting model\n",
      "Fcst Date 2023-01-01T00:00:00.000000000\n",
      "Adjusted 1231 cfips and 2359 points for threshold = 0.1\n"
     ]
    },
    {
     "data": {
      "application/vnd.jupyter.widget-view+json": {
       "model_id": "1081a9a3d7f947518c6668b6753b7391",
       "version_major": 2,
       "version_minor": 0
      },
      "text/plain": [
       "  0%|          | 0/7 [00:00<?, ?it/s]"
      ]
     },
     "metadata": {},
     "output_type": "display_data"
    },
    {
     "name": "stdout",
     "output_type": "stream",
     "text": [
      "Max Date:  2022-12-01 00:00:00\n",
      "Fcst Date 2023-02-01T00:00:00.000000000\n",
      "Adjusted 1231 cfips and 2359 points for threshold = 0.1\n"
     ]
    },
    {
     "data": {
      "application/vnd.jupyter.widget-view+json": {
       "model_id": "17b0693ca4854fa2bf4787bf9d140364",
       "version_major": 2,
       "version_minor": 0
      },
      "text/plain": [
       "  0%|          | 0/7 [00:00<?, ?it/s]"
      ]
     },
     "metadata": {},
     "output_type": "display_data"
    },
    {
     "name": "stdout",
     "output_type": "stream",
     "text": [
      "Max Date:  2023-01-01 00:00:00\n",
      "Fcst Date 2023-03-01T00:00:00.000000000\n",
      "Adjusted 1231 cfips and 2359 points for threshold = 0.1\n"
     ]
    },
    {
     "data": {
      "application/vnd.jupyter.widget-view+json": {
       "model_id": "e5bed7532b2f45978db9f8a1b32635d0",
       "version_major": 2,
       "version_minor": 0
      },
      "text/plain": [
       "  0%|          | 0/7 [00:00<?, ?it/s]"
      ]
     },
     "metadata": {},
     "output_type": "display_data"
    },
    {
     "name": "stdout",
     "output_type": "stream",
     "text": [
      "Max Date:  2023-02-01 00:00:00\n",
      "Fcst Date 2023-04-01T00:00:00.000000000\n",
      "Adjusted 1231 cfips and 2359 points for threshold = 0.1\n"
     ]
    },
    {
     "data": {
      "application/vnd.jupyter.widget-view+json": {
       "model_id": "ec28ad62a3c047a38ebd902803842402",
       "version_major": 2,
       "version_minor": 0
      },
      "text/plain": [
       "  0%|          | 0/7 [00:00<?, ?it/s]"
      ]
     },
     "metadata": {},
     "output_type": "display_data"
    },
    {
     "name": "stdout",
     "output_type": "stream",
     "text": [
      "Max Date:  2023-03-01 00:00:00\n",
      "Fcst Date 2023-05-01T00:00:00.000000000\n",
      "Adjusted 1231 cfips and 2359 points for threshold = 0.1\n"
     ]
    },
    {
     "data": {
      "application/vnd.jupyter.widget-view+json": {
       "model_id": "bbeb7171d4814e9eba14bde7e08baa75",
       "version_major": 2,
       "version_minor": 0
      },
      "text/plain": [
       "  0%|          | 0/7 [00:00<?, ?it/s]"
      ]
     },
     "metadata": {},
     "output_type": "display_data"
    },
    {
     "name": "stdout",
     "output_type": "stream",
     "text": [
      "Max Date:  2023-04-01 00:00:00\n",
      "Fcst Date 2023-06-01T00:00:00.000000000\n",
      "Adjusted 1231 cfips and 2359 points for threshold = 0.1\n"
     ]
    },
    {
     "data": {
      "application/vnd.jupyter.widget-view+json": {
       "model_id": "ef82990a45e649b3b692d9b8ea1998fb",
       "version_major": 2,
       "version_minor": 0
      },
      "text/plain": [
       "  0%|          | 0/7 [00:00<?, ?it/s]"
      ]
     },
     "metadata": {},
     "output_type": "display_data"
    },
    {
     "name": "stdout",
     "output_type": "stream",
     "text": [
      "Max Date:  2023-05-01 00:00:00\n"
     ]
    }
   ],
   "source": [
    "features = ['state_i',  \n",
    " 'mbd_lag_1',\n",
    " 'act_lag_1',\n",
    " 'mbd_lag_2',\n",
    " 'act_lag_2',\n",
    " 'mbd_lag_3',\n",
    " 'act_lag_3',\n",
    " 'mbd_lag_4',\n",
    " 'act_lag_4',\n",
    " 'mbd_lag_5',\n",
    " 'act_lag_5',\n",
    " 'mbd_lag_6',\n",
    " 'act_lag_6',\n",
    " 'mbd_lag_7',\n",
    " 'act_lag_7',\n",
    " 'mbd_rollmea2_1',\n",
    " 'mbd_rollmea4_1',\n",
    " 'mbd_rollmea6_1',\n",
    " 'mbd_rollmea8_1',\n",
    " 'mbd_rollmea10_1',\n",
    " 'pct_bb_last_year',\n",
    " 'used_population',\n",
    " 'neighbor_diff',\n",
    " 'pct_college_last_year',\n",
    " 'pct_foreign_born_last_year',\n",
    " 'pct_it_workers_last_year',\n",
    " 'median_hh_inc_last_year',\n",
    " 'seer_pop_chg',\n",
    " 'labor_force',\n",
    " 'labor_participation',\n",
    " 'participation',\n",
    " 'lat',\n",
    " 'lng',\n",
    " 'engagement',\n",
    " 'seer_black_pct',\n",
    " 'MAI_composite',            \n",
    "           ]\n",
    "\n",
    "use_blacklist = True\n",
    "train_clip = train_clip_none\n",
    "pop_split = 5000\n",
    "get_model = get_model_xgb\n",
    "\n",
    "train = data[data.is_test < 2].copy()\n",
    "test = data[data.is_test == 2].copy()\n",
    "\n",
    "bdtmodel = BDTRollFwdModel(get_model=get_model, pop_split=pop_split, train_clip=train_clip, use_blacklist=use_blacklist, features=features, scale=1.0)\n",
    "bdtmodel.fit(train)\n",
    "pred = bdtmodel.predict(test)\n",
    "\n",
    "tmp = data[data.is_test > 0].set_index('row_id').copy()\n",
    "tmp.loc[tmp.is_test == 2, 'microbusiness_density'] = pred\n",
    "noadj_filename = f'submission_xgb_noadj.csv'\n",
    "tmp['microbusiness_density'].to_csv(noadj_filename)"
   ]
  },
  {
   "cell_type": "code",
   "execution_count": 30,
   "metadata": {},
   "outputs": [],
   "source": [
    "changes = [(21201, 5),\n",
    "           (46017, 11),\n",
    "           (30069, 12),\n",
    "           (31015, 12),\n",
    "           (48173, 12),\n",
    "           (5013, 16),\n",
    "           (31057, 17),\n",
    "           (38095, 17),\n",
    "           (20195, 18),\n",
    "           (21189, 18),\n",
    "           (20135, 19),\n",
    "           (13061, 21),\n",
    "           \n",
    "           (48205, 10),  # Nailed it!\n",
    "           \n",
    "           (38065, 23),\n",
    "           \n",
    "           (48063, 1055),\n",
    "           (27009, 1309),\n",
    "           (19001, 122),\n",
    "           (39127, 349),\n",
    "           (17151, 26),\n",
    "           (41031, 551),\n",
    "           # (29099, 5357),\n",
    "           (29099, 5916),\n",
    "           (12067, 83),\n",
    "           (5077, 46),\n",
    "           (13235, 114),\n",
    "           (22043, 204),\n",
    "          ]"
   ]
  },
  {
   "cell_type": "code",
   "execution_count": 31,
   "metadata": {},
   "outputs": [
    {
     "name": "stdout",
     "output_type": "stream",
     "text": [
      "Take last values from 2022-12-01 00:00:00\n",
      "Adjusted 1231 cfips and 2359 points for threshold = 0.1\n"
     ]
    },
    {
     "data": {
      "application/vnd.jupyter.widget-view+json": {
       "model_id": "ecc11148880c43d58dd63b98efb1a76f",
       "version_major": 2,
       "version_minor": 0
      },
      "text/plain": [
       "  0%|          | 0/7 [00:00<?, ?it/s]"
      ]
     },
     "metadata": {},
     "output_type": "display_data"
    },
    {
     "name": "stdout",
     "output_type": "stream",
     "text": [
      "Fitting model\n",
      "Fcst Date 2023-01-01T00:00:00.000000000\n",
      "Adjusted 1231 cfips and 2359 points for threshold = 0.1\n"
     ]
    },
    {
     "data": {
      "application/vnd.jupyter.widget-view+json": {
       "model_id": "ed92234494b143fc9627ea26da6cb9cc",
       "version_major": 2,
       "version_minor": 0
      },
      "text/plain": [
       "  0%|          | 0/7 [00:00<?, ?it/s]"
      ]
     },
     "metadata": {},
     "output_type": "display_data"
    },
    {
     "name": "stdout",
     "output_type": "stream",
     "text": [
      "Max Date:  2022-12-01 00:00:00\n",
      "Do january replace with [(21201, 5), (46017, 11), (30069, 12), (31015, 12), (48173, 12), (5013, 16), (31057, 17), (38095, 17), (20195, 18), (21189, 18), (20135, 19), (13061, 21), (48205, 10), (38065, 23), (48063, 1055), (27009, 1309), (19001, 122), (39127, 349), (17151, 26), (41031, 551), (29099, 5916), (12067, 83), (5077, 46), (13235, 114), (22043, 204)]\n",
      "Fcst Date 2023-02-01T00:00:00.000000000\n"
     ]
    },
    {
     "name": "stderr",
     "output_type": "stream",
     "text": [
      "C:\\Users\\User\\AppData\\Local\\Temp\\ipykernel_41848\\526917233.py:23: RuntimeWarning: divide by zero encountered in double_scalars\n",
      "  pct_chg = var[i]/var[i-1] - 1\n"
     ]
    },
    {
     "name": "stdout",
     "output_type": "stream",
     "text": [
      "Adjusted 1231 cfips and 2376 points for threshold = 0.1\n"
     ]
    },
    {
     "data": {
      "application/vnd.jupyter.widget-view+json": {
       "model_id": "674660b490b84208b78dd49925a0753f",
       "version_major": 2,
       "version_minor": 0
      },
      "text/plain": [
       "  0%|          | 0/7 [00:00<?, ?it/s]"
      ]
     },
     "metadata": {},
     "output_type": "display_data"
    },
    {
     "name": "stdout",
     "output_type": "stream",
     "text": [
      "Max Date:  2023-01-01 00:00:00\n",
      "Fcst Date 2023-03-01T00:00:00.000000000\n"
     ]
    },
    {
     "name": "stderr",
     "output_type": "stream",
     "text": [
      "C:\\Users\\User\\AppData\\Local\\Temp\\ipykernel_41848\\526917233.py:23: RuntimeWarning: divide by zero encountered in double_scalars\n",
      "  pct_chg = var[i]/var[i-1] - 1\n"
     ]
    },
    {
     "name": "stdout",
     "output_type": "stream",
     "text": [
      "Adjusted 1231 cfips and 2376 points for threshold = 0.1\n"
     ]
    },
    {
     "data": {
      "application/vnd.jupyter.widget-view+json": {
       "model_id": "17e98775899f448babc2b9a24535e227",
       "version_major": 2,
       "version_minor": 0
      },
      "text/plain": [
       "  0%|          | 0/7 [00:00<?, ?it/s]"
      ]
     },
     "metadata": {},
     "output_type": "display_data"
    },
    {
     "name": "stdout",
     "output_type": "stream",
     "text": [
      "Max Date:  2023-02-01 00:00:00\n",
      "Fcst Date 2023-04-01T00:00:00.000000000\n"
     ]
    },
    {
     "name": "stderr",
     "output_type": "stream",
     "text": [
      "C:\\Users\\User\\AppData\\Local\\Temp\\ipykernel_41848\\526917233.py:23: RuntimeWarning: divide by zero encountered in double_scalars\n",
      "  pct_chg = var[i]/var[i-1] - 1\n"
     ]
    },
    {
     "name": "stdout",
     "output_type": "stream",
     "text": [
      "Adjusted 1231 cfips and 2376 points for threshold = 0.1\n"
     ]
    },
    {
     "data": {
      "application/vnd.jupyter.widget-view+json": {
       "model_id": "53b986c503a0416eae87a68a5d65b430",
       "version_major": 2,
       "version_minor": 0
      },
      "text/plain": [
       "  0%|          | 0/7 [00:00<?, ?it/s]"
      ]
     },
     "metadata": {},
     "output_type": "display_data"
    },
    {
     "name": "stdout",
     "output_type": "stream",
     "text": [
      "Max Date:  2023-03-01 00:00:00\n",
      "Fcst Date 2023-05-01T00:00:00.000000000\n"
     ]
    },
    {
     "name": "stderr",
     "output_type": "stream",
     "text": [
      "C:\\Users\\User\\AppData\\Local\\Temp\\ipykernel_41848\\526917233.py:23: RuntimeWarning: divide by zero encountered in double_scalars\n",
      "  pct_chg = var[i]/var[i-1] - 1\n"
     ]
    },
    {
     "name": "stdout",
     "output_type": "stream",
     "text": [
      "Adjusted 1231 cfips and 2376 points for threshold = 0.1\n"
     ]
    },
    {
     "data": {
      "application/vnd.jupyter.widget-view+json": {
       "model_id": "cb2e5d52e6d8408f9249b8640fc84ce6",
       "version_major": 2,
       "version_minor": 0
      },
      "text/plain": [
       "  0%|          | 0/7 [00:00<?, ?it/s]"
      ]
     },
     "metadata": {},
     "output_type": "display_data"
    },
    {
     "name": "stdout",
     "output_type": "stream",
     "text": [
      "Max Date:  2023-04-01 00:00:00\n",
      "Fcst Date 2023-06-01T00:00:00.000000000\n"
     ]
    },
    {
     "name": "stderr",
     "output_type": "stream",
     "text": [
      "C:\\Users\\User\\AppData\\Local\\Temp\\ipykernel_41848\\526917233.py:23: RuntimeWarning: divide by zero encountered in double_scalars\n",
      "  pct_chg = var[i]/var[i-1] - 1\n"
     ]
    },
    {
     "name": "stdout",
     "output_type": "stream",
     "text": [
      "Adjusted 1231 cfips and 2376 points for threshold = 0.1\n"
     ]
    },
    {
     "data": {
      "application/vnd.jupyter.widget-view+json": {
       "model_id": "c2ed9ed4f4fe4a69928c66e11b7c9152",
       "version_major": 2,
       "version_minor": 0
      },
      "text/plain": [
       "  0%|          | 0/7 [00:00<?, ?it/s]"
      ]
     },
     "metadata": {},
     "output_type": "display_data"
    },
    {
     "name": "stdout",
     "output_type": "stream",
     "text": [
      "Max Date:  2023-05-01 00:00:00\n"
     ]
    }
   ],
   "source": [
    "features = ['state_i',  \n",
    " 'mbd_lag_1',\n",
    " 'act_lag_1',\n",
    " 'mbd_lag_2',\n",
    " 'act_lag_2',\n",
    " 'mbd_lag_3',\n",
    " 'act_lag_3',\n",
    " 'mbd_lag_4',\n",
    " 'act_lag_4',\n",
    " 'mbd_lag_5',\n",
    " 'act_lag_5',\n",
    " 'mbd_lag_6',\n",
    " 'act_lag_6',\n",
    " 'mbd_lag_7',\n",
    " 'act_lag_7',\n",
    " 'mbd_rollmea2_1',\n",
    " 'mbd_rollmea4_1',\n",
    " 'mbd_rollmea6_1',\n",
    " 'mbd_rollmea8_1',\n",
    " 'mbd_rollmea10_1',\n",
    " 'pct_bb_last_year',\n",
    " 'used_population',\n",
    " 'neighbor_diff',\n",
    " 'pct_college_last_year',\n",
    " 'pct_foreign_born_last_year',\n",
    " 'pct_it_workers_last_year',\n",
    " 'median_hh_inc_last_year',\n",
    " 'seer_pop_chg',\n",
    " 'labor_force',\n",
    " 'labor_participation',\n",
    " 'participation',\n",
    " 'lat',\n",
    " 'lng',\n",
    " 'engagement',\n",
    " 'seer_black_pct',\n",
    " 'MAI_composite',            \n",
    "           ]\n",
    "\n",
    "use_blacklist = True\n",
    "train_clip = train_clip_none\n",
    "pop_split = 5000\n",
    "get_model = get_model_xgb\n",
    "\n",
    "train = data[data.is_test < 2].copy()\n",
    "test = data[data.is_test == 2].copy()\n",
    "\n",
    "bdtmodel = BDTRollFwdModel(get_model=get_model, pop_split=pop_split, train_clip=train_clip, use_blacklist=use_blacklist, \n",
    "                           features=features, scale=1.0, probing_changes=changes)\n",
    "bdtmodel.fit(train)\n",
    "pred = bdtmodel.predict(test)\n",
    "\n",
    "tmp = data[data.is_test > 0].set_index('row_id').copy()\n",
    "tmp.loc[tmp.is_test == 2, 'microbusiness_density'] = pred\n",
    "dtstr = datetime.datetime.now().strftime('%Y%m%d%H%M%S')\n",
    "adj_filename = f'submission_xgb_adjjan_changes.csv'\n",
    "tmp['microbusiness_density'].to_csv(adj_filename)"
   ]
  },
  {
   "attachments": {},
   "cell_type": "markdown",
   "metadata": {},
   "source": []
  },
  {
   "cell_type": "code",
   "execution_count": 32,
   "metadata": {},
   "outputs": [
    {
     "name": "stdout",
     "output_type": "stream",
     "text": [
      "Take last values from 2022-12-01 00:00:00\n",
      "Adjusted 1231 cfips and 2359 points for threshold = 0.1\n"
     ]
    },
    {
     "data": {
      "application/vnd.jupyter.widget-view+json": {
       "model_id": "624e00c8cb6248fa87a78efb46ad94e4",
       "version_major": 2,
       "version_minor": 0
      },
      "text/plain": [
       "  0%|          | 0/7 [00:00<?, ?it/s]"
      ]
     },
     "metadata": {},
     "output_type": "display_data"
    },
    {
     "name": "stdout",
     "output_type": "stream",
     "text": [
      "Fitting model\n",
      "Fcst Date 2023-01-01T00:00:00.000000000\n",
      "Adjusted 1231 cfips and 2359 points for threshold = 0.1\n"
     ]
    },
    {
     "data": {
      "application/vnd.jupyter.widget-view+json": {
       "model_id": "59fa824271164eddb2260ab5f21f6284",
       "version_major": 2,
       "version_minor": 0
      },
      "text/plain": [
       "  0%|          | 0/7 [00:00<?, ?it/s]"
      ]
     },
     "metadata": {},
     "output_type": "display_data"
    },
    {
     "name": "stdout",
     "output_type": "stream",
     "text": [
      "Max Date:  2022-12-01 00:00:00\n",
      "Do january replace with /kaggle/input/godaddy-best-public-and-home-changes/best_jan_sub_20230314.csv\n"
     ]
    },
    {
     "ename": "FileNotFoundError",
     "evalue": "[Errno 2] No such file or directory: '/kaggle/input/godaddy-best-public-and-home-changes/best_jan_sub_20230314.csv'",
     "output_type": "error",
     "traceback": [
      "\u001b[1;31m---------------------------------------------------------------------------\u001b[0m",
      "\u001b[1;31mFileNotFoundError\u001b[0m                         Traceback (most recent call last)",
      "Cell \u001b[1;32mIn[32], line 52\u001b[0m\n\u001b[0;32m     49\u001b[0m bdtmodel \u001b[39m=\u001b[39m BDTRollFwdModel(get_model\u001b[39m=\u001b[39mget_model, pop_split\u001b[39m=\u001b[39mpop_split, train_clip\u001b[39m=\u001b[39mtrain_clip, use_blacklist\u001b[39m=\u001b[39muse_blacklist, \n\u001b[0;32m     50\u001b[0m                            features\u001b[39m=\u001b[39mfeatures, scale\u001b[39m=\u001b[39m\u001b[39m1.0\u001b[39m, jan_replace_file\u001b[39m=\u001b[39mjan_file)\n\u001b[0;32m     51\u001b[0m bdtmodel\u001b[39m.\u001b[39mfit(train)\n\u001b[1;32m---> 52\u001b[0m pred \u001b[39m=\u001b[39m bdtmodel\u001b[39m.\u001b[39;49mpredict(test)\n\u001b[0;32m     54\u001b[0m tmp \u001b[39m=\u001b[39m data[data\u001b[39m.\u001b[39mis_test \u001b[39m>\u001b[39m \u001b[39m0\u001b[39m]\u001b[39m.\u001b[39mset_index(\u001b[39m'\u001b[39m\u001b[39mrow_id\u001b[39m\u001b[39m'\u001b[39m)\u001b[39m.\u001b[39mcopy()\n\u001b[0;32m     55\u001b[0m tmp\u001b[39m.\u001b[39mloc[tmp\u001b[39m.\u001b[39mis_test \u001b[39m==\u001b[39m \u001b[39m2\u001b[39m, \u001b[39m'\u001b[39m\u001b[39mmicrobusiness_density\u001b[39m\u001b[39m'\u001b[39m] \u001b[39m=\u001b[39m pred\n",
      "Cell \u001b[1;32mIn[25], line 129\u001b[0m, in \u001b[0;36mBDTRollFwdModel.predict\u001b[1;34m(self, data)\u001b[0m\n\u001b[0;32m    127\u001b[0m \u001b[39mprint\u001b[39m(\u001b[39mf\u001b[39m\u001b[39m'\u001b[39m\u001b[39mDo january replace with \u001b[39m\u001b[39m{\u001b[39;00m\u001b[39mself\u001b[39m\u001b[39m.\u001b[39mjan_replace_file\u001b[39m}\u001b[39;00m\u001b[39m'\u001b[39m)\n\u001b[0;32m    128\u001b[0m mask \u001b[39m=\u001b[39m tmp\u001b[39m.\u001b[39mfirst_day_of_month \u001b[39m==\u001b[39m fcst_dt\n\u001b[1;32m--> 129\u001b[0m tdf \u001b[39m=\u001b[39m pd\u001b[39m.\u001b[39;49mread_csv(\u001b[39mself\u001b[39;49m\u001b[39m.\u001b[39;49mjan_replace_file)\u001b[39m.\u001b[39mset_index(\u001b[39m'\u001b[39m\u001b[39mrow_id\u001b[39m\u001b[39m'\u001b[39m)\n\u001b[0;32m    130\u001b[0m tdf[\u001b[39m'\u001b[39m\u001b[39mcfips\u001b[39m\u001b[39m'\u001b[39m] \u001b[39m=\u001b[39m tdf\u001b[39m.\u001b[39mindex\u001b[39m.\u001b[39mmap(\u001b[39mlambda\u001b[39;00m x: \u001b[39mint\u001b[39m(x\u001b[39m.\u001b[39msplit(\u001b[39m'\u001b[39m\u001b[39m_\u001b[39m\u001b[39m'\u001b[39m)[\u001b[39m0\u001b[39m]))\n\u001b[0;32m    131\u001b[0m tdf[\u001b[39m'\u001b[39m\u001b[39mfirst_day_of_month\u001b[39m\u001b[39m'\u001b[39m] \u001b[39m=\u001b[39m pd\u001b[39m.\u001b[39mto_datetime(tdf\u001b[39m.\u001b[39mindex\u001b[39m.\u001b[39mmap(\u001b[39mlambda\u001b[39;00m x: x\u001b[39m.\u001b[39msplit(\u001b[39m'\u001b[39m\u001b[39m_\u001b[39m\u001b[39m'\u001b[39m)[\u001b[39m1\u001b[39m]))\n",
      "File \u001b[1;32mc:\\Users\\User\\anaconda3\\lib\\site-packages\\pandas\\util\\_decorators.py:211\u001b[0m, in \u001b[0;36mdeprecate_kwarg.<locals>._deprecate_kwarg.<locals>.wrapper\u001b[1;34m(*args, **kwargs)\u001b[0m\n\u001b[0;32m    209\u001b[0m     \u001b[39melse\u001b[39;00m:\n\u001b[0;32m    210\u001b[0m         kwargs[new_arg_name] \u001b[39m=\u001b[39m new_arg_value\n\u001b[1;32m--> 211\u001b[0m \u001b[39mreturn\u001b[39;00m func(\u001b[39m*\u001b[39margs, \u001b[39m*\u001b[39m\u001b[39m*\u001b[39mkwargs)\n",
      "File \u001b[1;32mc:\\Users\\User\\anaconda3\\lib\\site-packages\\pandas\\util\\_decorators.py:331\u001b[0m, in \u001b[0;36mdeprecate_nonkeyword_arguments.<locals>.decorate.<locals>.wrapper\u001b[1;34m(*args, **kwargs)\u001b[0m\n\u001b[0;32m    325\u001b[0m \u001b[39mif\u001b[39;00m \u001b[39mlen\u001b[39m(args) \u001b[39m>\u001b[39m num_allow_args:\n\u001b[0;32m    326\u001b[0m     warnings\u001b[39m.\u001b[39mwarn(\n\u001b[0;32m    327\u001b[0m         msg\u001b[39m.\u001b[39mformat(arguments\u001b[39m=\u001b[39m_format_argument_list(allow_args)),\n\u001b[0;32m    328\u001b[0m         \u001b[39mFutureWarning\u001b[39;00m,\n\u001b[0;32m    329\u001b[0m         stacklevel\u001b[39m=\u001b[39mfind_stack_level(),\n\u001b[0;32m    330\u001b[0m     )\n\u001b[1;32m--> 331\u001b[0m \u001b[39mreturn\u001b[39;00m func(\u001b[39m*\u001b[39margs, \u001b[39m*\u001b[39m\u001b[39m*\u001b[39mkwargs)\n",
      "File \u001b[1;32mc:\\Users\\User\\anaconda3\\lib\\site-packages\\pandas\\io\\parsers\\readers.py:950\u001b[0m, in \u001b[0;36mread_csv\u001b[1;34m(filepath_or_buffer, sep, delimiter, header, names, index_col, usecols, squeeze, prefix, mangle_dupe_cols, dtype, engine, converters, true_values, false_values, skipinitialspace, skiprows, skipfooter, nrows, na_values, keep_default_na, na_filter, verbose, skip_blank_lines, parse_dates, infer_datetime_format, keep_date_col, date_parser, dayfirst, cache_dates, iterator, chunksize, compression, thousands, decimal, lineterminator, quotechar, quoting, doublequote, escapechar, comment, encoding, encoding_errors, dialect, error_bad_lines, warn_bad_lines, on_bad_lines, delim_whitespace, low_memory, memory_map, float_precision, storage_options)\u001b[0m\n\u001b[0;32m    935\u001b[0m kwds_defaults \u001b[39m=\u001b[39m _refine_defaults_read(\n\u001b[0;32m    936\u001b[0m     dialect,\n\u001b[0;32m    937\u001b[0m     delimiter,\n\u001b[1;32m   (...)\u001b[0m\n\u001b[0;32m    946\u001b[0m     defaults\u001b[39m=\u001b[39m{\u001b[39m\"\u001b[39m\u001b[39mdelimiter\u001b[39m\u001b[39m\"\u001b[39m: \u001b[39m\"\u001b[39m\u001b[39m,\u001b[39m\u001b[39m\"\u001b[39m},\n\u001b[0;32m    947\u001b[0m )\n\u001b[0;32m    948\u001b[0m kwds\u001b[39m.\u001b[39mupdate(kwds_defaults)\n\u001b[1;32m--> 950\u001b[0m \u001b[39mreturn\u001b[39;00m _read(filepath_or_buffer, kwds)\n",
      "File \u001b[1;32mc:\\Users\\User\\anaconda3\\lib\\site-packages\\pandas\\io\\parsers\\readers.py:605\u001b[0m, in \u001b[0;36m_read\u001b[1;34m(filepath_or_buffer, kwds)\u001b[0m\n\u001b[0;32m    602\u001b[0m _validate_names(kwds\u001b[39m.\u001b[39mget(\u001b[39m\"\u001b[39m\u001b[39mnames\u001b[39m\u001b[39m\"\u001b[39m, \u001b[39mNone\u001b[39;00m))\n\u001b[0;32m    604\u001b[0m \u001b[39m# Create the parser.\u001b[39;00m\n\u001b[1;32m--> 605\u001b[0m parser \u001b[39m=\u001b[39m TextFileReader(filepath_or_buffer, \u001b[39m*\u001b[39m\u001b[39m*\u001b[39mkwds)\n\u001b[0;32m    607\u001b[0m \u001b[39mif\u001b[39;00m chunksize \u001b[39mor\u001b[39;00m iterator:\n\u001b[0;32m    608\u001b[0m     \u001b[39mreturn\u001b[39;00m parser\n",
      "File \u001b[1;32mc:\\Users\\User\\anaconda3\\lib\\site-packages\\pandas\\io\\parsers\\readers.py:1442\u001b[0m, in \u001b[0;36mTextFileReader.__init__\u001b[1;34m(self, f, engine, **kwds)\u001b[0m\n\u001b[0;32m   1439\u001b[0m     \u001b[39mself\u001b[39m\u001b[39m.\u001b[39moptions[\u001b[39m\"\u001b[39m\u001b[39mhas_index_names\u001b[39m\u001b[39m\"\u001b[39m] \u001b[39m=\u001b[39m kwds[\u001b[39m\"\u001b[39m\u001b[39mhas_index_names\u001b[39m\u001b[39m\"\u001b[39m]\n\u001b[0;32m   1441\u001b[0m \u001b[39mself\u001b[39m\u001b[39m.\u001b[39mhandles: IOHandles \u001b[39m|\u001b[39m \u001b[39mNone\u001b[39;00m \u001b[39m=\u001b[39m \u001b[39mNone\u001b[39;00m\n\u001b[1;32m-> 1442\u001b[0m \u001b[39mself\u001b[39m\u001b[39m.\u001b[39m_engine \u001b[39m=\u001b[39m \u001b[39mself\u001b[39;49m\u001b[39m.\u001b[39;49m_make_engine(f, \u001b[39mself\u001b[39;49m\u001b[39m.\u001b[39;49mengine)\n",
      "File \u001b[1;32mc:\\Users\\User\\anaconda3\\lib\\site-packages\\pandas\\io\\parsers\\readers.py:1735\u001b[0m, in \u001b[0;36mTextFileReader._make_engine\u001b[1;34m(self, f, engine)\u001b[0m\n\u001b[0;32m   1733\u001b[0m     \u001b[39mif\u001b[39;00m \u001b[39m\"\u001b[39m\u001b[39mb\u001b[39m\u001b[39m\"\u001b[39m \u001b[39mnot\u001b[39;00m \u001b[39min\u001b[39;00m mode:\n\u001b[0;32m   1734\u001b[0m         mode \u001b[39m+\u001b[39m\u001b[39m=\u001b[39m \u001b[39m\"\u001b[39m\u001b[39mb\u001b[39m\u001b[39m\"\u001b[39m\n\u001b[1;32m-> 1735\u001b[0m \u001b[39mself\u001b[39m\u001b[39m.\u001b[39mhandles \u001b[39m=\u001b[39m get_handle(\n\u001b[0;32m   1736\u001b[0m     f,\n\u001b[0;32m   1737\u001b[0m     mode,\n\u001b[0;32m   1738\u001b[0m     encoding\u001b[39m=\u001b[39;49m\u001b[39mself\u001b[39;49m\u001b[39m.\u001b[39;49moptions\u001b[39m.\u001b[39;49mget(\u001b[39m\"\u001b[39;49m\u001b[39mencoding\u001b[39;49m\u001b[39m\"\u001b[39;49m, \u001b[39mNone\u001b[39;49;00m),\n\u001b[0;32m   1739\u001b[0m     compression\u001b[39m=\u001b[39;49m\u001b[39mself\u001b[39;49m\u001b[39m.\u001b[39;49moptions\u001b[39m.\u001b[39;49mget(\u001b[39m\"\u001b[39;49m\u001b[39mcompression\u001b[39;49m\u001b[39m\"\u001b[39;49m, \u001b[39mNone\u001b[39;49;00m),\n\u001b[0;32m   1740\u001b[0m     memory_map\u001b[39m=\u001b[39;49m\u001b[39mself\u001b[39;49m\u001b[39m.\u001b[39;49moptions\u001b[39m.\u001b[39;49mget(\u001b[39m\"\u001b[39;49m\u001b[39mmemory_map\u001b[39;49m\u001b[39m\"\u001b[39;49m, \u001b[39mFalse\u001b[39;49;00m),\n\u001b[0;32m   1741\u001b[0m     is_text\u001b[39m=\u001b[39;49mis_text,\n\u001b[0;32m   1742\u001b[0m     errors\u001b[39m=\u001b[39;49m\u001b[39mself\u001b[39;49m\u001b[39m.\u001b[39;49moptions\u001b[39m.\u001b[39;49mget(\u001b[39m\"\u001b[39;49m\u001b[39mencoding_errors\u001b[39;49m\u001b[39m\"\u001b[39;49m, \u001b[39m\"\u001b[39;49m\u001b[39mstrict\u001b[39;49m\u001b[39m\"\u001b[39;49m),\n\u001b[0;32m   1743\u001b[0m     storage_options\u001b[39m=\u001b[39;49m\u001b[39mself\u001b[39;49m\u001b[39m.\u001b[39;49moptions\u001b[39m.\u001b[39;49mget(\u001b[39m\"\u001b[39;49m\u001b[39mstorage_options\u001b[39;49m\u001b[39m\"\u001b[39;49m, \u001b[39mNone\u001b[39;49;00m),\n\u001b[0;32m   1744\u001b[0m )\n\u001b[0;32m   1745\u001b[0m \u001b[39massert\u001b[39;00m \u001b[39mself\u001b[39m\u001b[39m.\u001b[39mhandles \u001b[39mis\u001b[39;00m \u001b[39mnot\u001b[39;00m \u001b[39mNone\u001b[39;00m\n\u001b[0;32m   1746\u001b[0m f \u001b[39m=\u001b[39m \u001b[39mself\u001b[39m\u001b[39m.\u001b[39mhandles\u001b[39m.\u001b[39mhandle\n",
      "File \u001b[1;32mc:\\Users\\User\\anaconda3\\lib\\site-packages\\pandas\\io\\common.py:856\u001b[0m, in \u001b[0;36mget_handle\u001b[1;34m(path_or_buf, mode, encoding, compression, memory_map, is_text, errors, storage_options)\u001b[0m\n\u001b[0;32m    851\u001b[0m \u001b[39melif\u001b[39;00m \u001b[39misinstance\u001b[39m(handle, \u001b[39mstr\u001b[39m):\n\u001b[0;32m    852\u001b[0m     \u001b[39m# Check whether the filename is to be opened in binary mode.\u001b[39;00m\n\u001b[0;32m    853\u001b[0m     \u001b[39m# Binary mode does not support 'encoding' and 'newline'.\u001b[39;00m\n\u001b[0;32m    854\u001b[0m     \u001b[39mif\u001b[39;00m ioargs\u001b[39m.\u001b[39mencoding \u001b[39mand\u001b[39;00m \u001b[39m\"\u001b[39m\u001b[39mb\u001b[39m\u001b[39m\"\u001b[39m \u001b[39mnot\u001b[39;00m \u001b[39min\u001b[39;00m ioargs\u001b[39m.\u001b[39mmode:\n\u001b[0;32m    855\u001b[0m         \u001b[39m# Encoding\u001b[39;00m\n\u001b[1;32m--> 856\u001b[0m         handle \u001b[39m=\u001b[39m \u001b[39mopen\u001b[39;49m(\n\u001b[0;32m    857\u001b[0m             handle,\n\u001b[0;32m    858\u001b[0m             ioargs\u001b[39m.\u001b[39;49mmode,\n\u001b[0;32m    859\u001b[0m             encoding\u001b[39m=\u001b[39;49mioargs\u001b[39m.\u001b[39;49mencoding,\n\u001b[0;32m    860\u001b[0m             errors\u001b[39m=\u001b[39;49merrors,\n\u001b[0;32m    861\u001b[0m             newline\u001b[39m=\u001b[39;49m\u001b[39m\"\u001b[39;49m\u001b[39m\"\u001b[39;49m,\n\u001b[0;32m    862\u001b[0m         )\n\u001b[0;32m    863\u001b[0m     \u001b[39melse\u001b[39;00m:\n\u001b[0;32m    864\u001b[0m         \u001b[39m# Binary mode\u001b[39;00m\n\u001b[0;32m    865\u001b[0m         handle \u001b[39m=\u001b[39m \u001b[39mopen\u001b[39m(handle, ioargs\u001b[39m.\u001b[39mmode)\n",
      "\u001b[1;31mFileNotFoundError\u001b[0m: [Errno 2] No such file or directory: '/kaggle/input/godaddy-best-public-and-home-changes/best_jan_sub_20230314.csv'"
     ]
    }
   ],
   "source": [
    "features = ['state_i',  \n",
    " 'mbd_lag_1',\n",
    " 'act_lag_1',\n",
    " 'mbd_lag_2',\n",
    " 'act_lag_2',\n",
    " 'mbd_lag_3',\n",
    " 'act_lag_3',\n",
    " 'mbd_lag_4',\n",
    " 'act_lag_4',\n",
    " 'mbd_lag_5',\n",
    " 'act_lag_5',\n",
    " 'mbd_lag_6',\n",
    " 'act_lag_6',\n",
    " 'mbd_lag_7',\n",
    " 'act_lag_7',\n",
    " 'mbd_rollmea2_1',\n",
    " 'mbd_rollmea4_1',\n",
    " 'mbd_rollmea6_1',\n",
    " 'mbd_rollmea8_1',\n",
    " 'mbd_rollmea10_1',\n",
    " 'pct_bb_last_year',\n",
    " 'used_population',\n",
    " 'neighbor_diff',\n",
    " 'pct_college_last_year',\n",
    " 'pct_foreign_born_last_year',\n",
    " 'pct_it_workers_last_year',\n",
    " 'median_hh_inc_last_year',\n",
    " 'seer_pop_chg',\n",
    " 'labor_force',\n",
    " 'labor_participation',\n",
    " 'participation',\n",
    " 'lat',\n",
    " 'lng',\n",
    " 'engagement',\n",
    " 'seer_black_pct',\n",
    " 'MAI_composite',            \n",
    "           ]\n",
    "\n",
    "use_blacklist = True\n",
    "train_clip = train_clip_none\n",
    "pop_split = 5000\n",
    "get_model = get_model_xgb\n",
    "\n",
    "train = data[data.is_test < 2].copy()\n",
    "test = data[data.is_test == 2].copy()\n",
    "\n",
    "jan_file = 'C:/Users/User/kaggle/GoDaddy/best_jan_sub_20230314.csv'\n",
    "\n",
    "bdtmodel = BDTRollFwdModel(get_model=get_model, pop_split=pop_split, train_clip=train_clip, use_blacklist=use_blacklist, \n",
    "                           features=features, scale=1.0, jan_replace_file=jan_file)\n",
    "bdtmodel.fit(train)\n",
    "pred = bdtmodel.predict(test)\n",
    "\n",
    "tmp = data[data.is_test > 0].set_index('row_id').copy()\n",
    "tmp.loc[tmp.is_test == 2, 'microbusiness_density'] = pred\n",
    "plbadj_filename = f'submission_xgb_adjjan_plb_changes.csv'\n",
    "tmp['microbusiness_density'].to_csv(plbadj_filename)"
   ]
  }
 ],
 "metadata": {
  "kernelspec": {
   "display_name": "Python 3",
   "language": "python",
   "name": "python3"
  },
  "language_info": {
   "codemirror_mode": {
    "name": "ipython",
    "version": 3
   },
   "file_extension": ".py",
   "mimetype": "text/x-python",
   "name": "python",
   "nbconvert_exporter": "python",
   "pygments_lexer": "ipython3",
   "version": "3.10.9"
  },
  "orig_nbformat": 4
 },
 "nbformat": 4,
 "nbformat_minor": 2
}
