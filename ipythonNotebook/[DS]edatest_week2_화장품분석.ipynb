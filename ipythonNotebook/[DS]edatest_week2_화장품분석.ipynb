{
 "cells": [
  {
   "cell_type": "markdown",
   "metadata": {
    "id": "kzVe6BbUdVVb"
   },
   "source": [
    "# 제로베이스 데이터 사이언스 스쿨 EDA Level Test 2\n",
    "## 문제 소개 \n",
    "- 총 3단계 데이터 분석 상황 제시\n",
    "    - 총점 100점\n",
    "<br></br>\n",
    "- 1단계 DataFrame 불러오기 & 기초 전처리\n",
    "- 2단계 전처리\n",
    "- 3단계 Mapping\n",
    "<br></br>\n",
    "## 참고 사항\n",
    "- Check Functions 셀을 반드시 실행해주세요!\n",
    "- 여러분이 제출하신 답안을 채점하기 위한 코드입니다. \n",
    "- 각 문제마다 반드시, check_01_01(df) 함수를 실행해주시기를 바랍니다\n",
    "<br></br>\n",
    "- 파일 제목은 [DS]edatest_honggildong.ipynb 으로 제출해주시기 바랍니다.\n",
    "    - 성부터 소문자로 작성해주세요.\n",
    "- 제출은 제공드린 구글설문지를 통해 제출해주시면 감사하겠습니다.\n",
    "---"
   ]
  },
  {
   "cell_type": "markdown",
   "metadata": {
    "id": "cglp4N3RdVVg"
   },
   "source": [
    "# 1. Check Functions\n",
    "- grading 채점 코드 안에는 각 문제 번호에 따른 check_00_00() 라는 함수가 있습니다. \n",
    "\n",
    "    ```\n",
    "    from grading import check_01_01\n",
    "    from grading import check_01_02\n",
    "    from grading import check_01_03\n",
    "    from grading import check_02_01\n",
    "    from grading import check_02_02\n",
    "    from grading import check_03_01\n",
    "    from grading import check_03_02\n",
    "    ```\n",
    "    \n",
    "- 답안을 작성하신 후에 반드시 채점 코드까지 결과값까지 포함하여 제출해주시기를 바랍니다.  \n",
    "\n",
    "ex) \n",
    "check_01_01(df)\n",
    "\n",
    "정답입니다! 10점 누적 되었습니다!\n",
    "\n",
    "현재 누적 점수: 10 / 100"
   ]
  },
  {
   "cell_type": "code",
   "execution_count": 1,
   "metadata": {
    "id": "SnnXUr8DdVVh"
   },
   "outputs": [],
   "source": [
    "# 채점을 위한 코드입니다. 반드시 실행해주세요.\n",
    "from grading import *"
   ]
  },
  {
   "cell_type": "markdown",
   "metadata": {
    "id": "K45oJZHzdVVj"
   },
   "source": [
    "# 2. Load Data\n",
    "\n",
    "##### Target Data(CSV): 화장품의 종류, 브랜드, 제품명, 성분명 등이 포함된 csv 파일\n",
    "- Source: [Kaggle](https://www.kaggle.com/datasets/kingabzpro/cosmetics-datasets)\n",
    "- DownLoad: [archive.zip](https://www.kaggle.com/datasets/kingabzpro/cosmetics-datasets/download)\n",
    "\n",
    "##### 성분 사전: 화장품 전성분의 한글명, 표준영문명, 구명칭, 구 영문명이 포함된 pdf 파일\n",
    "- Source: [대한 화장품협회](https://kcia.or.kr/cid/search/ingd_list.php?skind=ALL&sword=Lactobacillus%2FCornus+Officinalis+Fruit%2FAngelica+&sword2=)\n",
    "- DownLoad: [별첨1. 표준화명칭목록_220530.pdf](https://kcia.or.kr/cid/files/%ED%91%9C%EC%A4%80%ED%99%94%EB%AA%85%EC%B9%AD%EB%AA%A9%EB%A1%9D)\n",
    "\n",
    "##### 참고사항\n",
    "- pdf를 Pandas DataFrame으로 변환하기 위해 Tabula 등의 Library를 사용할 수 있음.\n",
    "- 퀴즈 편의상 해당 pdf를 읽어 만든 pickle 파일 제공(ingredients_list.pkl)\n",
    "- 해당 pickle파일은 List형태로 되어 있으며, List 내의 Elements는 각 페이지별 표가 dataframe 형태로 되어 있음\n",
    "    - ex: [df1, df2, df3, ...]"
   ]
  },
  {
   "cell_type": "markdown",
   "metadata": {
    "id": "JrXYOHFddVVj"
   },
   "source": [
    "### 2-1. Load Target Data\n",
    "- 시간관계상 5개의 row만 Target으로 진행"
   ]
  },
  {
   "cell_type": "code",
   "execution_count": 2,
   "metadata": {
    "id": "-Z128CF_dVVk",
    "outputId": "41898f83-7771-4cfc-9698-9b9db1732ccd"
   },
   "outputs": [
    {
     "data": {
      "text/html": [
       "<div>\n",
       "<style scoped>\n",
       "    .dataframe tbody tr th:only-of-type {\n",
       "        vertical-align: middle;\n",
       "    }\n",
       "\n",
       "    .dataframe tbody tr th {\n",
       "        vertical-align: top;\n",
       "    }\n",
       "\n",
       "    .dataframe thead th {\n",
       "        text-align: right;\n",
       "    }\n",
       "</style>\n",
       "<table border=\"1\" class=\"dataframe\">\n",
       "  <thead>\n",
       "    <tr style=\"text-align: right;\">\n",
       "      <th></th>\n",
       "      <th>Label</th>\n",
       "      <th>Brand</th>\n",
       "      <th>Name</th>\n",
       "      <th>Price</th>\n",
       "      <th>Rank</th>\n",
       "      <th>Ingredients</th>\n",
       "      <th>Combination</th>\n",
       "      <th>Dry</th>\n",
       "      <th>Normal</th>\n",
       "      <th>Oily</th>\n",
       "      <th>Sensitive</th>\n",
       "    </tr>\n",
       "  </thead>\n",
       "  <tbody>\n",
       "    <tr>\n",
       "      <th>0</th>\n",
       "      <td>Moisturizer</td>\n",
       "      <td>LA MER</td>\n",
       "      <td>Crème de la Mer</td>\n",
       "      <td>175</td>\n",
       "      <td>4.1</td>\n",
       "      <td>Algae (Seaweed) Extract, Mineral Oil, Petrolatum, Glycerin, Isohexadecane, Microcrystalline Wax, Lanolin Alcohol, Citrus Aurantifolia (Lime) Extract, Sesamum Indicum (Sesame) Seed Oil, Eucalyptus Globulus (Eucalyptus) Leaf Oil, Sesamum Indicum (Sesame) Seed Powder, Medicago Sativa (Alfalfa) Seed Powder, Helianthus Annuus (Sunflower) Seedcake, Prunus Amygdalus Dulcis (Sweet Almond) Seed Meal, Sodium Gluconate, Copper Gluconate, Calcium Gluconate, Magnesium Gluconate, Zinc Gluconate, Magnesium Sulfate, Paraffin, Tocopheryl Succinate, Niacin, Water, Beta-Carotene, Decyl Oleate, Aluminum Distearate, Octyldodecanol, Citric Acid, Cyanocobalamin, Magnesium Stearate, Panthenol, Limonene, Geraniol, Linalool, Hydroxycitronellal, Citronellol, Benzyl Salicylate, Citral, Sodium Benzoate, Alcohol Denat., Fragrance.</td>\n",
       "      <td>1</td>\n",
       "      <td>1</td>\n",
       "      <td>1</td>\n",
       "      <td>1</td>\n",
       "      <td>1</td>\n",
       "    </tr>\n",
       "    <tr>\n",
       "      <th>1</th>\n",
       "      <td>Moisturizer</td>\n",
       "      <td>SK-II</td>\n",
       "      <td>Facial Treatment Essence</td>\n",
       "      <td>179</td>\n",
       "      <td>4.1</td>\n",
       "      <td>Galactomyces Ferment Filtrate (Pitera), Butylene Glycol, Pentylene Glycol, Water, Sodium Benzoate, Methylparaben, Sorbic Acid.</td>\n",
       "      <td>1</td>\n",
       "      <td>1</td>\n",
       "      <td>1</td>\n",
       "      <td>1</td>\n",
       "      <td>1</td>\n",
       "    </tr>\n",
       "    <tr>\n",
       "      <th>2</th>\n",
       "      <td>Moisturizer</td>\n",
       "      <td>DRUNK ELEPHANT</td>\n",
       "      <td>Protini™ Polypeptide Cream</td>\n",
       "      <td>68</td>\n",
       "      <td>4.4</td>\n",
       "      <td>Water, Dicaprylyl Carbonate, Glycerin, Cetearyl Alcohol, Cetearyl Olivate, Sorbitan Olivate, Sclerocarya Birrea Seed Oil, Bacillus/Soybean/ Folic Acid Ferment Extract, Nymphaea Alba Root Extract, sh-Oligopeptide-1, sh-Oligopeptide-2, sh-Polypeptide-1, sh-Polypeptide-9, sh-Polypeptide-11, Copper Palmitoyl Heptapeptide-14, Heptapeptide-15 Palmitate, Palmitoyl Tetrapeptide-7, Palmitoyl Tripeptide-1, Alanine, Arginine, Glycine, Histidine, Isoleucine, Phenylalanine, Proline, Serine, Threonine, Valine, Acetyl Glutamine, Coconut Alkanes , Coco-Caprylate/Caprate, Sodium Hyaluronate, Aspartic Acid, Linoleic Acid, Linolenic Acid, Lecithin, Butylene Glycol, Polyvinyl Alcohol, Sodium Lactate, Sodium PCA, PCA, Sorbitan Isostearate, Carbomer, Polysorbate 20, Polysorbate 60, Lactic Acid/Glycolic Acid Copolymer, Hydroxyethyl Acrylate/Sodium Acryloyldimethyl Taurate Copolymer, Xanthan Gum, Isomalt, 1,2-Hexanediol, Caprylyl Glycol, Chlorphenesin, Phenoxyethanol, Tocopherol, Sodium Benzoate, Phenylpropanol, Glyceryl Caprylate, Symphytum Officinale Callus Culture Extract.</td>\n",
       "      <td>1</td>\n",
       "      <td>1</td>\n",
       "      <td>1</td>\n",
       "      <td>1</td>\n",
       "      <td>0</td>\n",
       "    </tr>\n",
       "    <tr>\n",
       "      <th>3</th>\n",
       "      <td>Moisturizer</td>\n",
       "      <td>LA MER</td>\n",
       "      <td>The Moisturizing Soft Cream</td>\n",
       "      <td>175</td>\n",
       "      <td>3.8</td>\n",
       "      <td>Algae (Seaweed) Extract, Cyclopentasiloxane, Petrolatum, Glyceryl Distearate, Phenyl Trimethicone, Butylene Glycol, Hydrogenated Vegetable Oil, Cholesterol, Butyrospermum Parkii (Shea Butter), Steareth-10, Dimethicone, Glyceryl Stearate Se, Polysilicone-11, Sesamum Indicum (Sesame) Seed Oil, Medicago Sativa (Alfalfa) Seed Powder, Helianthus Annuus (Sunflower) Seedcake, Prunus Amygdalus Dulcis (Sweet Almond) Seed Meal, Eucalyptus Globulus (Eucalyptus) Leaf Oil, Sodium Gluconate, Copper Gluconate, Calcium Gluconate, Magnesium Gluconate, Zinc Gluconate, Tocopheryl Succinate, Niacin, Sesamum Indicum (Sesame) Seed Powder, Water, Citrus Aurantifolia (Lime) Peel Extract, Laminaria Digitata Extract, Crithmum Maritimum Extract, Salicornia Herbacea Extract, Plankton Extract, Chlorella Vulgaris Extract, Glycine Soja (Soybean) Seed Extract, Glycerin, Caffeine, Sea Salt/Maris Sal/Sel Marin, Micrococcus Lysate, Diethylhexyl Succinate, Adenosine Phosphate, Creatine, Hydrolyzed Algin, Isocetyl Stearoyl Stearate, Cetyl Alcohol, Sucrose, Acetyl Hexapeptide-8, Glucose Oxidase, Polyacrylamide, Acetyl Carnitine Hcl, Glucose, Caprylic/Capric Triglyceride, C13-14 Isoparaffin, Tocopheryl Acetate, Tetrahexyldecyl Ascorbate, Sodium Pca, Glycosaminoglycans, Urea, Distearyldimonium Chloride, Dipalmitoyl Hydroxyproline, Sodium Hyaluronate, Laureth-7, Lecithin, Trehalose, Polyquaternium-51, Lactoperoxidase, Hydroxypropyl Cyclodextrin, Cyanocobalamin, Pentylene Glycol, Fragrance, Disodium Edta, Bht, Citronellol, Hydroxycitronellal, Geraniol, Linalool, Limonene, Potassium Sorbate, Phenoxyethanol</td>\n",
       "      <td>1</td>\n",
       "      <td>1</td>\n",
       "      <td>1</td>\n",
       "      <td>1</td>\n",
       "      <td>1</td>\n",
       "    </tr>\n",
       "    <tr>\n",
       "      <th>4</th>\n",
       "      <td>Moisturizer</td>\n",
       "      <td>IT COSMETICS</td>\n",
       "      <td>Your Skin But Better™ CC+™ Cream with SPF 50+</td>\n",
       "      <td>38</td>\n",
       "      <td>4.1</td>\n",
       "      <td>Water, Snail Secretion Filtrate, Phenyl Trimethicone, Dimethicone, Butylene Glycol, Butylene Glycol Dicaprylate/Dicaprate, Orbignya Oleifera Seed Oil, Butyloctyl Salicylate, Cetyl Peg/Ppg-10/1 Dimethicone, Cyclopentasiloxane, Cyclohexasiloxane, Magnesium Sulfate, Polyglyceryl-4 Isostearate, Dimethicone/Vinyl Dimethicone Crosspolymer, Aluminum Hydroxide, Hexyl Laurate, Stearic Acid, Calcium Stearate, Caprylyl Glycol, Triethoxycaprylylsilane, Ethylhexylglycerin, Citrus Medica Limonum (Lemon) Peel Oil, Tocopheryl Acetate, Sorbitan Isostearate, Phenoxyethanol, Citrus Aurantium Bergamia (Bergamot) Fruit Oil, 1,2-Hexanediol, Disodium Edta, Citrus Aurantium Dulcis (Orange) Peel Oil, Citrus Aurantifolia (Lime) Oil, Vitis Vinifera (Grape) Seed Oil, Punica Granatum Seed Oil, Pinus Sylvestris Leaf Oil, Persea Gratissima (Avocado) Oil, Niacinamide, Citrus Grandis (Grapefruit) Peel Oil, Cholesterol, Anthemis Nobilis Flower Water, Lactobacillus/Honeysuckle Flower/Licorice Root/Morus Alba Root/Pueraria Lobata Root/Schizandra Chinensis Fruit/Scutellaria Baicalensis Root/Sophora Japonica Flower Extract Ferment Filtrate, Perfluorohexane, Olea Europaea (Olive) Leaf Extract, Glycerin, Eucalyptus Globulus Leaf Oil, Camellia Sinensis Leaf Extract, Chrysanthemum Indicum Flower Extract, Pueraria Lobata Root Extract, Perfluorodecalin, Morus Alba Fruit Extract, Magnolia Kobus Bark Extract, Glycine Soja (Soybean) Sprout Extract, Diospyros Kaki Leaf Extract, Cinnamomum Cassia Bark Extract, Artemisia Princeps Leaf Extract, Pentafluoropropane, Curcuma Longa (Turmeric) Root Extract, Steareth-20, Hydrolyzed Hyaluronic Acid, Colloidal Oatmeal, Hydrolyzed Silk, Citric Acid, Sodium Benzoate, Potassium Sorbate, Aloe Barbadensis Leaf Extract, N-Hydroxysuccinimide, Hydrolyzed Collagen, Caprylhydroxamic Acid, Tocopherol, Thiamine Hcl, Riboflavin, Retinyl Palmitate, Pantothenic Acid, Palmitoyl Oligopeptide, Niacin, Folic Acid, Chrysin, Carnitine Hcl, Biotin, Ascorbic Acid, Palmitoyl Tetrapeptide-7, Chlorhexidine Digluconate. May Contain: Iron Oxides (Ci 77492, Ci 77491, Ci 77499).</td>\n",
       "      <td>1</td>\n",
       "      <td>1</td>\n",
       "      <td>1</td>\n",
       "      <td>1</td>\n",
       "      <td>1</td>\n",
       "    </tr>\n",
       "  </tbody>\n",
       "</table>\n",
       "</div>"
      ],
      "text/plain": [
       "         Label           Brand                                           Name  \\\n",
       "0  Moisturizer          LA MER                                Crème de la Mer   \n",
       "1  Moisturizer           SK-II                       Facial Treatment Essence   \n",
       "2  Moisturizer  DRUNK ELEPHANT                     Protini™ Polypeptide Cream   \n",
       "3  Moisturizer          LA MER                    The Moisturizing Soft Cream   \n",
       "4  Moisturizer    IT COSMETICS  Your Skin But Better™ CC+™ Cream with SPF 50+   \n",
       "\n",
       "   Price  Rank  \\\n",
       "0    175   4.1   \n",
       "1    179   4.1   \n",
       "2     68   4.4   \n",
       "3    175   3.8   \n",
       "4     38   4.1   \n",
       "\n",
       "                                                                                                                                                                                                                                                                                                                                                                                                                                                                                                                                                                                                                                                                                                                                                                                                                                                                                                                                                                                                                                                                                                                                                                                                                                                                                                                                                                                                                                                                                                                                                                                                                                                                                                                                                                                                                                                                                                                                                                                                                                                                                                                                                     Ingredients  \\\n",
       "0                                                                                                                                                                                                                                                                                                                                                                                                                                                                                                                                                                                                                                                                                                                                                                                                                                                                                                                                                                                                                                                                                                                                                                                                                                                                                                                   Algae (Seaweed) Extract, Mineral Oil, Petrolatum, Glycerin, Isohexadecane, Microcrystalline Wax, Lanolin Alcohol, Citrus Aurantifolia (Lime) Extract, Sesamum Indicum (Sesame) Seed Oil, Eucalyptus Globulus (Eucalyptus) Leaf Oil, Sesamum Indicum (Sesame) Seed Powder, Medicago Sativa (Alfalfa) Seed Powder, Helianthus Annuus (Sunflower) Seedcake, Prunus Amygdalus Dulcis (Sweet Almond) Seed Meal, Sodium Gluconate, Copper Gluconate, Calcium Gluconate, Magnesium Gluconate, Zinc Gluconate, Magnesium Sulfate, Paraffin, Tocopheryl Succinate, Niacin, Water, Beta-Carotene, Decyl Oleate, Aluminum Distearate, Octyldodecanol, Citric Acid, Cyanocobalamin, Magnesium Stearate, Panthenol, Limonene, Geraniol, Linalool, Hydroxycitronellal, Citronellol, Benzyl Salicylate, Citral, Sodium Benzoate, Alcohol Denat., Fragrance.   \n",
       "1                                                                                                                                                                                                                                                                                                                                                                                                                                                                                                                                                                                                                                                                                                                                                                                                                                                                                                                                                                                                                                                                                                                                                                                                                                                                                                                                                                                                                                                                                                                                                                                                                                                                                                                                                                                                                                                                                                                                                                                                                                 Galactomyces Ferment Filtrate (Pitera), Butylene Glycol, Pentylene Glycol, Water, Sodium Benzoate, Methylparaben, Sorbic Acid.   \n",
       "2                                                                                                                                                                                                                                                                                                                                                                                                                                                                                                                                                                                                                                                                                                                                                                                                                                                                                                                                                                                                                                                   Water, Dicaprylyl Carbonate, Glycerin, Cetearyl Alcohol, Cetearyl Olivate, Sorbitan Olivate, Sclerocarya Birrea Seed Oil, Bacillus/Soybean/ Folic Acid Ferment Extract, Nymphaea Alba Root Extract, sh-Oligopeptide-1, sh-Oligopeptide-2, sh-Polypeptide-1, sh-Polypeptide-9, sh-Polypeptide-11, Copper Palmitoyl Heptapeptide-14, Heptapeptide-15 Palmitate, Palmitoyl Tetrapeptide-7, Palmitoyl Tripeptide-1, Alanine, Arginine, Glycine, Histidine, Isoleucine, Phenylalanine, Proline, Serine, Threonine, Valine, Acetyl Glutamine, Coconut Alkanes , Coco-Caprylate/Caprate, Sodium Hyaluronate, Aspartic Acid, Linoleic Acid, Linolenic Acid, Lecithin, Butylene Glycol, Polyvinyl Alcohol, Sodium Lactate, Sodium PCA, PCA, Sorbitan Isostearate, Carbomer, Polysorbate 20, Polysorbate 60, Lactic Acid/Glycolic Acid Copolymer, Hydroxyethyl Acrylate/Sodium Acryloyldimethyl Taurate Copolymer, Xanthan Gum, Isomalt, 1,2-Hexanediol, Caprylyl Glycol, Chlorphenesin, Phenoxyethanol, Tocopherol, Sodium Benzoate, Phenylpropanol, Glyceryl Caprylate, Symphytum Officinale Callus Culture Extract.   \n",
       "3                                                                                                                                                                                                                                                                                                                                                                                                                                                                                                         Algae (Seaweed) Extract, Cyclopentasiloxane, Petrolatum, Glyceryl Distearate, Phenyl Trimethicone, Butylene Glycol, Hydrogenated Vegetable Oil, Cholesterol, Butyrospermum Parkii (Shea Butter), Steareth-10, Dimethicone, Glyceryl Stearate Se, Polysilicone-11, Sesamum Indicum (Sesame) Seed Oil, Medicago Sativa (Alfalfa) Seed Powder, Helianthus Annuus (Sunflower) Seedcake, Prunus Amygdalus Dulcis (Sweet Almond) Seed Meal, Eucalyptus Globulus (Eucalyptus) Leaf Oil, Sodium Gluconate, Copper Gluconate, Calcium Gluconate, Magnesium Gluconate, Zinc Gluconate, Tocopheryl Succinate, Niacin, Sesamum Indicum (Sesame) Seed Powder, Water, Citrus Aurantifolia (Lime) Peel Extract, Laminaria Digitata Extract, Crithmum Maritimum Extract, Salicornia Herbacea Extract, Plankton Extract, Chlorella Vulgaris Extract, Glycine Soja (Soybean) Seed Extract, Glycerin, Caffeine, Sea Salt/Maris Sal/Sel Marin, Micrococcus Lysate, Diethylhexyl Succinate, Adenosine Phosphate, Creatine, Hydrolyzed Algin, Isocetyl Stearoyl Stearate, Cetyl Alcohol, Sucrose, Acetyl Hexapeptide-8, Glucose Oxidase, Polyacrylamide, Acetyl Carnitine Hcl, Glucose, Caprylic/Capric Triglyceride, C13-14 Isoparaffin, Tocopheryl Acetate, Tetrahexyldecyl Ascorbate, Sodium Pca, Glycosaminoglycans, Urea, Distearyldimonium Chloride, Dipalmitoyl Hydroxyproline, Sodium Hyaluronate, Laureth-7, Lecithin, Trehalose, Polyquaternium-51, Lactoperoxidase, Hydroxypropyl Cyclodextrin, Cyanocobalamin, Pentylene Glycol, Fragrance, Disodium Edta, Bht, Citronellol, Hydroxycitronellal, Geraniol, Linalool, Limonene, Potassium Sorbate, Phenoxyethanol   \n",
       "4  Water, Snail Secretion Filtrate, Phenyl Trimethicone, Dimethicone, Butylene Glycol, Butylene Glycol Dicaprylate/Dicaprate, Orbignya Oleifera Seed Oil, Butyloctyl Salicylate, Cetyl Peg/Ppg-10/1 Dimethicone, Cyclopentasiloxane, Cyclohexasiloxane, Magnesium Sulfate, Polyglyceryl-4 Isostearate, Dimethicone/Vinyl Dimethicone Crosspolymer, Aluminum Hydroxide, Hexyl Laurate, Stearic Acid, Calcium Stearate, Caprylyl Glycol, Triethoxycaprylylsilane, Ethylhexylglycerin, Citrus Medica Limonum (Lemon) Peel Oil, Tocopheryl Acetate, Sorbitan Isostearate, Phenoxyethanol, Citrus Aurantium Bergamia (Bergamot) Fruit Oil, 1,2-Hexanediol, Disodium Edta, Citrus Aurantium Dulcis (Orange) Peel Oil, Citrus Aurantifolia (Lime) Oil, Vitis Vinifera (Grape) Seed Oil, Punica Granatum Seed Oil, Pinus Sylvestris Leaf Oil, Persea Gratissima (Avocado) Oil, Niacinamide, Citrus Grandis (Grapefruit) Peel Oil, Cholesterol, Anthemis Nobilis Flower Water, Lactobacillus/Honeysuckle Flower/Licorice Root/Morus Alba Root/Pueraria Lobata Root/Schizandra Chinensis Fruit/Scutellaria Baicalensis Root/Sophora Japonica Flower Extract Ferment Filtrate, Perfluorohexane, Olea Europaea (Olive) Leaf Extract, Glycerin, Eucalyptus Globulus Leaf Oil, Camellia Sinensis Leaf Extract, Chrysanthemum Indicum Flower Extract, Pueraria Lobata Root Extract, Perfluorodecalin, Morus Alba Fruit Extract, Magnolia Kobus Bark Extract, Glycine Soja (Soybean) Sprout Extract, Diospyros Kaki Leaf Extract, Cinnamomum Cassia Bark Extract, Artemisia Princeps Leaf Extract, Pentafluoropropane, Curcuma Longa (Turmeric) Root Extract, Steareth-20, Hydrolyzed Hyaluronic Acid, Colloidal Oatmeal, Hydrolyzed Silk, Citric Acid, Sodium Benzoate, Potassium Sorbate, Aloe Barbadensis Leaf Extract, N-Hydroxysuccinimide, Hydrolyzed Collagen, Caprylhydroxamic Acid, Tocopherol, Thiamine Hcl, Riboflavin, Retinyl Palmitate, Pantothenic Acid, Palmitoyl Oligopeptide, Niacin, Folic Acid, Chrysin, Carnitine Hcl, Biotin, Ascorbic Acid, Palmitoyl Tetrapeptide-7, Chlorhexidine Digluconate. May Contain: Iron Oxides (Ci 77492, Ci 77491, Ci 77499).   \n",
       "\n",
       "   Combination  Dry  Normal  Oily  Sensitive  \n",
       "0            1    1       1     1          1  \n",
       "1            1    1       1     1          1  \n",
       "2            1    1       1     1          0  \n",
       "3            1    1       1     1          1  \n",
       "4            1    1       1     1          1  "
      ]
     },
     "execution_count": 2,
     "metadata": {},
     "output_type": "execute_result"
    }
   ],
   "source": [
    "# Load DataFrame\n",
    "import pandas as pd\n",
    "\n",
    "pd.set_option('display.max_colwidth', None)\n",
    "df_target = pd.read_csv('./datas/cosmetics.csv')\n",
    "df_target = df_target.iloc[:5]\n",
    "df_target"
   ]
  },
  {
   "cell_type": "markdown",
   "metadata": {
    "id": "LFqMXppKdVVl"
   },
   "source": [
    "### 2-2. Load Ingredients Dictionary(성분 사전)\n",
    "\n",
    "##### Read and Save PDF\n",
    "- Read PDF: Tabula\n",
    "    - PDF -> List[df1, df2, df3, ...]\n",
    "- Save: Pickle\n",
    "    - List[df1, df2, df3, ...] -> pkl(binary)"
   ]
  },
  {
   "cell_type": "code",
   "execution_count": 3,
   "metadata": {
    "id": "D13Faes4dVVl"
   },
   "outputs": [],
   "source": [
    "# !pip install tabula\n",
    "# pip install --upgrade pip\n",
    "# !pip install tabula-py"
   ]
  },
  {
   "cell_type": "code",
   "execution_count": 4,
   "metadata": {
    "id": "FW51f6DKdVVm"
   },
   "outputs": [],
   "source": [
    "import tabula\n",
    "import pickle\n",
    "from tabula.io import read_pdf\n",
    "\n",
    "# Tabula로 PDF 읽기 -> DataFrame List\n",
    "ingredients_list = tabula.io.read_pdf('./datas/별첨1. 표준화명칭목록_220530.pdf', pages='all', lattice=True)\n",
    "\n",
    "# DataFrame List를 Pickle로 저장\n",
    "with open('./datas/ingredients_list.pkl', 'wb') as f:\n",
    "    pickle.dump(ingredients_list, f)"
   ]
  },
  {
   "cell_type": "markdown",
   "metadata": {
    "id": "BV7QUzXBdVVm"
   },
   "source": [
    "# 3. 문제"
   ]
  },
  {
   "cell_type": "markdown",
   "metadata": {
    "id": "9-_k4Lw8dVVn"
   },
   "source": [
    "## 1단계: 성분사전 불러오기 & DataFrame 합치기, 수정하기\n",
    "***\n",
    "\n",
    "##### Load Pickle File\n",
    "- Load: Pickle\n",
    "- List to DataFrame: Pandas"
   ]
  },
  {
   "cell_type": "code",
   "execution_count": 5,
   "metadata": {
    "id": "v7BzYBWSdVVn"
   },
   "outputs": [],
   "source": [
    "# Pickle File 불러오기\n",
    "import pickle\n",
    "\n",
    "with open('./datas/ingredients_list.pkl', 'rb') as f:\n",
    "    ingredients_list_pkl = pickle.load(f)"
   ]
  },
  {
   "cell_type": "markdown",
   "metadata": {
    "id": "aoUS30r9dVVn"
   },
   "source": [
    "### **문제 1-1)** 성분사전 DataFrame 만들기(10점)\n",
    "- Pickle을 이용해 Load한 ingredients_list_pkl를 하나의 DataFrame으로 합치세요.\n",
    "<br></br>\n",
    "    - 조건1: 데이터는 index 기준으로 합치세요.\n",
    "<br></br>\n",
    "    - 조건2: join없이 단순히 합치세요.\n",
    "<br></br>\n",
    "<br></br>\n",
    "    - hint1: 20375개의 행이 만들어져야 합니다.\n",
    "<br></br>\n",
    "    - hint2: ingredients_list_pkl는 여러 DataFrame들이 Element로 들어있는 List입니다.\n",
    "<br></br>\n",
    "- 완료 후 결과 dataframe 변수를 check_01_01 함수에 입력하여 채점하세요."
   ]
  },
  {
   "cell_type": "code",
   "execution_count": 6,
   "metadata": {
    "id": "Q_JVG43SdVVo"
   },
   "outputs": [
    {
     "data": {
      "text/html": [
       "<div>\n",
       "<style scoped>\n",
       "    .dataframe tbody tr th:only-of-type {\n",
       "        vertical-align: middle;\n",
       "    }\n",
       "\n",
       "    .dataframe tbody tr th {\n",
       "        vertical-align: top;\n",
       "    }\n",
       "\n",
       "    .dataframe thead th {\n",
       "        text-align: right;\n",
       "    }\n",
       "</style>\n",
       "<table border=\"1\" class=\"dataframe\">\n",
       "  <thead>\n",
       "    <tr style=\"text-align: right;\">\n",
       "      <th></th>\n",
       "      <th>성분코드</th>\n",
       "      <th>표준 성분명</th>\n",
       "      <th>표준 영문명</th>\n",
       "      <th>구명칭</th>\n",
       "      <th>구영문명</th>\n",
       "    </tr>\n",
       "  </thead>\n",
       "  <tbody>\n",
       "    <tr>\n",
       "      <th>0</th>\n",
       "      <td>1</td>\n",
       "      <td>가공소금</td>\n",
       "      <td>NaN</td>\n",
       "      <td>NaN</td>\n",
       "      <td>NaN</td>\n",
       "    </tr>\n",
       "    <tr>\n",
       "      <th>1</th>\n",
       "      <td>2</td>\n",
       "      <td>가지열매추출물</td>\n",
       "      <td>Solanum Melongena (Eggplant) Fruit Extract</td>\n",
       "      <td>가지추출물</td>\n",
       "      <td>Solanum Melongena (Eggplant) Fruit Extract</td>\n",
       "    </tr>\n",
       "    <tr>\n",
       "      <th>2</th>\n",
       "      <td>3</td>\n",
       "      <td>구멍쇠미역추출물</td>\n",
       "      <td>Agarum Cribrosum Extract</td>\n",
       "      <td>구멍쇠미역추출물</td>\n",
       "      <td>Agarum Cribosum Extract</td>\n",
       "    </tr>\n",
       "    <tr>\n",
       "      <th>3</th>\n",
       "      <td>4</td>\n",
       "      <td>루핀아미노산</td>\n",
       "      <td>Lupine Amino Acids</td>\n",
       "      <td>NaN</td>\n",
       "      <td>NaN</td>\n",
       "    </tr>\n",
       "    <tr>\n",
       "      <th>4</th>\n",
       "      <td>5</td>\n",
       "      <td>류신</td>\n",
       "      <td>Leucine</td>\n",
       "      <td>NaN</td>\n",
       "      <td>NaN</td>\n",
       "    </tr>\n",
       "    <tr>\n",
       "      <th>...</th>\n",
       "      <td>...</td>\n",
       "      <td>...</td>\n",
       "      <td>...</td>\n",
       "      <td>...</td>\n",
       "      <td>...</td>\n",
       "    </tr>\n",
       "    <tr>\n",
       "      <th>20370</th>\n",
       "      <td>23242</td>\n",
       "      <td>비타민나무열매수</td>\n",
       "      <td>Hippophae Rhamnoides Fruit Water</td>\n",
       "      <td>NaN</td>\n",
       "      <td>NaN</td>\n",
       "    </tr>\n",
       "    <tr>\n",
       "      <th>20371</th>\n",
       "      <td>23243</td>\n",
       "      <td>효모/헥사펩타이드-11발효여과추출물</td>\n",
       "      <td>Saccharomyces/Hexapeptide-11 Ferment Filtrate Extract</td>\n",
       "      <td>NaN</td>\n",
       "      <td>NaN</td>\n",
       "    </tr>\n",
       "    <tr>\n",
       "      <th>20372</th>\n",
       "      <td>23247</td>\n",
       "      <td>약모밀잎소포</td>\n",
       "      <td>NaN</td>\n",
       "      <td>NaN</td>\n",
       "      <td>NaN</td>\n",
       "    </tr>\n",
       "    <tr>\n",
       "      <th>20373</th>\n",
       "      <td>23248</td>\n",
       "      <td>삼뿌리수</td>\n",
       "      <td>NaN</td>\n",
       "      <td>NaN</td>\n",
       "      <td>NaN</td>\n",
       "    </tr>\n",
       "    <tr>\n",
       "      <th>20374</th>\n",
       "      <td>23249</td>\n",
       "      <td>흑효모/매스틱검추출물발효여과물</td>\n",
       "      <td>NaN</td>\n",
       "      <td>NaN</td>\n",
       "      <td>NaN</td>\n",
       "    </tr>\n",
       "  </tbody>\n",
       "</table>\n",
       "<p>20375 rows × 5 columns</p>\n",
       "</div>"
      ],
      "text/plain": [
       "        성분코드               표준 성분명  \\\n",
       "0          1                 가공소금   \n",
       "1          2              가지열매추출물   \n",
       "2          3             구멍쇠미역추출물   \n",
       "3          4               루핀아미노산   \n",
       "4          5                   류신   \n",
       "...      ...                  ...   \n",
       "20370  23242             비타민나무열매수   \n",
       "20371  23243  효모/헥사펩타이드-11발효여과추출물   \n",
       "20372  23247               약모밀잎소포   \n",
       "20373  23248                 삼뿌리수   \n",
       "20374  23249     흑효모/매스틱검추출물발효여과물   \n",
       "\n",
       "                                                      표준 영문명       구명칭  \\\n",
       "0                                                        NaN       NaN   \n",
       "1                 Solanum Melongena (Eggplant) Fruit Extract     가지추출물   \n",
       "2                                   Agarum Cribrosum Extract  구멍쇠미역추출물   \n",
       "3                                         Lupine Amino Acids       NaN   \n",
       "4                                                    Leucine       NaN   \n",
       "...                                                      ...       ...   \n",
       "20370                       Hippophae Rhamnoides Fruit Water       NaN   \n",
       "20371  Saccharomyces/Hexapeptide-11 Ferment Filtrate Extract       NaN   \n",
       "20372                                                    NaN       NaN   \n",
       "20373                                                    NaN       NaN   \n",
       "20374                                                    NaN       NaN   \n",
       "\n",
       "                                             구영문명  \n",
       "0                                             NaN  \n",
       "1      Solanum Melongena (Eggplant) Fruit Extract  \n",
       "2                         Agarum Cribosum Extract  \n",
       "3                                             NaN  \n",
       "4                                             NaN  \n",
       "...                                           ...  \n",
       "20370                                         NaN  \n",
       "20371                                         NaN  \n",
       "20372                                         NaN  \n",
       "20373                                         NaN  \n",
       "20374                                         NaN  \n",
       "\n",
       "[20375 rows x 5 columns]"
      ]
     },
     "execution_count": 6,
     "metadata": {},
     "output_type": "execute_result"
    }
   ],
   "source": [
    "ingredients_list = pd.concat(ingredients_list_pkl)\n",
    "ingredients_list = ingredients_list.reset_index()\n",
    "ingredients_list = ingredients_list.drop(columns=\"index\", axis=1)\n",
    "ingredients_list"
   ]
  },
  {
   "cell_type": "code",
   "execution_count": 7,
   "metadata": {
    "id": "Kt47EQYOdVVo"
   },
   "outputs": [
    {
     "name": "stdout",
     "output_type": "stream",
     "text": [
      "정답입니다! 10점 누적 되었습니다!\n",
      "현재 누적 점수: 10 / 100\n"
     ]
    }
   ],
   "source": [
    "check_01_01(ingredients_list)"
   ]
  },
  {
   "cell_type": "markdown",
   "metadata": {
    "id": "I9pniSPFdVVo"
   },
   "source": [
    "### **문제 1-2)** 성분사전 DataFrame 내의 Data 수정하기 - 1(15점)\n",
    "- 이 성분 사전 DataFrame에는 원본에는 없는 '\\r' 이 아래와 같이 data 사이에 끼어 있습니다. 이 '\\r'을 삭제하세요\n",
    "<br></br>\n",
    "    <img src=\"./[문제보기용 이미지]images/02-1-2-001.png\" style=\"margin:auto\" width=700/>\n",
    "    <img src=\"./[문제보기용 이미지]images/02-1-2-002.png\" style=\"margin:auto\" width=1000/>\n",
    "<br></br>\n",
    "    - hint1: '\\r'를 대체 할 때 한글('표준 성분명', '구명칭')의 경우 띄어쓰기가 없고, 영어('표준 영문명', '구영문명)의 경우 띄어쓰기를 해야 합니다.\n",
    "<br></br>\n",
    "    - hint2: 모든 영문명의 경우 대문자로 시작합니다.\n",
    "<br></br>\n",
    "- 완료 후 결과 dataframe 변수를 check_01_02 함수에 입력하여 채점하세요."
   ]
  },
  {
   "cell_type": "code",
   "execution_count": 8,
   "metadata": {
    "id": "MDu8ol7NdVVo"
   },
   "outputs": [
    {
     "data": {
      "text/html": [
       "<div>\n",
       "<style scoped>\n",
       "    .dataframe tbody tr th:only-of-type {\n",
       "        vertical-align: middle;\n",
       "    }\n",
       "\n",
       "    .dataframe tbody tr th {\n",
       "        vertical-align: top;\n",
       "    }\n",
       "\n",
       "    .dataframe thead th {\n",
       "        text-align: right;\n",
       "    }\n",
       "</style>\n",
       "<table border=\"1\" class=\"dataframe\">\n",
       "  <thead>\n",
       "    <tr style=\"text-align: right;\">\n",
       "      <th></th>\n",
       "      <th>성분코드</th>\n",
       "      <th>표준 성분명</th>\n",
       "      <th>표준 영문명</th>\n",
       "      <th>구명칭</th>\n",
       "      <th>구영문명</th>\n",
       "    </tr>\n",
       "  </thead>\n",
       "  <tbody>\n",
       "    <tr>\n",
       "      <th>0</th>\n",
       "      <td>1</td>\n",
       "      <td>가공소금</td>\n",
       "      <td>NaN</td>\n",
       "      <td>NaN</td>\n",
       "      <td>NaN</td>\n",
       "    </tr>\n",
       "    <tr>\n",
       "      <th>1</th>\n",
       "      <td>2</td>\n",
       "      <td>가지열매추출물</td>\n",
       "      <td>Solanum Melongena (Eggplant) Fruit Extract</td>\n",
       "      <td>가지추출물</td>\n",
       "      <td>Solanum Melongena (Eggplant) Fruit Extract</td>\n",
       "    </tr>\n",
       "    <tr>\n",
       "      <th>2</th>\n",
       "      <td>3</td>\n",
       "      <td>구멍쇠미역추출물</td>\n",
       "      <td>Agarum Cribrosum Extract</td>\n",
       "      <td>구멍쇠미역추출물</td>\n",
       "      <td>Agarum Cribosum Extract</td>\n",
       "    </tr>\n",
       "    <tr>\n",
       "      <th>3</th>\n",
       "      <td>4</td>\n",
       "      <td>루핀아미노산</td>\n",
       "      <td>Lupine Amino Acids</td>\n",
       "      <td>NaN</td>\n",
       "      <td>NaN</td>\n",
       "    </tr>\n",
       "    <tr>\n",
       "      <th>4</th>\n",
       "      <td>5</td>\n",
       "      <td>류신</td>\n",
       "      <td>Leucine</td>\n",
       "      <td>NaN</td>\n",
       "      <td>NaN</td>\n",
       "    </tr>\n",
       "    <tr>\n",
       "      <th>...</th>\n",
       "      <td>...</td>\n",
       "      <td>...</td>\n",
       "      <td>...</td>\n",
       "      <td>...</td>\n",
       "      <td>...</td>\n",
       "    </tr>\n",
       "    <tr>\n",
       "      <th>20370</th>\n",
       "      <td>23242</td>\n",
       "      <td>비타민나무열매수</td>\n",
       "      <td>Hippophae Rhamnoides Fruit Water</td>\n",
       "      <td>NaN</td>\n",
       "      <td>NaN</td>\n",
       "    </tr>\n",
       "    <tr>\n",
       "      <th>20371</th>\n",
       "      <td>23243</td>\n",
       "      <td>효모/헥사펩타이드-11발효여과추출물</td>\n",
       "      <td>Saccharomyces/Hexapeptide-11 Ferment Filtrate Extract</td>\n",
       "      <td>NaN</td>\n",
       "      <td>NaN</td>\n",
       "    </tr>\n",
       "    <tr>\n",
       "      <th>20372</th>\n",
       "      <td>23247</td>\n",
       "      <td>약모밀잎소포</td>\n",
       "      <td>NaN</td>\n",
       "      <td>NaN</td>\n",
       "      <td>NaN</td>\n",
       "    </tr>\n",
       "    <tr>\n",
       "      <th>20373</th>\n",
       "      <td>23248</td>\n",
       "      <td>삼뿌리수</td>\n",
       "      <td>NaN</td>\n",
       "      <td>NaN</td>\n",
       "      <td>NaN</td>\n",
       "    </tr>\n",
       "    <tr>\n",
       "      <th>20374</th>\n",
       "      <td>23249</td>\n",
       "      <td>흑효모/매스틱검추출물발효여과물</td>\n",
       "      <td>NaN</td>\n",
       "      <td>NaN</td>\n",
       "      <td>NaN</td>\n",
       "    </tr>\n",
       "  </tbody>\n",
       "</table>\n",
       "<p>20375 rows × 5 columns</p>\n",
       "</div>"
      ],
      "text/plain": [
       "        성분코드               표준 성분명  \\\n",
       "0          1                 가공소금   \n",
       "1          2              가지열매추출물   \n",
       "2          3             구멍쇠미역추출물   \n",
       "3          4               루핀아미노산   \n",
       "4          5                   류신   \n",
       "...      ...                  ...   \n",
       "20370  23242             비타민나무열매수   \n",
       "20371  23243  효모/헥사펩타이드-11발효여과추출물   \n",
       "20372  23247               약모밀잎소포   \n",
       "20373  23248                 삼뿌리수   \n",
       "20374  23249     흑효모/매스틱검추출물발효여과물   \n",
       "\n",
       "                                                      표준 영문명       구명칭  \\\n",
       "0                                                        NaN       NaN   \n",
       "1                 Solanum Melongena (Eggplant) Fruit Extract     가지추출물   \n",
       "2                                   Agarum Cribrosum Extract  구멍쇠미역추출물   \n",
       "3                                         Lupine Amino Acids       NaN   \n",
       "4                                                    Leucine       NaN   \n",
       "...                                                      ...       ...   \n",
       "20370                       Hippophae Rhamnoides Fruit Water       NaN   \n",
       "20371  Saccharomyces/Hexapeptide-11 Ferment Filtrate Extract       NaN   \n",
       "20372                                                    NaN       NaN   \n",
       "20373                                                    NaN       NaN   \n",
       "20374                                                    NaN       NaN   \n",
       "\n",
       "                                             구영문명  \n",
       "0                                             NaN  \n",
       "1      Solanum Melongena (Eggplant) Fruit Extract  \n",
       "2                         Agarum Cribosum Extract  \n",
       "3                                             NaN  \n",
       "4                                             NaN  \n",
       "...                                           ...  \n",
       "20370                                         NaN  \n",
       "20371                                         NaN  \n",
       "20372                                         NaN  \n",
       "20373                                         NaN  \n",
       "20374                                         NaN  \n",
       "\n",
       "[20375 rows x 5 columns]"
      ]
     },
     "execution_count": 8,
     "metadata": {},
     "output_type": "execute_result"
    }
   ],
   "source": [
    "ingredients_list['표준 성분명'] = ingredients_list['표준 성분명'].str.replace('\\r', '')\n",
    "ingredients_list['구명칭'] = ingredients_list['구명칭'].str.replace('\\r', '')\n",
    "ingredients_list['표준 영문명'] = ingredients_list['표준 영문명'].str.replace('\\r', ' ')\n",
    "ingredients_list['구영문명'] = ingredients_list['구영문명'].str.replace('\\r', ' ')\n",
    "ingredients_list"
   ]
  },
  {
   "cell_type": "code",
   "execution_count": 9,
   "metadata": {
    "id": "Kti1NWHNdVVo"
   },
   "outputs": [
    {
     "name": "stdout",
     "output_type": "stream",
     "text": [
      "정답입니다! 15점 누적 되었습니다!\n",
      "현재 누적 점수: 25 / 100\n"
     ]
    }
   ],
   "source": [
    "check_01_02(ingredients_list)"
   ]
  },
  {
   "cell_type": "markdown",
   "metadata": {
    "id": "v8z5kD7LdVVo"
   },
   "source": [
    "### **문제 1-3)** 성분사전 DataFrame 내의 Data 수정하기 - 2(15점)\n",
    "- pdf를 dataframe으로 전환하면서 일부 누락된 데이터가 있습니다. 아래 cell의 replace_dict는 현재값(key):변경할값(value)의 쌍으로 이루어져 있습니다. 이 replace_dict를 이용하여 성분사전 dataframe '표준 영문명' column의 값을 변경하세요.\n",
    "<br></br>\n",
    "    - 참고: replace_dict의 내용만 변경하면 됩니다. 다른 누락사항을 확인하여 변경할 필요는 없습니다.\n",
    "<br></br>\n",
    "- 완료 후 결과 dataframe 변수를 check_01_03 함수에 입력하여 채점하세요."
   ]
  },
  {
   "cell_type": "code",
   "execution_count": 10,
   "metadata": {
    "id": "N1rjh-YQdVVp"
   },
   "outputs": [],
   "source": [
    "replace_dict = {\n",
    "    'Acetobacter/Lycium Chinense Fruit/Rehmannia Glutinosa Root/Cuscuta Chinensis Fruit/Cistanche Deserticola/Zanthoxylum Piperitumit/Chrysanthemum Morifolium Fruit/Poria Cocos/ Cinnamomum Cassia': 'Acetobacter/Lycium Chinense Fruit/Rehmannia Glutinosa Root/Cuscuta Chinensis Fruit/Cistanche Deserticola/Zanthoxylum Piperitumit/Chrysanthemum Morifolium Fruit/Poria Cocos/ Cinnamomum Cassia Ferment',\n",
    "    'Saccharomyces/Licorice Root/Rehmannia Glutinosa Root/Angelica Gigas Root/Ophiopogon Japonicus Root/Atractylodes Macrocephala Root/Paeonia Lactiflora Root/Anemarrhena Asphodeloides Root/Fraxinus Excelsior Bark/Asparagus Cochinchinensis/Phellodendron Amurense': 'Saccharomyces/Licorice Root/Rehmannia Glutinosa Root/Angelica Gigas Root/Ophiopogon Japonicus Root/Atractylodes Macrocephala Root/Paeonia Lactiflora Root/Anemarrhena Asphodeloides Root/Fraxinus Excelsior Bark/Asparagus Cochinchinensis/Phellodendron Amurense Bark Ferment Extract',\n",
    "    'Bacillus/Lycium Chinense Fruit/Rehmannia Glutinosa Root/Cuscuta Chinensis Fruit/Cistanche Deserticola/Zanthoxylum Piperitum Fruit/Chrysanthemum Morifolium Fruit/Poria Cocos/ Cinnamomum Cassia': 'Bacillus/Lycium Chinense Fruit/Rehmannia Glutinosa Root/Cuscuta Chinensis Fruit/Cistanche Deserticola/Zanthoxylum Piperitum Fruit/Chrysanthemum Morifolium Fruit/Poria Cocos/ Cinnamomum Cassia Ferment',\n",
    "    'Bifida/Angelica Gigas/Angelica Tenuissima Root/Antler Velvet/Rehmannia Glutinosa Root/Atractylodes Japonica Rhizome/Cnidium Officinale Root/Cordyceps Sinensis/Ledebouriella Seseloides Root/Licorice Root/Paeonia Lactiflora Root/Panax Ginseng': 'Bifida/Angelica Gigas/Angelica Tenuissima Root/Antler Velvet/Rehmannia Glutinosa Root/Atractylodes Japonica Rhizome/Cnidium Officinale Root/Cordyceps Sinensis/Ledebouriella Seseloides Root/Licorice Root/Paeonia Lactiflora Root/Panax Ginseng Root/Phellinus Linteus/Scutellaria Baicalensis Root Ferment',\n",
    "    'Leuconostoc/Lycium Chinense Fruit/Rehmannia Glutinosa Root/Cuscuta Chinensis Fruit/Cistanche Deserticola/Zanthoxylum Piperitum Fruit/Chrysanthemum Morifolium Fruit/Poria Cocos/ Cinnamomum Cassia': 'Leuconostoc/Lycium Chinense Fruit/Rehmannia Glutinosa Root/Cuscuta Chinensis Fruit/Cistanche Deserticola/Zanthoxylum Piperitum Fruit/Chrysanthemum Morifolium Fruit/Poria Cocos/ Cinnamomum Cassia Ferment',\n",
    "    'Saccharomyces/Anemarrhena Asphodeloides Root/Angelica Gigas Root/Asparagus Cochinchinensis/Atractylodes Macrocephala Root/Fraxinus Excelsior Bark/Licorice Root/Ophiopogon Japonicus Root/Paeonia Lactiflora Root/Phellodendron Amurense': 'Saccharomyces/Anemarrhena Asphodeloides Root/Angelica Gigas Root/Asparagus Cochinchinensis/Atractylodes Macrocephala Root/Fraxinus Excelsior Bark/Licorice Root/Ophiopogon Japonicus Root/Paeonia Lactiflora Root/Phellodendron Amurense Bark Ferment Extract',\n",
    "    'Saccharomyces/Camellia Japonica Flower/Castanea Crenata Shell/Diospyros Kaki Leaf/Paeonia Suffruticosa Root/Rhus Javanica/Sanguisorba Officinalis Root Extract': 'Saccharomyces/Camellia Japonica Flower/Castanea Crenata Shell/Diospyros Kaki Leaf/Paeonia Suffruticosa Root/Rhus Javanica/Sanguisorba Officinalis Root Extract Ferment Filtrate',\n",
    "    'Lactobacillus/Honeysuckle Flower/Licorice Root/Morus Alba Root/Pueraria Lobata Root/Schisandra Chinensis Fruit/Scutellaria Baicalensis Root/Sophora Japonica Flower': 'Lactobacillus/Honeysuckle Flower/Licorice Root/Morus Alba Root/Pueraria Lobata Root/Schizandra Chinensis Fruit/Scutellaria Baicalensis Root/Sophora Japonica Flower Extract Ferment Filtrate',\n",
    "    'Lactobacillus/Lycium Chinense Fruit/Rehmannia Glutinosa Root/Cuscuta Chinensis Fruit/Cistanche Deserticola/Zanthoxylum Piperitum Fruit/Chrysanthemum Morifolium Fruit/Poria Cocos/Cinnamomum Cassia': 'Lactobacillus/Lycium Chinense Fruit/Rehmannia Glutinosa Root/Cuscuta Chinensis Fruit/Cistanche Deserticola/Zanthoxylum Piperitum Fruit/Chrysanthemum Morifolium Fruit/Poria Cocos/Cinnamomum Cassia Ramulus Bark Ferment Filtrate',\n",
    "    'Saccharomyces/Lycium Chinense Fruit/Rehmannia Glutinosa Root/Cuscuta Chinensis Fruit/Cistanche Deserticola/Zanthoxylum Piperitum Fruit/Chrysanthemum Morifolium Fruit/Poria Cocos/ Cinnamomum Cassia': 'Saccharomyces/Lycium Chinense Fruit/Rehmannia Glutinosa Root/Cuscuta Chinensis Fruit/Cistanche Deserticola/Zanthoxylum Piperitum Fruit/Chrysanthemum Morifolium Fruit/Poria Cocos/ Cinnamomum Cassia Ferment',\n",
    "}"
   ]
  },
  {
   "cell_type": "code",
   "execution_count": 11,
   "metadata": {
    "id": "6TM1JdhKdVVp"
   },
   "outputs": [
    {
     "data": {
      "text/html": [
       "<div>\n",
       "<style scoped>\n",
       "    .dataframe tbody tr th:only-of-type {\n",
       "        vertical-align: middle;\n",
       "    }\n",
       "\n",
       "    .dataframe tbody tr th {\n",
       "        vertical-align: top;\n",
       "    }\n",
       "\n",
       "    .dataframe thead th {\n",
       "        text-align: right;\n",
       "    }\n",
       "</style>\n",
       "<table border=\"1\" class=\"dataframe\">\n",
       "  <thead>\n",
       "    <tr style=\"text-align: right;\">\n",
       "      <th></th>\n",
       "      <th>성분코드</th>\n",
       "      <th>표준 성분명</th>\n",
       "      <th>표준 영문명</th>\n",
       "      <th>구명칭</th>\n",
       "      <th>구영문명</th>\n",
       "    </tr>\n",
       "  </thead>\n",
       "  <tbody>\n",
       "    <tr>\n",
       "      <th>0</th>\n",
       "      <td>1</td>\n",
       "      <td>가공소금</td>\n",
       "      <td>NaN</td>\n",
       "      <td>NaN</td>\n",
       "      <td>NaN</td>\n",
       "    </tr>\n",
       "    <tr>\n",
       "      <th>1</th>\n",
       "      <td>2</td>\n",
       "      <td>가지열매추출물</td>\n",
       "      <td>Solanum Melongena (Eggplant) Fruit Extract</td>\n",
       "      <td>가지추출물</td>\n",
       "      <td>Solanum Melongena (Eggplant) Fruit Extract</td>\n",
       "    </tr>\n",
       "    <tr>\n",
       "      <th>2</th>\n",
       "      <td>3</td>\n",
       "      <td>구멍쇠미역추출물</td>\n",
       "      <td>Agarum Cribrosum Extract</td>\n",
       "      <td>구멍쇠미역추출물</td>\n",
       "      <td>Agarum Cribosum Extract</td>\n",
       "    </tr>\n",
       "    <tr>\n",
       "      <th>3</th>\n",
       "      <td>4</td>\n",
       "      <td>루핀아미노산</td>\n",
       "      <td>Lupine Amino Acids</td>\n",
       "      <td>NaN</td>\n",
       "      <td>NaN</td>\n",
       "    </tr>\n",
       "    <tr>\n",
       "      <th>4</th>\n",
       "      <td>5</td>\n",
       "      <td>류신</td>\n",
       "      <td>Leucine</td>\n",
       "      <td>NaN</td>\n",
       "      <td>NaN</td>\n",
       "    </tr>\n",
       "    <tr>\n",
       "      <th>...</th>\n",
       "      <td>...</td>\n",
       "      <td>...</td>\n",
       "      <td>...</td>\n",
       "      <td>...</td>\n",
       "      <td>...</td>\n",
       "    </tr>\n",
       "    <tr>\n",
       "      <th>20370</th>\n",
       "      <td>23242</td>\n",
       "      <td>비타민나무열매수</td>\n",
       "      <td>Hippophae Rhamnoides Fruit Water</td>\n",
       "      <td>NaN</td>\n",
       "      <td>NaN</td>\n",
       "    </tr>\n",
       "    <tr>\n",
       "      <th>20371</th>\n",
       "      <td>23243</td>\n",
       "      <td>효모/헥사펩타이드-11발효여과추출물</td>\n",
       "      <td>Saccharomyces/Hexapeptide-11 Ferment Filtrate Extract</td>\n",
       "      <td>NaN</td>\n",
       "      <td>NaN</td>\n",
       "    </tr>\n",
       "    <tr>\n",
       "      <th>20372</th>\n",
       "      <td>23247</td>\n",
       "      <td>약모밀잎소포</td>\n",
       "      <td>NaN</td>\n",
       "      <td>NaN</td>\n",
       "      <td>NaN</td>\n",
       "    </tr>\n",
       "    <tr>\n",
       "      <th>20373</th>\n",
       "      <td>23248</td>\n",
       "      <td>삼뿌리수</td>\n",
       "      <td>NaN</td>\n",
       "      <td>NaN</td>\n",
       "      <td>NaN</td>\n",
       "    </tr>\n",
       "    <tr>\n",
       "      <th>20374</th>\n",
       "      <td>23249</td>\n",
       "      <td>흑효모/매스틱검추출물발효여과물</td>\n",
       "      <td>NaN</td>\n",
       "      <td>NaN</td>\n",
       "      <td>NaN</td>\n",
       "    </tr>\n",
       "  </tbody>\n",
       "</table>\n",
       "<p>20375 rows × 5 columns</p>\n",
       "</div>"
      ],
      "text/plain": [
       "        성분코드               표준 성분명  \\\n",
       "0          1                 가공소금   \n",
       "1          2              가지열매추출물   \n",
       "2          3             구멍쇠미역추출물   \n",
       "3          4               루핀아미노산   \n",
       "4          5                   류신   \n",
       "...      ...                  ...   \n",
       "20370  23242             비타민나무열매수   \n",
       "20371  23243  효모/헥사펩타이드-11발효여과추출물   \n",
       "20372  23247               약모밀잎소포   \n",
       "20373  23248                 삼뿌리수   \n",
       "20374  23249     흑효모/매스틱검추출물발효여과물   \n",
       "\n",
       "                                                      표준 영문명       구명칭  \\\n",
       "0                                                        NaN       NaN   \n",
       "1                 Solanum Melongena (Eggplant) Fruit Extract     가지추출물   \n",
       "2                                   Agarum Cribrosum Extract  구멍쇠미역추출물   \n",
       "3                                         Lupine Amino Acids       NaN   \n",
       "4                                                    Leucine       NaN   \n",
       "...                                                      ...       ...   \n",
       "20370                       Hippophae Rhamnoides Fruit Water       NaN   \n",
       "20371  Saccharomyces/Hexapeptide-11 Ferment Filtrate Extract       NaN   \n",
       "20372                                                    NaN       NaN   \n",
       "20373                                                    NaN       NaN   \n",
       "20374                                                    NaN       NaN   \n",
       "\n",
       "                                             구영문명  \n",
       "0                                             NaN  \n",
       "1      Solanum Melongena (Eggplant) Fruit Extract  \n",
       "2                         Agarum Cribosum Extract  \n",
       "3                                             NaN  \n",
       "4                                             NaN  \n",
       "...                                           ...  \n",
       "20370                                         NaN  \n",
       "20371                                         NaN  \n",
       "20372                                         NaN  \n",
       "20373                                         NaN  \n",
       "20374                                         NaN  \n",
       "\n",
       "[20375 rows x 5 columns]"
      ]
     },
     "execution_count": 11,
     "metadata": {},
     "output_type": "execute_result"
    }
   ],
   "source": [
    "ingredients_list['표준 영문명'] = ingredients_list['표준 영문명'].replace(replace_dict)\n",
    "ingredients_list"
   ]
  },
  {
   "cell_type": "code",
   "execution_count": 12,
   "metadata": {
    "id": "Uf6ggopudVVp"
   },
   "outputs": [
    {
     "name": "stdout",
     "output_type": "stream",
     "text": [
      "정답입니다! 15점 누적 되었습니다!\n",
      "현재 누적 점수: 40 / 100\n"
     ]
    }
   ],
   "source": [
    "check_01_03(ingredients_list)"
   ]
  },
  {
   "cell_type": "markdown",
   "metadata": {
    "id": "83CE3tXRdVVp"
   },
   "source": [
    "## 2단계: Target Data 수정하기\n",
    "***"
   ]
  },
  {
   "cell_type": "markdown",
   "metadata": {
    "id": "HKRvLd0XdVVq"
   },
   "source": [
    "### **문제 2-1)** Target DataFrame 중 Ingredients Column 내의 Data 수정하기(20점)\n",
    "- Kaggle에서 가져오는 데이터는 수정을 필요로 하는 경우가 있습니다. 제시된 Target DataFrame 또한 성분사전과 다른 표현을 쓰는 경우가 있어 해당 내용에 대해 수정을 하고자 합니다. 다음 조건에 맞게 Ingredients Column의 데이터를 수정하세요.\n",
    "<br></br>\n",
    "    - 조건1: 맨 끝에 마침표('.')가 있다면 마지막 마침표만 제거하세요\n",
    "        - ex) 'Algae (Seaweed) Extract. Sea Salt.' -> 'Algae (Seaweed) Extract. Sea Salt'\n",
    "<br></br>\n",
    "    - 조건2: '. May Contain'를 포함하고 있다면, '. May Contain' 이후의 데이터를 제거하세요\n",
    "        - ex) 'Algae (Seaweed) Extract. May Contain: Sea Salt, Fragrance' -> 'Algae (Seaweed) Extract'\n",
    "<br></br>\n",
    "    - 조건3: 아래의 replace_str_dict는 현재값(key):변경할값(value)의 쌍으로 이루어져 있습니다. 이 replace_str_dict를 이용하여 데이터를 변경하세요\n",
    "        - 참고: replace_str_dict의 내용만 변경하면 됩니다. 다른 누락사항을 확인하여 변경할 필요는 없습니다.\n",
    "<br></br>\n",
    "- 완료 후 결과 dataframe 변수를 check_02_01 함수에 입력하여 채점하세요."
   ]
  },
  {
   "cell_type": "code",
   "execution_count": 13,
   "metadata": {
    "id": "DD_KF6E9dVVq"
   },
   "outputs": [],
   "source": [
    "replace_str_dict = {\n",
    "    r'\\bAlgae \\(Seaweed\\) Extract\\b': 'Algae Extract',\n",
    "    r'\\bCitrus Aurantifolia \\(Lime\\) Extract\\b': 'Citrus Aurantifolia (Lime) Fruit Extract',\n",
    "    r'\\bEucalyptus Globulus \\(Eucalyptus\\) Leaf Oil\\b': 'Eucalyptus Globulus Leaf Oil',\n",
    "    r'\\bGalactomyces Ferment Filtrate \\(Pitera\\)\\b': 'Galactomyces Ferment Filtrate',\n",
    "    r'\\bBacillus/Soybean/ Folic Acid Ferment Extract\\b': 'Bacillus/Folic Acid/Soybean Ferment Extract',\n",
    "    r'\\bButyrospermum Parkii \\(Shea Butter\\)\\b': 'Butyrospermum Parkii (Shea) Butter',\n",
    "    r'\\bSea Salt/Maris Sal/Sel Marin\\b': 'Sea Salt',\n",
    "    r'\\bParfum/Fragrance\\b': 'Fragrance|Perfume|Parfum',\n",
    "    r', Fragrance\\b': ', Fragrance|Perfume|Parfum',\n",
    "}"
   ]
  },
  {
   "cell_type": "code",
   "execution_count": 14,
   "metadata": {
    "id": "wCxKUJXAdVVq"
   },
   "outputs": [
    {
     "data": {
      "text/html": [
       "<div>\n",
       "<style scoped>\n",
       "    .dataframe tbody tr th:only-of-type {\n",
       "        vertical-align: middle;\n",
       "    }\n",
       "\n",
       "    .dataframe tbody tr th {\n",
       "        vertical-align: top;\n",
       "    }\n",
       "\n",
       "    .dataframe thead th {\n",
       "        text-align: right;\n",
       "    }\n",
       "</style>\n",
       "<table border=\"1\" class=\"dataframe\">\n",
       "  <thead>\n",
       "    <tr style=\"text-align: right;\">\n",
       "      <th></th>\n",
       "      <th>Label</th>\n",
       "      <th>Brand</th>\n",
       "      <th>Name</th>\n",
       "      <th>Price</th>\n",
       "      <th>Rank</th>\n",
       "      <th>Ingredients</th>\n",
       "      <th>Combination</th>\n",
       "      <th>Dry</th>\n",
       "      <th>Normal</th>\n",
       "      <th>Oily</th>\n",
       "      <th>Sensitive</th>\n",
       "    </tr>\n",
       "  </thead>\n",
       "  <tbody>\n",
       "    <tr>\n",
       "      <th>0</th>\n",
       "      <td>Moisturizer</td>\n",
       "      <td>LA MER</td>\n",
       "      <td>Crème de la Mer</td>\n",
       "      <td>175</td>\n",
       "      <td>4.1</td>\n",
       "      <td>Algae Extract, Mineral Oil, Petrolatum, Glycerin, Isohexadecane, Microcrystalline Wax, Lanolin Alcohol, Citrus Aurantifolia (Lime) Fruit Extract, Sesamum Indicum (Sesame) Seed Oil, Eucalyptus Globulus Leaf Oil, Sesamum Indicum (Sesame) Seed Powder, Medicago Sativa (Alfalfa) Seed Powder, Helianthus Annuus (Sunflower) Seedcake, Prunus Amygdalus Dulcis (Sweet Almond) Seed Meal, Sodium Gluconate, Copper Gluconate, Calcium Gluconate, Magnesium Gluconate, Zinc Gluconate, Magnesium Sulfate, Paraffin, Tocopheryl Succinate, Niacin, Water, Beta-Carotene, Decyl Oleate, Aluminum Distearate, Octyldodecanol, Citric Acid, Cyanocobalamin, Magnesium Stearate, Panthenol, Limonene, Geraniol, Linalool, Hydroxycitronellal, Citronellol, Benzyl Salicylate, Citral, Sodium Benzoate, Alcohol Denat., Fragrance|Perfume|Parfum</td>\n",
       "      <td>1</td>\n",
       "      <td>1</td>\n",
       "      <td>1</td>\n",
       "      <td>1</td>\n",
       "      <td>1</td>\n",
       "    </tr>\n",
       "    <tr>\n",
       "      <th>1</th>\n",
       "      <td>Moisturizer</td>\n",
       "      <td>SK-II</td>\n",
       "      <td>Facial Treatment Essence</td>\n",
       "      <td>179</td>\n",
       "      <td>4.1</td>\n",
       "      <td>Galactomyces Ferment Filtrate (Pitera), Butylene Glycol, Pentylene Glycol, Water, Sodium Benzoate, Methylparaben, Sorbic Acid</td>\n",
       "      <td>1</td>\n",
       "      <td>1</td>\n",
       "      <td>1</td>\n",
       "      <td>1</td>\n",
       "      <td>1</td>\n",
       "    </tr>\n",
       "    <tr>\n",
       "      <th>2</th>\n",
       "      <td>Moisturizer</td>\n",
       "      <td>DRUNK ELEPHANT</td>\n",
       "      <td>Protini™ Polypeptide Cream</td>\n",
       "      <td>68</td>\n",
       "      <td>4.4</td>\n",
       "      <td>Water, Dicaprylyl Carbonate, Glycerin, Cetearyl Alcohol, Cetearyl Olivate, Sorbitan Olivate, Sclerocarya Birrea Seed Oil, Bacillus/Folic Acid/Soybean Ferment Extract, Nymphaea Alba Root Extract, sh-Oligopeptide-1, sh-Oligopeptide-2, sh-Polypeptide-1, sh-Polypeptide-9, sh-Polypeptide-11, Copper Palmitoyl Heptapeptide-14, Heptapeptide-15 Palmitate, Palmitoyl Tetrapeptide-7, Palmitoyl Tripeptide-1, Alanine, Arginine, Glycine, Histidine, Isoleucine, Phenylalanine, Proline, Serine, Threonine, Valine, Acetyl Glutamine, Coconut Alkanes , Coco-Caprylate/Caprate, Sodium Hyaluronate, Aspartic Acid, Linoleic Acid, Linolenic Acid, Lecithin, Butylene Glycol, Polyvinyl Alcohol, Sodium Lactate, Sodium PCA, PCA, Sorbitan Isostearate, Carbomer, Polysorbate 20, Polysorbate 60, Lactic Acid/Glycolic Acid Copolymer, Hydroxyethyl Acrylate/Sodium Acryloyldimethyl Taurate Copolymer, Xanthan Gum, Isomalt, 1,2-Hexanediol, Caprylyl Glycol, Chlorphenesin, Phenoxyethanol, Tocopherol, Sodium Benzoate, Phenylpropanol, Glyceryl Caprylate, Symphytum Officinale Callus Culture Extract</td>\n",
       "      <td>1</td>\n",
       "      <td>1</td>\n",
       "      <td>1</td>\n",
       "      <td>1</td>\n",
       "      <td>0</td>\n",
       "    </tr>\n",
       "    <tr>\n",
       "      <th>3</th>\n",
       "      <td>Moisturizer</td>\n",
       "      <td>LA MER</td>\n",
       "      <td>The Moisturizing Soft Cream</td>\n",
       "      <td>175</td>\n",
       "      <td>3.8</td>\n",
       "      <td>Algae Extract, Cyclopentasiloxane, Petrolatum, Glyceryl Distearate, Phenyl Trimethicone, Butylene Glycol, Hydrogenated Vegetable Oil, Cholesterol, Butyrospermum Parkii (Shea Butter), Steareth-10, Dimethicone, Glyceryl Stearate Se, Polysilicone-11, Sesamum Indicum (Sesame) Seed Oil, Medicago Sativa (Alfalfa) Seed Powder, Helianthus Annuus (Sunflower) Seedcake, Prunus Amygdalus Dulcis (Sweet Almond) Seed Meal, Eucalyptus Globulus Leaf Oil, Sodium Gluconate, Copper Gluconate, Calcium Gluconate, Magnesium Gluconate, Zinc Gluconate, Tocopheryl Succinate, Niacin, Sesamum Indicum (Sesame) Seed Powder, Water, Citrus Aurantifolia (Lime) Peel Extract, Laminaria Digitata Extract, Crithmum Maritimum Extract, Salicornia Herbacea Extract, Plankton Extract, Chlorella Vulgaris Extract, Glycine Soja (Soybean) Seed Extract, Glycerin, Caffeine, Sea Salt, Micrococcus Lysate, Diethylhexyl Succinate, Adenosine Phosphate, Creatine, Hydrolyzed Algin, Isocetyl Stearoyl Stearate, Cetyl Alcohol, Sucrose, Acetyl Hexapeptide-8, Glucose Oxidase, Polyacrylamide, Acetyl Carnitine Hcl, Glucose, Caprylic/Capric Triglyceride, C13-14 Isoparaffin, Tocopheryl Acetate, Tetrahexyldecyl Ascorbate, Sodium Pca, Glycosaminoglycans, Urea, Distearyldimonium Chloride, Dipalmitoyl Hydroxyproline, Sodium Hyaluronate, Laureth-7, Lecithin, Trehalose, Polyquaternium-51, Lactoperoxidase, Hydroxypropyl Cyclodextrin, Cyanocobalamin, Pentylene Glycol, Fragrance|Perfume|Parfum, Disodium Edta, Bht, Citronellol, Hydroxycitronellal, Geraniol, Linalool, Limonene, Potassium Sorbate, Phenoxyethanol</td>\n",
       "      <td>1</td>\n",
       "      <td>1</td>\n",
       "      <td>1</td>\n",
       "      <td>1</td>\n",
       "      <td>1</td>\n",
       "    </tr>\n",
       "    <tr>\n",
       "      <th>4</th>\n",
       "      <td>Moisturizer</td>\n",
       "      <td>IT COSMETICS</td>\n",
       "      <td>Your Skin But Better™ CC+™ Cream with SPF 50+</td>\n",
       "      <td>38</td>\n",
       "      <td>4.1</td>\n",
       "      <td>Water, Snail Secretion Filtrate, Phenyl Trimethicone, Dimethicone, Butylene Glycol, Butylene Glycol Dicaprylate/Dicaprate, Orbignya Oleifera Seed Oil, Butyloctyl Salicylate, Cetyl Peg/Ppg-10/1 Dimethicone, Cyclopentasiloxane, Cyclohexasiloxane, Magnesium Sulfate, Polyglyceryl-4 Isostearate, Dimethicone/Vinyl Dimethicone Crosspolymer, Aluminum Hydroxide, Hexyl Laurate, Stearic Acid, Calcium Stearate, Caprylyl Glycol, Triethoxycaprylylsilane, Ethylhexylglycerin, Citrus Medica Limonum (Lemon) Peel Oil, Tocopheryl Acetate, Sorbitan Isostearate, Phenoxyethanol, Citrus Aurantium Bergamia (Bergamot) Fruit Oil, 1,2-Hexanediol, Disodium Edta, Citrus Aurantium Dulcis (Orange) Peel Oil, Citrus Aurantifolia (Lime) Oil, Vitis Vinifera (Grape) Seed Oil, Punica Granatum Seed Oil, Pinus Sylvestris Leaf Oil, Persea Gratissima (Avocado) Oil, Niacinamide, Citrus Grandis (Grapefruit) Peel Oil, Cholesterol, Anthemis Nobilis Flower Water, Lactobacillus/Honeysuckle Flower/Licorice Root/Morus Alba Root/Pueraria Lobata Root/Schizandra Chinensis Fruit/Scutellaria Baicalensis Root/Sophora Japonica Flower Extract Ferment Filtrate, Perfluorohexane, Olea Europaea (Olive) Leaf Extract, Glycerin, Eucalyptus Globulus Leaf Oil, Camellia Sinensis Leaf Extract, Chrysanthemum Indicum Flower Extract, Pueraria Lobata Root Extract, Perfluorodecalin, Morus Alba Fruit Extract, Magnolia Kobus Bark Extract, Glycine Soja (Soybean) Sprout Extract, Diospyros Kaki Leaf Extract, Cinnamomum Cassia Bark Extract, Artemisia Princeps Leaf Extract, Pentafluoropropane, Curcuma Longa (Turmeric) Root Extract, Steareth-20, Hydrolyzed Hyaluronic Acid, Colloidal Oatmeal, Hydrolyzed Silk, Citric Acid, Sodium Benzoate, Potassium Sorbate, Aloe Barbadensis Leaf Extract, N-Hydroxysuccinimide, Hydrolyzed Collagen, Caprylhydroxamic Acid, Tocopherol, Thiamine Hcl, Riboflavin, Retinyl Palmitate, Pantothenic Acid, Palmitoyl Oligopeptide, Niacin, Folic Acid, Chrysin, Carnitine Hcl, Biotin, Ascorbic Acid, Palmitoyl Tetrapeptide-7, Chlorhexidine Digluconate</td>\n",
       "      <td>1</td>\n",
       "      <td>1</td>\n",
       "      <td>1</td>\n",
       "      <td>1</td>\n",
       "      <td>1</td>\n",
       "    </tr>\n",
       "  </tbody>\n",
       "</table>\n",
       "</div>"
      ],
      "text/plain": [
       "         Label           Brand                                           Name  \\\n",
       "0  Moisturizer          LA MER                                Crème de la Mer   \n",
       "1  Moisturizer           SK-II                       Facial Treatment Essence   \n",
       "2  Moisturizer  DRUNK ELEPHANT                     Protini™ Polypeptide Cream   \n",
       "3  Moisturizer          LA MER                    The Moisturizing Soft Cream   \n",
       "4  Moisturizer    IT COSMETICS  Your Skin But Better™ CC+™ Cream with SPF 50+   \n",
       "\n",
       "   Price  Rank  \\\n",
       "0    175   4.1   \n",
       "1    179   4.1   \n",
       "2     68   4.4   \n",
       "3    175   3.8   \n",
       "4     38   4.1   \n",
       "\n",
       "                                                                                                                                                                                                                                                                                                                                                                                                                                                                                                                                                                                                                                                                                                                                                                                                                                                                                                                                                                                                                                                                                                                                                                                                                                                                                                                                                                                                                                                                                                                                                                                                                                                                                                                                                                                                                                                                                                                                                                                                                                                                                           Ingredients  \\\n",
       "0                                                                                                                                                                                                                                                                                                                                                                                                                                                                                                                                                                                                                                                                                                                                                                                                                                                                                                                                                                                                                                                                                                                                                                                                                                                            Algae Extract, Mineral Oil, Petrolatum, Glycerin, Isohexadecane, Microcrystalline Wax, Lanolin Alcohol, Citrus Aurantifolia (Lime) Fruit Extract, Sesamum Indicum (Sesame) Seed Oil, Eucalyptus Globulus Leaf Oil, Sesamum Indicum (Sesame) Seed Powder, Medicago Sativa (Alfalfa) Seed Powder, Helianthus Annuus (Sunflower) Seedcake, Prunus Amygdalus Dulcis (Sweet Almond) Seed Meal, Sodium Gluconate, Copper Gluconate, Calcium Gluconate, Magnesium Gluconate, Zinc Gluconate, Magnesium Sulfate, Paraffin, Tocopheryl Succinate, Niacin, Water, Beta-Carotene, Decyl Oleate, Aluminum Distearate, Octyldodecanol, Citric Acid, Cyanocobalamin, Magnesium Stearate, Panthenol, Limonene, Geraniol, Linalool, Hydroxycitronellal, Citronellol, Benzyl Salicylate, Citral, Sodium Benzoate, Alcohol Denat., Fragrance|Perfume|Parfum   \n",
       "1                                                                                                                                                                                                                                                                                                                                                                                                                                                                                                                                                                                                                                                                                                                                                                                                                                                                                                                                                                                                                                                                                                                                                                                                                                                                                                                                                                                                                                                                                                                                                                                                                                                                                                                                                                                                                                                                                                                                                                        Galactomyces Ferment Filtrate (Pitera), Butylene Glycol, Pentylene Glycol, Water, Sodium Benzoate, Methylparaben, Sorbic Acid   \n",
       "2                                                                                                                                                                                                                                                                                                                                                                                                                                                                                                                                                                                                                                                                                                                                                                                                                                                                                                                                                                                           Water, Dicaprylyl Carbonate, Glycerin, Cetearyl Alcohol, Cetearyl Olivate, Sorbitan Olivate, Sclerocarya Birrea Seed Oil, Bacillus/Folic Acid/Soybean Ferment Extract, Nymphaea Alba Root Extract, sh-Oligopeptide-1, sh-Oligopeptide-2, sh-Polypeptide-1, sh-Polypeptide-9, sh-Polypeptide-11, Copper Palmitoyl Heptapeptide-14, Heptapeptide-15 Palmitate, Palmitoyl Tetrapeptide-7, Palmitoyl Tripeptide-1, Alanine, Arginine, Glycine, Histidine, Isoleucine, Phenylalanine, Proline, Serine, Threonine, Valine, Acetyl Glutamine, Coconut Alkanes , Coco-Caprylate/Caprate, Sodium Hyaluronate, Aspartic Acid, Linoleic Acid, Linolenic Acid, Lecithin, Butylene Glycol, Polyvinyl Alcohol, Sodium Lactate, Sodium PCA, PCA, Sorbitan Isostearate, Carbomer, Polysorbate 20, Polysorbate 60, Lactic Acid/Glycolic Acid Copolymer, Hydroxyethyl Acrylate/Sodium Acryloyldimethyl Taurate Copolymer, Xanthan Gum, Isomalt, 1,2-Hexanediol, Caprylyl Glycol, Chlorphenesin, Phenoxyethanol, Tocopherol, Sodium Benzoate, Phenylpropanol, Glyceryl Caprylate, Symphytum Officinale Callus Culture Extract   \n",
       "3                                                                                                                                                                                                                                                                                                                                                                                                                                                                           Algae Extract, Cyclopentasiloxane, Petrolatum, Glyceryl Distearate, Phenyl Trimethicone, Butylene Glycol, Hydrogenated Vegetable Oil, Cholesterol, Butyrospermum Parkii (Shea Butter), Steareth-10, Dimethicone, Glyceryl Stearate Se, Polysilicone-11, Sesamum Indicum (Sesame) Seed Oil, Medicago Sativa (Alfalfa) Seed Powder, Helianthus Annuus (Sunflower) Seedcake, Prunus Amygdalus Dulcis (Sweet Almond) Seed Meal, Eucalyptus Globulus Leaf Oil, Sodium Gluconate, Copper Gluconate, Calcium Gluconate, Magnesium Gluconate, Zinc Gluconate, Tocopheryl Succinate, Niacin, Sesamum Indicum (Sesame) Seed Powder, Water, Citrus Aurantifolia (Lime) Peel Extract, Laminaria Digitata Extract, Crithmum Maritimum Extract, Salicornia Herbacea Extract, Plankton Extract, Chlorella Vulgaris Extract, Glycine Soja (Soybean) Seed Extract, Glycerin, Caffeine, Sea Salt, Micrococcus Lysate, Diethylhexyl Succinate, Adenosine Phosphate, Creatine, Hydrolyzed Algin, Isocetyl Stearoyl Stearate, Cetyl Alcohol, Sucrose, Acetyl Hexapeptide-8, Glucose Oxidase, Polyacrylamide, Acetyl Carnitine Hcl, Glucose, Caprylic/Capric Triglyceride, C13-14 Isoparaffin, Tocopheryl Acetate, Tetrahexyldecyl Ascorbate, Sodium Pca, Glycosaminoglycans, Urea, Distearyldimonium Chloride, Dipalmitoyl Hydroxyproline, Sodium Hyaluronate, Laureth-7, Lecithin, Trehalose, Polyquaternium-51, Lactoperoxidase, Hydroxypropyl Cyclodextrin, Cyanocobalamin, Pentylene Glycol, Fragrance|Perfume|Parfum, Disodium Edta, Bht, Citronellol, Hydroxycitronellal, Geraniol, Linalool, Limonene, Potassium Sorbate, Phenoxyethanol   \n",
       "4  Water, Snail Secretion Filtrate, Phenyl Trimethicone, Dimethicone, Butylene Glycol, Butylene Glycol Dicaprylate/Dicaprate, Orbignya Oleifera Seed Oil, Butyloctyl Salicylate, Cetyl Peg/Ppg-10/1 Dimethicone, Cyclopentasiloxane, Cyclohexasiloxane, Magnesium Sulfate, Polyglyceryl-4 Isostearate, Dimethicone/Vinyl Dimethicone Crosspolymer, Aluminum Hydroxide, Hexyl Laurate, Stearic Acid, Calcium Stearate, Caprylyl Glycol, Triethoxycaprylylsilane, Ethylhexylglycerin, Citrus Medica Limonum (Lemon) Peel Oil, Tocopheryl Acetate, Sorbitan Isostearate, Phenoxyethanol, Citrus Aurantium Bergamia (Bergamot) Fruit Oil, 1,2-Hexanediol, Disodium Edta, Citrus Aurantium Dulcis (Orange) Peel Oil, Citrus Aurantifolia (Lime) Oil, Vitis Vinifera (Grape) Seed Oil, Punica Granatum Seed Oil, Pinus Sylvestris Leaf Oil, Persea Gratissima (Avocado) Oil, Niacinamide, Citrus Grandis (Grapefruit) Peel Oil, Cholesterol, Anthemis Nobilis Flower Water, Lactobacillus/Honeysuckle Flower/Licorice Root/Morus Alba Root/Pueraria Lobata Root/Schizandra Chinensis Fruit/Scutellaria Baicalensis Root/Sophora Japonica Flower Extract Ferment Filtrate, Perfluorohexane, Olea Europaea (Olive) Leaf Extract, Glycerin, Eucalyptus Globulus Leaf Oil, Camellia Sinensis Leaf Extract, Chrysanthemum Indicum Flower Extract, Pueraria Lobata Root Extract, Perfluorodecalin, Morus Alba Fruit Extract, Magnolia Kobus Bark Extract, Glycine Soja (Soybean) Sprout Extract, Diospyros Kaki Leaf Extract, Cinnamomum Cassia Bark Extract, Artemisia Princeps Leaf Extract, Pentafluoropropane, Curcuma Longa (Turmeric) Root Extract, Steareth-20, Hydrolyzed Hyaluronic Acid, Colloidal Oatmeal, Hydrolyzed Silk, Citric Acid, Sodium Benzoate, Potassium Sorbate, Aloe Barbadensis Leaf Extract, N-Hydroxysuccinimide, Hydrolyzed Collagen, Caprylhydroxamic Acid, Tocopherol, Thiamine Hcl, Riboflavin, Retinyl Palmitate, Pantothenic Acid, Palmitoyl Oligopeptide, Niacin, Folic Acid, Chrysin, Carnitine Hcl, Biotin, Ascorbic Acid, Palmitoyl Tetrapeptide-7, Chlorhexidine Digluconate   \n",
       "\n",
       "   Combination  Dry  Normal  Oily  Sensitive  \n",
       "0            1    1       1     1          1  \n",
       "1            1    1       1     1          1  \n",
       "2            1    1       1     1          0  \n",
       "3            1    1       1     1          1  \n",
       "4            1    1       1     1          1  "
      ]
     },
     "execution_count": 14,
     "metadata": {},
     "output_type": "execute_result"
    }
   ],
   "source": [
    "df_target['Ingredients'] = df_target['Ingredients'].str.rstrip('.')\n",
    "df_target['Ingredients'] = df_target['Ingredients'].str.split('. May Contain').str.get(0).str.strip()\n",
    "df_target['Ingredients'] = df_target['Ingredients'].replace(replace_str_dict, regex=True)\n",
    "df_target"
   ]
  },
  {
   "cell_type": "code",
   "execution_count": 15,
   "metadata": {
    "id": "BU1gsqN1dVVq"
   },
   "outputs": [
    {
     "name": "stdout",
     "output_type": "stream",
     "text": [
      "정답입니다! 20점 누적 되었습니다!\n",
      "현재 누적 점수: 60 / 100\n"
     ]
    }
   ],
   "source": [
    "check_02_01(df_target)"
   ]
  },
  {
   "cell_type": "markdown",
   "metadata": {
    "id": "xsud8ReKdVVr"
   },
   "source": [
    "### **문제 2-2)** Target DataFrame 중 'Ingredients' Column Data 변환하기(10점)\n",
    "- 다음 조건에 맞게 앞서 수정한 'Ingredients' Column의 데이터를 변환하여 'Ingredients List' Column에 입력하세요.\n",
    "<br></br>\n",
    "    - 조건1: 'Ingredients' Column의 각 데이터를 ', '(쉼표+띄어쓰기)로 분리하여 List로 변환하세요\n",
    "        - ex) '  Algae (Seaweed) Extract,  Sea Salt  ' -> ['  Algae (Seaweed) Extract', ' Sea Salt  ']\n",
    "<br></br>\n",
    "    - 조건2: 조건1에서 변경한 list의 각 Element 앞뒤의 공백이 있다면 공백을 삭제하세요\n",
    "        - ex) ['  Algae (Seaweed) Extract', ' Sea Salt  '] -> ['Algae (Seaweed) Extract', 'Sea Salt']\n",
    "<br></br>\n",
    "    - 조건3: 'Ingredients List' Column을 새로 생성하여 조건1과 조건2에서 만든 list를 각 행에 맞게 입력하세요\n",
    "<br></br>\n",
    "- 완료 후 결과 dataframe 변수를 check_02_02 함수에 입력하여 채점하세요."
   ]
  },
  {
   "cell_type": "code",
   "execution_count": 16,
   "metadata": {
    "id": "CksSQ7zDdVVr"
   },
   "outputs": [
    {
     "data": {
      "text/html": [
       "<div>\n",
       "<style scoped>\n",
       "    .dataframe tbody tr th:only-of-type {\n",
       "        vertical-align: middle;\n",
       "    }\n",
       "\n",
       "    .dataframe tbody tr th {\n",
       "        vertical-align: top;\n",
       "    }\n",
       "\n",
       "    .dataframe thead th {\n",
       "        text-align: right;\n",
       "    }\n",
       "</style>\n",
       "<table border=\"1\" class=\"dataframe\">\n",
       "  <thead>\n",
       "    <tr style=\"text-align: right;\">\n",
       "      <th></th>\n",
       "      <th>Label</th>\n",
       "      <th>Brand</th>\n",
       "      <th>Name</th>\n",
       "      <th>Price</th>\n",
       "      <th>Rank</th>\n",
       "      <th>Ingredients</th>\n",
       "      <th>Combination</th>\n",
       "      <th>Dry</th>\n",
       "      <th>Normal</th>\n",
       "      <th>Oily</th>\n",
       "      <th>Sensitive</th>\n",
       "      <th>Ingredients List</th>\n",
       "    </tr>\n",
       "  </thead>\n",
       "  <tbody>\n",
       "    <tr>\n",
       "      <th>0</th>\n",
       "      <td>Moisturizer</td>\n",
       "      <td>LA MER</td>\n",
       "      <td>Crème de la Mer</td>\n",
       "      <td>175</td>\n",
       "      <td>4.1</td>\n",
       "      <td>Algae Extract, Mineral Oil, Petrolatum, Glycerin, Isohexadecane, Microcrystalline Wax, Lanolin Alcohol, Citrus Aurantifolia (Lime) Fruit Extract, Sesamum Indicum (Sesame) Seed Oil, Eucalyptus Globulus Leaf Oil, Sesamum Indicum (Sesame) Seed Powder, Medicago Sativa (Alfalfa) Seed Powder, Helianthus Annuus (Sunflower) Seedcake, Prunus Amygdalus Dulcis (Sweet Almond) Seed Meal, Sodium Gluconate, Copper Gluconate, Calcium Gluconate, Magnesium Gluconate, Zinc Gluconate, Magnesium Sulfate, Paraffin, Tocopheryl Succinate, Niacin, Water, Beta-Carotene, Decyl Oleate, Aluminum Distearate, Octyldodecanol, Citric Acid, Cyanocobalamin, Magnesium Stearate, Panthenol, Limonene, Geraniol, Linalool, Hydroxycitronellal, Citronellol, Benzyl Salicylate, Citral, Sodium Benzoate, Alcohol Denat., Fragrance|Perfume|Parfum</td>\n",
       "      <td>1</td>\n",
       "      <td>1</td>\n",
       "      <td>1</td>\n",
       "      <td>1</td>\n",
       "      <td>1</td>\n",
       "      <td>[Algae Extract, Mineral Oil, Petrolatum, Glycerin, Isohexadecane, Microcrystalline Wax, Lanolin Alcohol, Citrus Aurantifolia (Lime) Fruit Extract, Sesamum Indicum (Sesame) Seed Oil, Eucalyptus Globulus Leaf Oil, Sesamum Indicum (Sesame) Seed Powder, Medicago Sativa (Alfalfa) Seed Powder, Helianthus Annuus (Sunflower) Seedcake, Prunus Amygdalus Dulcis (Sweet Almond) Seed Meal, Sodium Gluconate, Copper Gluconate, Calcium Gluconate, Magnesium Gluconate, Zinc Gluconate, Magnesium Sulfate, Paraffin, Tocopheryl Succinate, Niacin, Water, Beta-Carotene, Decyl Oleate, Aluminum Distearate, Octyldodecanol, Citric Acid, Cyanocobalamin, Magnesium Stearate, Panthenol, Limonene, Geraniol, Linalool, Hydroxycitronellal, Citronellol, Benzyl Salicylate, Citral, Sodium Benzoate, Alcohol Denat., Fragrance|Perfume|Parfum]</td>\n",
       "    </tr>\n",
       "    <tr>\n",
       "      <th>1</th>\n",
       "      <td>Moisturizer</td>\n",
       "      <td>SK-II</td>\n",
       "      <td>Facial Treatment Essence</td>\n",
       "      <td>179</td>\n",
       "      <td>4.1</td>\n",
       "      <td>Galactomyces Ferment Filtrate (Pitera), Butylene Glycol, Pentylene Glycol, Water, Sodium Benzoate, Methylparaben, Sorbic Acid</td>\n",
       "      <td>1</td>\n",
       "      <td>1</td>\n",
       "      <td>1</td>\n",
       "      <td>1</td>\n",
       "      <td>1</td>\n",
       "      <td>[Galactomyces Ferment Filtrate (Pitera), Butylene Glycol, Pentylene Glycol, Water, Sodium Benzoate, Methylparaben, Sorbic Acid]</td>\n",
       "    </tr>\n",
       "    <tr>\n",
       "      <th>2</th>\n",
       "      <td>Moisturizer</td>\n",
       "      <td>DRUNK ELEPHANT</td>\n",
       "      <td>Protini™ Polypeptide Cream</td>\n",
       "      <td>68</td>\n",
       "      <td>4.4</td>\n",
       "      <td>Water, Dicaprylyl Carbonate, Glycerin, Cetearyl Alcohol, Cetearyl Olivate, Sorbitan Olivate, Sclerocarya Birrea Seed Oil, Bacillus/Folic Acid/Soybean Ferment Extract, Nymphaea Alba Root Extract, sh-Oligopeptide-1, sh-Oligopeptide-2, sh-Polypeptide-1, sh-Polypeptide-9, sh-Polypeptide-11, Copper Palmitoyl Heptapeptide-14, Heptapeptide-15 Palmitate, Palmitoyl Tetrapeptide-7, Palmitoyl Tripeptide-1, Alanine, Arginine, Glycine, Histidine, Isoleucine, Phenylalanine, Proline, Serine, Threonine, Valine, Acetyl Glutamine, Coconut Alkanes , Coco-Caprylate/Caprate, Sodium Hyaluronate, Aspartic Acid, Linoleic Acid, Linolenic Acid, Lecithin, Butylene Glycol, Polyvinyl Alcohol, Sodium Lactate, Sodium PCA, PCA, Sorbitan Isostearate, Carbomer, Polysorbate 20, Polysorbate 60, Lactic Acid/Glycolic Acid Copolymer, Hydroxyethyl Acrylate/Sodium Acryloyldimethyl Taurate Copolymer, Xanthan Gum, Isomalt, 1,2-Hexanediol, Caprylyl Glycol, Chlorphenesin, Phenoxyethanol, Tocopherol, Sodium Benzoate, Phenylpropanol, Glyceryl Caprylate, Symphytum Officinale Callus Culture Extract</td>\n",
       "      <td>1</td>\n",
       "      <td>1</td>\n",
       "      <td>1</td>\n",
       "      <td>1</td>\n",
       "      <td>0</td>\n",
       "      <td>[Water, Dicaprylyl Carbonate, Glycerin, Cetearyl Alcohol, Cetearyl Olivate, Sorbitan Olivate, Sclerocarya Birrea Seed Oil, Bacillus/Folic Acid/Soybean Ferment Extract, Nymphaea Alba Root Extract, sh-Oligopeptide-1, sh-Oligopeptide-2, sh-Polypeptide-1, sh-Polypeptide-9, sh-Polypeptide-11, Copper Palmitoyl Heptapeptide-14, Heptapeptide-15 Palmitate, Palmitoyl Tetrapeptide-7, Palmitoyl Tripeptide-1, Alanine, Arginine, Glycine, Histidine, Isoleucine, Phenylalanine, Proline, Serine, Threonine, Valine, Acetyl Glutamine, Coconut Alkanes, Coco-Caprylate/Caprate, Sodium Hyaluronate, Aspartic Acid, Linoleic Acid, Linolenic Acid, Lecithin, Butylene Glycol, Polyvinyl Alcohol, Sodium Lactate, Sodium PCA, PCA, Sorbitan Isostearate, Carbomer, Polysorbate 20, Polysorbate 60, Lactic Acid/Glycolic Acid Copolymer, Hydroxyethyl Acrylate/Sodium Acryloyldimethyl Taurate Copolymer, Xanthan Gum, Isomalt, 1,2-Hexanediol, Caprylyl Glycol, Chlorphenesin, Phenoxyethanol, Tocopherol, Sodium Benzoate, Phenylpropanol, Glyceryl Caprylate, Symphytum Officinale Callus Culture Extract]</td>\n",
       "    </tr>\n",
       "    <tr>\n",
       "      <th>3</th>\n",
       "      <td>Moisturizer</td>\n",
       "      <td>LA MER</td>\n",
       "      <td>The Moisturizing Soft Cream</td>\n",
       "      <td>175</td>\n",
       "      <td>3.8</td>\n",
       "      <td>Algae Extract, Cyclopentasiloxane, Petrolatum, Glyceryl Distearate, Phenyl Trimethicone, Butylene Glycol, Hydrogenated Vegetable Oil, Cholesterol, Butyrospermum Parkii (Shea Butter), Steareth-10, Dimethicone, Glyceryl Stearate Se, Polysilicone-11, Sesamum Indicum (Sesame) Seed Oil, Medicago Sativa (Alfalfa) Seed Powder, Helianthus Annuus (Sunflower) Seedcake, Prunus Amygdalus Dulcis (Sweet Almond) Seed Meal, Eucalyptus Globulus Leaf Oil, Sodium Gluconate, Copper Gluconate, Calcium Gluconate, Magnesium Gluconate, Zinc Gluconate, Tocopheryl Succinate, Niacin, Sesamum Indicum (Sesame) Seed Powder, Water, Citrus Aurantifolia (Lime) Peel Extract, Laminaria Digitata Extract, Crithmum Maritimum Extract, Salicornia Herbacea Extract, Plankton Extract, Chlorella Vulgaris Extract, Glycine Soja (Soybean) Seed Extract, Glycerin, Caffeine, Sea Salt, Micrococcus Lysate, Diethylhexyl Succinate, Adenosine Phosphate, Creatine, Hydrolyzed Algin, Isocetyl Stearoyl Stearate, Cetyl Alcohol, Sucrose, Acetyl Hexapeptide-8, Glucose Oxidase, Polyacrylamide, Acetyl Carnitine Hcl, Glucose, Caprylic/Capric Triglyceride, C13-14 Isoparaffin, Tocopheryl Acetate, Tetrahexyldecyl Ascorbate, Sodium Pca, Glycosaminoglycans, Urea, Distearyldimonium Chloride, Dipalmitoyl Hydroxyproline, Sodium Hyaluronate, Laureth-7, Lecithin, Trehalose, Polyquaternium-51, Lactoperoxidase, Hydroxypropyl Cyclodextrin, Cyanocobalamin, Pentylene Glycol, Fragrance|Perfume|Parfum, Disodium Edta, Bht, Citronellol, Hydroxycitronellal, Geraniol, Linalool, Limonene, Potassium Sorbate, Phenoxyethanol</td>\n",
       "      <td>1</td>\n",
       "      <td>1</td>\n",
       "      <td>1</td>\n",
       "      <td>1</td>\n",
       "      <td>1</td>\n",
       "      <td>[Algae Extract, Cyclopentasiloxane, Petrolatum, Glyceryl Distearate, Phenyl Trimethicone, Butylene Glycol, Hydrogenated Vegetable Oil, Cholesterol, Butyrospermum Parkii (Shea Butter), Steareth-10, Dimethicone, Glyceryl Stearate Se, Polysilicone-11, Sesamum Indicum (Sesame) Seed Oil, Medicago Sativa (Alfalfa) Seed Powder, Helianthus Annuus (Sunflower) Seedcake, Prunus Amygdalus Dulcis (Sweet Almond) Seed Meal, Eucalyptus Globulus Leaf Oil, Sodium Gluconate, Copper Gluconate, Calcium Gluconate, Magnesium Gluconate, Zinc Gluconate, Tocopheryl Succinate, Niacin, Sesamum Indicum (Sesame) Seed Powder, Water, Citrus Aurantifolia (Lime) Peel Extract, Laminaria Digitata Extract, Crithmum Maritimum Extract, Salicornia Herbacea Extract, Plankton Extract, Chlorella Vulgaris Extract, Glycine Soja (Soybean) Seed Extract, Glycerin, Caffeine, Sea Salt, Micrococcus Lysate, Diethylhexyl Succinate, Adenosine Phosphate, Creatine, Hydrolyzed Algin, Isocetyl Stearoyl Stearate, Cetyl Alcohol, Sucrose, Acetyl Hexapeptide-8, Glucose Oxidase, Polyacrylamide, Acetyl Carnitine Hcl, Glucose, Caprylic/Capric Triglyceride, C13-14 Isoparaffin, Tocopheryl Acetate, Tetrahexyldecyl Ascorbate, Sodium Pca, Glycosaminoglycans, Urea, Distearyldimonium Chloride, Dipalmitoyl Hydroxyproline, Sodium Hyaluronate, Laureth-7, Lecithin, Trehalose, Polyquaternium-51, Lactoperoxidase, Hydroxypropyl Cyclodextrin, Cyanocobalamin, Pentylene Glycol, Fragrance|Perfume|Parfum, Disodium Edta, Bht, Citronellol, Hydroxycitronellal, Geraniol, Linalool, Limonene, Potassium Sorbate, Phenoxyethanol]</td>\n",
       "    </tr>\n",
       "    <tr>\n",
       "      <th>4</th>\n",
       "      <td>Moisturizer</td>\n",
       "      <td>IT COSMETICS</td>\n",
       "      <td>Your Skin But Better™ CC+™ Cream with SPF 50+</td>\n",
       "      <td>38</td>\n",
       "      <td>4.1</td>\n",
       "      <td>Water, Snail Secretion Filtrate, Phenyl Trimethicone, Dimethicone, Butylene Glycol, Butylene Glycol Dicaprylate/Dicaprate, Orbignya Oleifera Seed Oil, Butyloctyl Salicylate, Cetyl Peg/Ppg-10/1 Dimethicone, Cyclopentasiloxane, Cyclohexasiloxane, Magnesium Sulfate, Polyglyceryl-4 Isostearate, Dimethicone/Vinyl Dimethicone Crosspolymer, Aluminum Hydroxide, Hexyl Laurate, Stearic Acid, Calcium Stearate, Caprylyl Glycol, Triethoxycaprylylsilane, Ethylhexylglycerin, Citrus Medica Limonum (Lemon) Peel Oil, Tocopheryl Acetate, Sorbitan Isostearate, Phenoxyethanol, Citrus Aurantium Bergamia (Bergamot) Fruit Oil, 1,2-Hexanediol, Disodium Edta, Citrus Aurantium Dulcis (Orange) Peel Oil, Citrus Aurantifolia (Lime) Oil, Vitis Vinifera (Grape) Seed Oil, Punica Granatum Seed Oil, Pinus Sylvestris Leaf Oil, Persea Gratissima (Avocado) Oil, Niacinamide, Citrus Grandis (Grapefruit) Peel Oil, Cholesterol, Anthemis Nobilis Flower Water, Lactobacillus/Honeysuckle Flower/Licorice Root/Morus Alba Root/Pueraria Lobata Root/Schizandra Chinensis Fruit/Scutellaria Baicalensis Root/Sophora Japonica Flower Extract Ferment Filtrate, Perfluorohexane, Olea Europaea (Olive) Leaf Extract, Glycerin, Eucalyptus Globulus Leaf Oil, Camellia Sinensis Leaf Extract, Chrysanthemum Indicum Flower Extract, Pueraria Lobata Root Extract, Perfluorodecalin, Morus Alba Fruit Extract, Magnolia Kobus Bark Extract, Glycine Soja (Soybean) Sprout Extract, Diospyros Kaki Leaf Extract, Cinnamomum Cassia Bark Extract, Artemisia Princeps Leaf Extract, Pentafluoropropane, Curcuma Longa (Turmeric) Root Extract, Steareth-20, Hydrolyzed Hyaluronic Acid, Colloidal Oatmeal, Hydrolyzed Silk, Citric Acid, Sodium Benzoate, Potassium Sorbate, Aloe Barbadensis Leaf Extract, N-Hydroxysuccinimide, Hydrolyzed Collagen, Caprylhydroxamic Acid, Tocopherol, Thiamine Hcl, Riboflavin, Retinyl Palmitate, Pantothenic Acid, Palmitoyl Oligopeptide, Niacin, Folic Acid, Chrysin, Carnitine Hcl, Biotin, Ascorbic Acid, Palmitoyl Tetrapeptide-7, Chlorhexidine Digluconate</td>\n",
       "      <td>1</td>\n",
       "      <td>1</td>\n",
       "      <td>1</td>\n",
       "      <td>1</td>\n",
       "      <td>1</td>\n",
       "      <td>[Water, Snail Secretion Filtrate, Phenyl Trimethicone, Dimethicone, Butylene Glycol, Butylene Glycol Dicaprylate/Dicaprate, Orbignya Oleifera Seed Oil, Butyloctyl Salicylate, Cetyl Peg/Ppg-10/1 Dimethicone, Cyclopentasiloxane, Cyclohexasiloxane, Magnesium Sulfate, Polyglyceryl-4 Isostearate, Dimethicone/Vinyl Dimethicone Crosspolymer, Aluminum Hydroxide, Hexyl Laurate, Stearic Acid, Calcium Stearate, Caprylyl Glycol, Triethoxycaprylylsilane, Ethylhexylglycerin, Citrus Medica Limonum (Lemon) Peel Oil, Tocopheryl Acetate, Sorbitan Isostearate, Phenoxyethanol, Citrus Aurantium Bergamia (Bergamot) Fruit Oil, 1,2-Hexanediol, Disodium Edta, Citrus Aurantium Dulcis (Orange) Peel Oil, Citrus Aurantifolia (Lime) Oil, Vitis Vinifera (Grape) Seed Oil, Punica Granatum Seed Oil, Pinus Sylvestris Leaf Oil, Persea Gratissima (Avocado) Oil, Niacinamide, Citrus Grandis (Grapefruit) Peel Oil, Cholesterol, Anthemis Nobilis Flower Water, Lactobacillus/Honeysuckle Flower/Licorice Root/Morus Alba Root/Pueraria Lobata Root/Schizandra Chinensis Fruit/Scutellaria Baicalensis Root/Sophora Japonica Flower Extract Ferment Filtrate, Perfluorohexane, Olea Europaea (Olive) Leaf Extract, Glycerin, Eucalyptus Globulus Leaf Oil, Camellia Sinensis Leaf Extract, Chrysanthemum Indicum Flower Extract, Pueraria Lobata Root Extract, Perfluorodecalin, Morus Alba Fruit Extract, Magnolia Kobus Bark Extract, Glycine Soja (Soybean) Sprout Extract, Diospyros Kaki Leaf Extract, Cinnamomum Cassia Bark Extract, Artemisia Princeps Leaf Extract, Pentafluoropropane, Curcuma Longa (Turmeric) Root Extract, Steareth-20, Hydrolyzed Hyaluronic Acid, Colloidal Oatmeal, Hydrolyzed Silk, Citric Acid, Sodium Benzoate, Potassium Sorbate, Aloe Barbadensis Leaf Extract, N-Hydroxysuccinimide, Hydrolyzed Collagen, Caprylhydroxamic Acid, Tocopherol, Thiamine Hcl, Riboflavin, Retinyl Palmitate, Pantothenic Acid, Palmitoyl Oligopeptide, Niacin, Folic Acid, Chrysin, Carnitine Hcl, Biotin, Ascorbic Acid, Palmitoyl Tetrapeptide-7, Chlorhexidine Digluconate]</td>\n",
       "    </tr>\n",
       "  </tbody>\n",
       "</table>\n",
       "</div>"
      ],
      "text/plain": [
       "         Label           Brand                                           Name  \\\n",
       "0  Moisturizer          LA MER                                Crème de la Mer   \n",
       "1  Moisturizer           SK-II                       Facial Treatment Essence   \n",
       "2  Moisturizer  DRUNK ELEPHANT                     Protini™ Polypeptide Cream   \n",
       "3  Moisturizer          LA MER                    The Moisturizing Soft Cream   \n",
       "4  Moisturizer    IT COSMETICS  Your Skin But Better™ CC+™ Cream with SPF 50+   \n",
       "\n",
       "   Price  Rank  \\\n",
       "0    175   4.1   \n",
       "1    179   4.1   \n",
       "2     68   4.4   \n",
       "3    175   3.8   \n",
       "4     38   4.1   \n",
       "\n",
       "                                                                                                                                                                                                                                                                                                                                                                                                                                                                                                                                                                                                                                                                                                                                                                                                                                                                                                                                                                                                                                                                                                                                                                                                                                                                                                                                                                                                                                                                                                                                                                                                                                                                                                                                                                                                                                                                                                                                                                                                                                                                                           Ingredients  \\\n",
       "0                                                                                                                                                                                                                                                                                                                                                                                                                                                                                                                                                                                                                                                                                                                                                                                                                                                                                                                                                                                                                                                                                                                                                                                                                                                            Algae Extract, Mineral Oil, Petrolatum, Glycerin, Isohexadecane, Microcrystalline Wax, Lanolin Alcohol, Citrus Aurantifolia (Lime) Fruit Extract, Sesamum Indicum (Sesame) Seed Oil, Eucalyptus Globulus Leaf Oil, Sesamum Indicum (Sesame) Seed Powder, Medicago Sativa (Alfalfa) Seed Powder, Helianthus Annuus (Sunflower) Seedcake, Prunus Amygdalus Dulcis (Sweet Almond) Seed Meal, Sodium Gluconate, Copper Gluconate, Calcium Gluconate, Magnesium Gluconate, Zinc Gluconate, Magnesium Sulfate, Paraffin, Tocopheryl Succinate, Niacin, Water, Beta-Carotene, Decyl Oleate, Aluminum Distearate, Octyldodecanol, Citric Acid, Cyanocobalamin, Magnesium Stearate, Panthenol, Limonene, Geraniol, Linalool, Hydroxycitronellal, Citronellol, Benzyl Salicylate, Citral, Sodium Benzoate, Alcohol Denat., Fragrance|Perfume|Parfum   \n",
       "1                                                                                                                                                                                                                                                                                                                                                                                                                                                                                                                                                                                                                                                                                                                                                                                                                                                                                                                                                                                                                                                                                                                                                                                                                                                                                                                                                                                                                                                                                                                                                                                                                                                                                                                                                                                                                                                                                                                                                                        Galactomyces Ferment Filtrate (Pitera), Butylene Glycol, Pentylene Glycol, Water, Sodium Benzoate, Methylparaben, Sorbic Acid   \n",
       "2                                                                                                                                                                                                                                                                                                                                                                                                                                                                                                                                                                                                                                                                                                                                                                                                                                                                                                                                                                                           Water, Dicaprylyl Carbonate, Glycerin, Cetearyl Alcohol, Cetearyl Olivate, Sorbitan Olivate, Sclerocarya Birrea Seed Oil, Bacillus/Folic Acid/Soybean Ferment Extract, Nymphaea Alba Root Extract, sh-Oligopeptide-1, sh-Oligopeptide-2, sh-Polypeptide-1, sh-Polypeptide-9, sh-Polypeptide-11, Copper Palmitoyl Heptapeptide-14, Heptapeptide-15 Palmitate, Palmitoyl Tetrapeptide-7, Palmitoyl Tripeptide-1, Alanine, Arginine, Glycine, Histidine, Isoleucine, Phenylalanine, Proline, Serine, Threonine, Valine, Acetyl Glutamine, Coconut Alkanes , Coco-Caprylate/Caprate, Sodium Hyaluronate, Aspartic Acid, Linoleic Acid, Linolenic Acid, Lecithin, Butylene Glycol, Polyvinyl Alcohol, Sodium Lactate, Sodium PCA, PCA, Sorbitan Isostearate, Carbomer, Polysorbate 20, Polysorbate 60, Lactic Acid/Glycolic Acid Copolymer, Hydroxyethyl Acrylate/Sodium Acryloyldimethyl Taurate Copolymer, Xanthan Gum, Isomalt, 1,2-Hexanediol, Caprylyl Glycol, Chlorphenesin, Phenoxyethanol, Tocopherol, Sodium Benzoate, Phenylpropanol, Glyceryl Caprylate, Symphytum Officinale Callus Culture Extract   \n",
       "3                                                                                                                                                                                                                                                                                                                                                                                                                                                                           Algae Extract, Cyclopentasiloxane, Petrolatum, Glyceryl Distearate, Phenyl Trimethicone, Butylene Glycol, Hydrogenated Vegetable Oil, Cholesterol, Butyrospermum Parkii (Shea Butter), Steareth-10, Dimethicone, Glyceryl Stearate Se, Polysilicone-11, Sesamum Indicum (Sesame) Seed Oil, Medicago Sativa (Alfalfa) Seed Powder, Helianthus Annuus (Sunflower) Seedcake, Prunus Amygdalus Dulcis (Sweet Almond) Seed Meal, Eucalyptus Globulus Leaf Oil, Sodium Gluconate, Copper Gluconate, Calcium Gluconate, Magnesium Gluconate, Zinc Gluconate, Tocopheryl Succinate, Niacin, Sesamum Indicum (Sesame) Seed Powder, Water, Citrus Aurantifolia (Lime) Peel Extract, Laminaria Digitata Extract, Crithmum Maritimum Extract, Salicornia Herbacea Extract, Plankton Extract, Chlorella Vulgaris Extract, Glycine Soja (Soybean) Seed Extract, Glycerin, Caffeine, Sea Salt, Micrococcus Lysate, Diethylhexyl Succinate, Adenosine Phosphate, Creatine, Hydrolyzed Algin, Isocetyl Stearoyl Stearate, Cetyl Alcohol, Sucrose, Acetyl Hexapeptide-8, Glucose Oxidase, Polyacrylamide, Acetyl Carnitine Hcl, Glucose, Caprylic/Capric Triglyceride, C13-14 Isoparaffin, Tocopheryl Acetate, Tetrahexyldecyl Ascorbate, Sodium Pca, Glycosaminoglycans, Urea, Distearyldimonium Chloride, Dipalmitoyl Hydroxyproline, Sodium Hyaluronate, Laureth-7, Lecithin, Trehalose, Polyquaternium-51, Lactoperoxidase, Hydroxypropyl Cyclodextrin, Cyanocobalamin, Pentylene Glycol, Fragrance|Perfume|Parfum, Disodium Edta, Bht, Citronellol, Hydroxycitronellal, Geraniol, Linalool, Limonene, Potassium Sorbate, Phenoxyethanol   \n",
       "4  Water, Snail Secretion Filtrate, Phenyl Trimethicone, Dimethicone, Butylene Glycol, Butylene Glycol Dicaprylate/Dicaprate, Orbignya Oleifera Seed Oil, Butyloctyl Salicylate, Cetyl Peg/Ppg-10/1 Dimethicone, Cyclopentasiloxane, Cyclohexasiloxane, Magnesium Sulfate, Polyglyceryl-4 Isostearate, Dimethicone/Vinyl Dimethicone Crosspolymer, Aluminum Hydroxide, Hexyl Laurate, Stearic Acid, Calcium Stearate, Caprylyl Glycol, Triethoxycaprylylsilane, Ethylhexylglycerin, Citrus Medica Limonum (Lemon) Peel Oil, Tocopheryl Acetate, Sorbitan Isostearate, Phenoxyethanol, Citrus Aurantium Bergamia (Bergamot) Fruit Oil, 1,2-Hexanediol, Disodium Edta, Citrus Aurantium Dulcis (Orange) Peel Oil, Citrus Aurantifolia (Lime) Oil, Vitis Vinifera (Grape) Seed Oil, Punica Granatum Seed Oil, Pinus Sylvestris Leaf Oil, Persea Gratissima (Avocado) Oil, Niacinamide, Citrus Grandis (Grapefruit) Peel Oil, Cholesterol, Anthemis Nobilis Flower Water, Lactobacillus/Honeysuckle Flower/Licorice Root/Morus Alba Root/Pueraria Lobata Root/Schizandra Chinensis Fruit/Scutellaria Baicalensis Root/Sophora Japonica Flower Extract Ferment Filtrate, Perfluorohexane, Olea Europaea (Olive) Leaf Extract, Glycerin, Eucalyptus Globulus Leaf Oil, Camellia Sinensis Leaf Extract, Chrysanthemum Indicum Flower Extract, Pueraria Lobata Root Extract, Perfluorodecalin, Morus Alba Fruit Extract, Magnolia Kobus Bark Extract, Glycine Soja (Soybean) Sprout Extract, Diospyros Kaki Leaf Extract, Cinnamomum Cassia Bark Extract, Artemisia Princeps Leaf Extract, Pentafluoropropane, Curcuma Longa (Turmeric) Root Extract, Steareth-20, Hydrolyzed Hyaluronic Acid, Colloidal Oatmeal, Hydrolyzed Silk, Citric Acid, Sodium Benzoate, Potassium Sorbate, Aloe Barbadensis Leaf Extract, N-Hydroxysuccinimide, Hydrolyzed Collagen, Caprylhydroxamic Acid, Tocopherol, Thiamine Hcl, Riboflavin, Retinyl Palmitate, Pantothenic Acid, Palmitoyl Oligopeptide, Niacin, Folic Acid, Chrysin, Carnitine Hcl, Biotin, Ascorbic Acid, Palmitoyl Tetrapeptide-7, Chlorhexidine Digluconate   \n",
       "\n",
       "   Combination  Dry  Normal  Oily  Sensitive  \\\n",
       "0            1    1       1     1          1   \n",
       "1            1    1       1     1          1   \n",
       "2            1    1       1     1          0   \n",
       "3            1    1       1     1          1   \n",
       "4            1    1       1     1          1   \n",
       "\n",
       "                                                                                                                                                                                                                                                                                                                                                                                                                                                                                                                                                                                                                                                                                                                                                                                                                                                                                                                                                                                                                                                                                                                                                                                                                                                                                                                                                                                                                                                                                                                                                                                                                                                                                                                                                                                                                                                                                                                                                                                                                                                                                        Ingredients List  \n",
       "0                                                                                                                                                                                                                                                                                                                                                                                                                                                                                                                                                                                                                                                                                                                                                                                                                                                                                                                                                                                                                                                                                                                                                                                                                                                            [Algae Extract, Mineral Oil, Petrolatum, Glycerin, Isohexadecane, Microcrystalline Wax, Lanolin Alcohol, Citrus Aurantifolia (Lime) Fruit Extract, Sesamum Indicum (Sesame) Seed Oil, Eucalyptus Globulus Leaf Oil, Sesamum Indicum (Sesame) Seed Powder, Medicago Sativa (Alfalfa) Seed Powder, Helianthus Annuus (Sunflower) Seedcake, Prunus Amygdalus Dulcis (Sweet Almond) Seed Meal, Sodium Gluconate, Copper Gluconate, Calcium Gluconate, Magnesium Gluconate, Zinc Gluconate, Magnesium Sulfate, Paraffin, Tocopheryl Succinate, Niacin, Water, Beta-Carotene, Decyl Oleate, Aluminum Distearate, Octyldodecanol, Citric Acid, Cyanocobalamin, Magnesium Stearate, Panthenol, Limonene, Geraniol, Linalool, Hydroxycitronellal, Citronellol, Benzyl Salicylate, Citral, Sodium Benzoate, Alcohol Denat., Fragrance|Perfume|Parfum]  \n",
       "1                                                                                                                                                                                                                                                                                                                                                                                                                                                                                                                                                                                                                                                                                                                                                                                                                                                                                                                                                                                                                                                                                                                                                                                                                                                                                                                                                                                                                                                                                                                                                                                                                                                                                                                                                                                                                                                                                                                                                                        [Galactomyces Ferment Filtrate (Pitera), Butylene Glycol, Pentylene Glycol, Water, Sodium Benzoate, Methylparaben, Sorbic Acid]  \n",
       "2                                                                                                                                                                                                                                                                                                                                                                                                                                                                                                                                                                                                                                                                                                                                                                                                                                                                                                                                                                                            [Water, Dicaprylyl Carbonate, Glycerin, Cetearyl Alcohol, Cetearyl Olivate, Sorbitan Olivate, Sclerocarya Birrea Seed Oil, Bacillus/Folic Acid/Soybean Ferment Extract, Nymphaea Alba Root Extract, sh-Oligopeptide-1, sh-Oligopeptide-2, sh-Polypeptide-1, sh-Polypeptide-9, sh-Polypeptide-11, Copper Palmitoyl Heptapeptide-14, Heptapeptide-15 Palmitate, Palmitoyl Tetrapeptide-7, Palmitoyl Tripeptide-1, Alanine, Arginine, Glycine, Histidine, Isoleucine, Phenylalanine, Proline, Serine, Threonine, Valine, Acetyl Glutamine, Coconut Alkanes, Coco-Caprylate/Caprate, Sodium Hyaluronate, Aspartic Acid, Linoleic Acid, Linolenic Acid, Lecithin, Butylene Glycol, Polyvinyl Alcohol, Sodium Lactate, Sodium PCA, PCA, Sorbitan Isostearate, Carbomer, Polysorbate 20, Polysorbate 60, Lactic Acid/Glycolic Acid Copolymer, Hydroxyethyl Acrylate/Sodium Acryloyldimethyl Taurate Copolymer, Xanthan Gum, Isomalt, 1,2-Hexanediol, Caprylyl Glycol, Chlorphenesin, Phenoxyethanol, Tocopherol, Sodium Benzoate, Phenylpropanol, Glyceryl Caprylate, Symphytum Officinale Callus Culture Extract]  \n",
       "3                                                                                                                                                                                                                                                                                                                                                                                                                                                                           [Algae Extract, Cyclopentasiloxane, Petrolatum, Glyceryl Distearate, Phenyl Trimethicone, Butylene Glycol, Hydrogenated Vegetable Oil, Cholesterol, Butyrospermum Parkii (Shea Butter), Steareth-10, Dimethicone, Glyceryl Stearate Se, Polysilicone-11, Sesamum Indicum (Sesame) Seed Oil, Medicago Sativa (Alfalfa) Seed Powder, Helianthus Annuus (Sunflower) Seedcake, Prunus Amygdalus Dulcis (Sweet Almond) Seed Meal, Eucalyptus Globulus Leaf Oil, Sodium Gluconate, Copper Gluconate, Calcium Gluconate, Magnesium Gluconate, Zinc Gluconate, Tocopheryl Succinate, Niacin, Sesamum Indicum (Sesame) Seed Powder, Water, Citrus Aurantifolia (Lime) Peel Extract, Laminaria Digitata Extract, Crithmum Maritimum Extract, Salicornia Herbacea Extract, Plankton Extract, Chlorella Vulgaris Extract, Glycine Soja (Soybean) Seed Extract, Glycerin, Caffeine, Sea Salt, Micrococcus Lysate, Diethylhexyl Succinate, Adenosine Phosphate, Creatine, Hydrolyzed Algin, Isocetyl Stearoyl Stearate, Cetyl Alcohol, Sucrose, Acetyl Hexapeptide-8, Glucose Oxidase, Polyacrylamide, Acetyl Carnitine Hcl, Glucose, Caprylic/Capric Triglyceride, C13-14 Isoparaffin, Tocopheryl Acetate, Tetrahexyldecyl Ascorbate, Sodium Pca, Glycosaminoglycans, Urea, Distearyldimonium Chloride, Dipalmitoyl Hydroxyproline, Sodium Hyaluronate, Laureth-7, Lecithin, Trehalose, Polyquaternium-51, Lactoperoxidase, Hydroxypropyl Cyclodextrin, Cyanocobalamin, Pentylene Glycol, Fragrance|Perfume|Parfum, Disodium Edta, Bht, Citronellol, Hydroxycitronellal, Geraniol, Linalool, Limonene, Potassium Sorbate, Phenoxyethanol]  \n",
       "4  [Water, Snail Secretion Filtrate, Phenyl Trimethicone, Dimethicone, Butylene Glycol, Butylene Glycol Dicaprylate/Dicaprate, Orbignya Oleifera Seed Oil, Butyloctyl Salicylate, Cetyl Peg/Ppg-10/1 Dimethicone, Cyclopentasiloxane, Cyclohexasiloxane, Magnesium Sulfate, Polyglyceryl-4 Isostearate, Dimethicone/Vinyl Dimethicone Crosspolymer, Aluminum Hydroxide, Hexyl Laurate, Stearic Acid, Calcium Stearate, Caprylyl Glycol, Triethoxycaprylylsilane, Ethylhexylglycerin, Citrus Medica Limonum (Lemon) Peel Oil, Tocopheryl Acetate, Sorbitan Isostearate, Phenoxyethanol, Citrus Aurantium Bergamia (Bergamot) Fruit Oil, 1,2-Hexanediol, Disodium Edta, Citrus Aurantium Dulcis (Orange) Peel Oil, Citrus Aurantifolia (Lime) Oil, Vitis Vinifera (Grape) Seed Oil, Punica Granatum Seed Oil, Pinus Sylvestris Leaf Oil, Persea Gratissima (Avocado) Oil, Niacinamide, Citrus Grandis (Grapefruit) Peel Oil, Cholesterol, Anthemis Nobilis Flower Water, Lactobacillus/Honeysuckle Flower/Licorice Root/Morus Alba Root/Pueraria Lobata Root/Schizandra Chinensis Fruit/Scutellaria Baicalensis Root/Sophora Japonica Flower Extract Ferment Filtrate, Perfluorohexane, Olea Europaea (Olive) Leaf Extract, Glycerin, Eucalyptus Globulus Leaf Oil, Camellia Sinensis Leaf Extract, Chrysanthemum Indicum Flower Extract, Pueraria Lobata Root Extract, Perfluorodecalin, Morus Alba Fruit Extract, Magnolia Kobus Bark Extract, Glycine Soja (Soybean) Sprout Extract, Diospyros Kaki Leaf Extract, Cinnamomum Cassia Bark Extract, Artemisia Princeps Leaf Extract, Pentafluoropropane, Curcuma Longa (Turmeric) Root Extract, Steareth-20, Hydrolyzed Hyaluronic Acid, Colloidal Oatmeal, Hydrolyzed Silk, Citric Acid, Sodium Benzoate, Potassium Sorbate, Aloe Barbadensis Leaf Extract, N-Hydroxysuccinimide, Hydrolyzed Collagen, Caprylhydroxamic Acid, Tocopherol, Thiamine Hcl, Riboflavin, Retinyl Palmitate, Pantothenic Acid, Palmitoyl Oligopeptide, Niacin, Folic Acid, Chrysin, Carnitine Hcl, Biotin, Ascorbic Acid, Palmitoyl Tetrapeptide-7, Chlorhexidine Digluconate]  "
      ]
     },
     "execution_count": 16,
     "metadata": {},
     "output_type": "execute_result"
    }
   ],
   "source": [
    "df_target['Ingredients List'] = df_target['Ingredients'].str.split(', ')\n",
    "df_target['Ingredients List'] = df_target['Ingredients List'].apply(lambda x: [i.strip() for i in x])\n",
    "df_target"
   ]
  },
  {
   "cell_type": "code",
   "execution_count": 17,
   "metadata": {
    "id": "Ssh1vfx1dVVr"
   },
   "outputs": [
    {
     "name": "stdout",
     "output_type": "stream",
     "text": [
      "정답입니다! 10점 누적 되었습니다!\n",
      "현재 누적 점수: 70 / 100\n"
     ]
    }
   ],
   "source": [
    "check_02_02(df_target)"
   ]
  },
  {
   "cell_type": "markdown",
   "metadata": {
    "id": "GWftAMbwdVVs"
   },
   "source": [
    "## 3단계: 성분사전(Ingredients Dictionary)을 이용하여 Mapping하기\n",
    "***"
   ]
  },
  {
   "cell_type": "markdown",
   "metadata": {
    "id": "5U9RB--0dVVs"
   },
   "source": [
    "### **문제 3-1)** Target DataFrame 의 'Ingredients List' Column를 Mapping하여 'Code List' Column 만들기(15점)\n",
    "- (아래 예시를 참고)성분사전(Ingredients Dictionary)를 이용하여 Target DataFrame의 'Ingredients List'를 각 성분에 Mapping되는 'Code List'로 만들고, 'Code List' Column을 만들어 Code List를 각 행에 맞게 입력하세요.\n",
    "<br></br>\n",
    "    <img src=\"./[문제보기용 이미지]images/02-3-1-001.png\" style=\"margin:auto\" width=300/>\n",
    "    <img src=\"./[문제보기용 이미지]images/02-3-1-002.png\" style=\"margin:auto\" width=450/>\n",
    "<br></br>\n",
    "    - 조건1: Ingredients List에 대응하는 Code List의 순서는 같아야 합니다.\n",
    "<br></br>\n",
    "<br></br>\n",
    "    - hint1: '표준 영문명'에서 찾지 못한다면 '구영문명'으로도 찾아보세요\n",
    "<br></br>\n",
    "    - hint2: 대문자-소문자 차이가 있을 수 있습니다.\n",
    "<br></br>\n",
    "    - 참고: 'Code'는 성분사전(Ingredients Dictionary)의 '성분코드'를 의미합니다.(Index가 아닙니다)\n",
    "<br></br>\n",
    "- 완료 후 결과 dataframe 변수를 check_03_01 함수에 입력하여 채점하세요."
   ]
  },
  {
   "cell_type": "code",
   "execution_count": 18,
   "metadata": {
    "id": "Z4J5qWbjdVVt"
   },
   "outputs": [
    {
     "data": {
      "text/plain": [
       "0                                                                                                                                                                                                                            [979, 317, 3602, 1013, 2547, 86, 5299, 5416, 2793, 2410, 5759, 2627, 4839, 1395, 1036, 2904, 2945, 37, 2766, 46, 3477, 5806, 1931, 2700, 477, 3622, 1850, 2247, 1532, 761, 47, 3528, 20, 2704, 9, 4639, 1530, 523, 1523, 1116, 532, 4852]\n",
       "1                                                                                                                                                                                                                                                                                                                                                                                                                                 [, 586, 3635, 2700, 1116, 213, 1299]\n",
       "2                                                                                                                    [2700, 5218, 1013, 974, 976, 1290, 677, 7177, 1338, 7534, 7691, 7696, 7694, 8376, 9701, 9700, 3548, 3549, 1826, 1883, 483, 5061, 2448, 3585, 4019, 917, 3313, 416, 1692, 6979, 3069, 1265, 1736, 18, 11, 5485, 586, 3851, 1083, 1258, 4073, 1292, 2884, 3855, 3858, 6900, 4655, 2639, 2449, 4877, 2924, 3205, 3579, 3288, 1116, 6226, 1366, 9440]\n",
       "3                        [979, 769, 3602, 1057, 3586, 586, 4566, 3087, , 1443, 4512, , 3867, 2793, 2627, 4839, 1395, 2410, 1036, 2904, 2945, 37, 2766, 5806, 1931, 5759, 2700, 5794, 4927, 5528, 3307, 4037, 18399, 18625, 1013, 2912, 1597, 84, 5178, 1618, 3168, 4774, 2470, 996, 1367, 1718, 861, 3884, , 839, 2922, 2522, 3293, 3277, , 526, 2337, 5143, 5236, 1265, 5335, 5485, 3315, 3938, 5450, 4683, 761, 3635, 4852, , , 1530, 4639, 2704, 9, 20, 3679, 3579]\n",
       "4    [2700, 6319, 3586, 4512, 586, 587, 387, 606, , 769, 770, 46, 3794, 4545, 1872, 4890, 1465, 2956, 2924, 3389, 2075, 5468, 3293, 1292, 3579, 459, 4877, , 2145, 5413, 3651, 885, 185, 1675, 1941, 2317, 3087, 18421, 7264, 3572, 2308, 1013, 2410, 2756, 1201, 328, 3569, 2140, 278, 3125, 1528, 2416, 1981, 7565, 3151, 1448, 5655, 3115, 4763, 1532, 1116, 3679, 1839, 4631, 4796, 6629, 3288, , 22, 5493, 3535, 6477, 1931, 3965, 3173, , 407, 1720, 3548, 3206]\n",
       "Name: Code List, dtype: object"
      ]
     },
     "execution_count": 18,
     "metadata": {},
     "output_type": "execute_result"
    }
   ],
   "source": [
    "code_lists = []\n",
    "\n",
    "for ingredientslist in df_target['Ingredients List']:\n",
    "    code_list = []\n",
    "    for ingredient in ingredientslist:\n",
    "        # 성분사전에서 성분코드(Code)를 찾음\n",
    "        code = ingredients_list.loc[(ingredients_list['표준 영문명'] == ingredient) | (ingredients_list['구영문명'] == ingredient), '성분코드'].values\n",
    "        if len(code) == 0:\n",
    "            code_list.append('')\n",
    "        else:\n",
    "            code_list.append(code[0])\n",
    "    code_lists.append(code_list)\n",
    "    \n",
    "df_target['Code List'] = code_lists\n",
    "df_target['Code List']"
   ]
  },
  {
   "cell_type": "code",
   "execution_count": 19,
   "metadata": {
    "id": "fkIZ8YRSdVVt"
   },
   "outputs": [
    {
     "name": "stdout",
     "output_type": "stream",
     "text": [
      "정답입니다! 15점 누적 되었습니다!\n",
      "현재 누적 점수: 85 / 100\n"
     ]
    }
   ],
   "source": [
    "check_03_01(df_target)"
   ]
  },
  {
   "cell_type": "markdown",
   "metadata": {
    "id": "CqMEmFIvdVVt"
   },
   "source": [
    "### **문제 3-2)** 다음 조건을 만족하는 code들을 찾아 그 code들에 해당하는 DataFrame을 구하세요(15점)\n",
    "- (아래 예시를 참고) Target DataFrame의 Code List를 **각 행 내에서 중복 없이** 모두 합쳐 두 번 나온 수를 오름차순으로 정렬하고, 첫번째부터 다섯번째까지의 수들을 찾아 성분사전(Ingredients Dictionary)를 이용하여 해당 Code들의 DataFrame을 구하세요.\n",
    "<br></br>\n",
    "    - 예시 DataFrame\n",
    "<br></br>\n",
    "    <img src=\"./[문제보기용 이미지]images/02-3-2-001.png\" style=\"margin:auto\" width=300/>\n",
    "<br></br>\n",
    "    - 이 DataFrame에서 나타난 Code 중 **각 행 내에서 중복 없이** 두 번 나온 Code는 [3, 9, 23, 34, 57, 234] 이고, 이 중 오름차순으로 첫번째부터 다섯번째까지의 수는 [3, 9, 23, 34, 57] 입니다.\n",
    "        - 참고\n",
    "            - '3'의 경우 2번 행과 3번 행에서 나왔습니다.\n",
    "            - 0번 행의 '12'의 경우 중복하여 나왔으므로, 한 번 나온 것으로 count 합니다.\n",
    "<br></br>\n",
    "    - 성분사전(Ingredients Dictionary)에서 해당 code들의 DataFrame은 아래와 같습니다.\n",
    "<br></br>\n",
    "    <img src=\"./[문제보기용 이미지]images/02-3-2-002.png\" style=\"margin:auto\" width=600/>\n",
    "<br></br>\n",
    "    - 조건1: 중복 code는 없어야 합니다.\n",
    "<br></br>\n",
    "    - 조건2: '두' 번 나온 수, 오름차순, 첫번째부터 다섯번째까지 다시 한번 확인하세요.\n",
    "<br></br>\n",
    "<br></br>\n",
    "    - hint1: sorted(list, key=lambda x: func(x))\n",
    "<br></br>\n",
    "    - hint2: set()\n",
    "<br></br>\n",
    "    - hint3: list.count()\n",
    "<br></br>\n",
    "<br></br>\n",
    "    - 참고: 'Code'는 성분사전(Ingredients Dictionary)의 '성분코드'를 의미합니다.(Index가 아닙니다)\n",
    "<br></br>\n",
    "- 완료 후 결과 dataframe 변수를 check_03_02 함수에 입력하여 채점하세요."
   ]
  },
  {
   "cell_type": "code",
   "execution_count": 20,
   "metadata": {
    "id": "3P039J3tdVVu",
    "scrolled": true
   },
   "outputs": [
    {
     "data": {
      "text/html": [
       "<div>\n",
       "<style scoped>\n",
       "    .dataframe tbody tr th:only-of-type {\n",
       "        vertical-align: middle;\n",
       "    }\n",
       "\n",
       "    .dataframe tbody tr th {\n",
       "        vertical-align: top;\n",
       "    }\n",
       "\n",
       "    .dataframe thead th {\n",
       "        text-align: right;\n",
       "    }\n",
       "</style>\n",
       "<table border=\"1\" class=\"dataframe\">\n",
       "  <thead>\n",
       "    <tr style=\"text-align: right;\">\n",
       "      <th></th>\n",
       "      <th>성분코드</th>\n",
       "      <th>표준 성분명</th>\n",
       "      <th>표준 영문명</th>\n",
       "      <th>구명칭</th>\n",
       "      <th>구영문명</th>\n",
       "    </tr>\n",
       "  </thead>\n",
       "  <tbody>\n",
       "    <tr>\n",
       "      <th>8</th>\n",
       "      <td>9</td>\n",
       "      <td>리날룰</td>\n",
       "      <td>Linalool</td>\n",
       "      <td>NaN</td>\n",
       "      <td>NaN</td>\n",
       "    </tr>\n",
       "    <tr>\n",
       "      <th>19</th>\n",
       "      <td>20</td>\n",
       "      <td>리모넨</td>\n",
       "      <td>Limonene</td>\n",
       "      <td>NaN</td>\n",
       "      <td>NaN</td>\n",
       "    </tr>\n",
       "    <tr>\n",
       "      <th>36</th>\n",
       "      <td>37</td>\n",
       "      <td>마그네슘글루코네이트</td>\n",
       "      <td>Magnesium Gluconate</td>\n",
       "      <td>NaN</td>\n",
       "      <td>NaN</td>\n",
       "    </tr>\n",
       "    <tr>\n",
       "      <th>45</th>\n",
       "      <td>46</td>\n",
       "      <td>마그네슘설페이트</td>\n",
       "      <td>Magnesium Sulfate</td>\n",
       "      <td>NaN</td>\n",
       "      <td>NaN</td>\n",
       "    </tr>\n",
       "    <tr>\n",
       "      <th>760</th>\n",
       "      <td>761</td>\n",
       "      <td>사이아노코발아민</td>\n",
       "      <td>Cyanocobalamin</td>\n",
       "      <td>사이아노코발라민</td>\n",
       "      <td>Cyanocobalamin</td>\n",
       "    </tr>\n",
       "  </tbody>\n",
       "</table>\n",
       "</div>"
      ],
      "text/plain": [
       "     성분코드      표준 성분명               표준 영문명       구명칭            구영문명\n",
       "8       9         리날룰             Linalool       NaN             NaN\n",
       "19     20         리모넨             Limonene       NaN             NaN\n",
       "36     37  마그네슘글루코네이트  Magnesium Gluconate       NaN             NaN\n",
       "45     46    마그네슘설페이트    Magnesium Sulfate       NaN             NaN\n",
       "760   761    사이아노코발아민       Cyanocobalamin  사이아노코발라민  Cyanocobalamin"
      ]
     },
     "execution_count": 20,
     "metadata": {},
     "output_type": "execute_result"
    }
   ],
   "source": [
    "code_list = set()\n",
    "for codes in df_target['Code List']:\n",
    "    code_list.update(codes)\n",
    "\n",
    "duplicate_codes = set()\n",
    "for code in code_list:\n",
    "    if df_target['Code List'].apply(lambda x: x.count(code)).sum() == 2:\n",
    "        duplicate_codes.add(code)\n",
    "\n",
    "duplicate_codes = sorted(duplicate_codes)[:5]\n",
    "deplicate_codes = [x - 1 for x in duplicate_codes]\n",
    "result = ingredients_list.iloc[deplicate_codes]\n",
    "result"
   ]
  },
  {
   "cell_type": "code",
   "execution_count": 21,
   "metadata": {
    "id": "WbMA4-G9dVVu"
   },
   "outputs": [
    {
     "name": "stdout",
     "output_type": "stream",
     "text": [
      "정답입니다! 15점 누적 되었습니다!\n",
      "현재 누적 점수: 100 / 100\n"
     ]
    }
   ],
   "source": [
    "check_03_02(result)"
   ]
  }
 ],
 "metadata": {
  "colab": {
   "provenance": []
  },
  "interpreter": {
   "hash": "46e27ede752268be201d36b7fbc2802b29a11b0bb095abacecc6c0428b93624a"
  },
  "kernelspec": {
   "display_name": "Python 3 (ipykernel)",
   "language": "python",
   "name": "python3"
  },
  "language_info": {
   "codemirror_mode": {
    "name": "ipython",
    "version": 3
   },
   "file_extension": ".py",
   "mimetype": "text/x-python",
   "name": "python",
   "nbconvert_exporter": "python",
   "pygments_lexer": "ipython3",
   "version": "3.10.9"
  }
 },
 "nbformat": 4,
 "nbformat_minor": 1
}
