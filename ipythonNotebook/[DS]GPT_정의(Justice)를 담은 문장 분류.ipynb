{
 "cells": [
  {
   "cell_type": "code",
   "execution_count": null,
   "id": "ef78f8fa",
   "metadata": {},
   "outputs": [
    {
     "name": "stderr",
     "output_type": "stream",
     "text": [
      "Found cached dataset csv (C:/Users/User/.cache/huggingface/datasets/csv/default-6304ef94639b87b5/0.0.0/eea64c71ca8b46dd3f537ed218fc9bf495d5707789152eb2764f5c78fa66d59d)\n"
     ]
    },
    {
     "data": {
      "application/vnd.jupyter.widget-view+json": {
       "model_id": "f915f8e9a9444738beebdcda3073f5b2",
       "version_major": 2,
       "version_minor": 0
      },
      "text/plain": [
       "  0%|          | 0/1 [00:00<?, ?it/s]"
      ]
     },
     "metadata": {},
     "output_type": "display_data"
    },
    {
     "name": "stderr",
     "output_type": "stream",
     "text": [
      "C:\\Users\\User\\anaconda3\\lib\\site-packages\\transformers\\optimization.py:306: FutureWarning: This implementation of AdamW is deprecated and will be removed in a future version. Use the PyTorch implementation torch.optim.AdamW instead, or set `no_deprecation_warning=True` to disable this warning\n",
      "  warnings.warn(\n",
      "***** Running training *****\n",
      "  Num examples = 17432\n",
      "  Num Epochs = 1\n",
      "  Instantaneous batch size per device = 512\n",
      "  Total train batch size (w. parallel, distributed & accumulation) = 512\n",
      "  Gradient Accumulation steps = 1\n",
      "  Total optimization steps = 35\n",
      "  Number of trainable parameters = 109483778\n"
     ]
    },
    {
     "data": {
      "text/html": [
       "\n",
       "    <div>\n",
       "      \n",
       "      <progress value='2' max='35' style='width:300px; height:20px; vertical-align: middle;'></progress>\n",
       "      [ 2/35 : < :, Epoch 0.03/1]\n",
       "    </div>\n",
       "    <table border=\"1\" class=\"dataframe\">\n",
       "  <thead>\n",
       " <tr style=\"text-align: left;\">\n",
       "      <th>Epoch</th>\n",
       "      <th>Training Loss</th>\n",
       "      <th>Validation Loss</th>\n",
       "    </tr>\n",
       "  </thead>\n",
       "  <tbody>\n",
       "  </tbody>\n",
       "</table><p>"
      ],
      "text/plain": [
       "<IPython.core.display.HTML object>"
      ]
     },
     "metadata": {},
     "output_type": "display_data"
    }
   ],
   "source": [
    "import torch\n",
    "from transformers import AutoTokenizer, AutoModelForSequenceClassification, TrainingArguments, Trainer\n",
    "from datasets import load_dataset, Dataset\n",
    "from sklearn.model_selection import train_test_split\n",
    "\n",
    "# Step 1: 데이터 전처리 - AutoTokenizer 사용\n",
    "tokenizer = AutoTokenizer.from_pretrained(\"bert-base-uncased\")\n",
    "\n",
    "# 데이터셋 로드\n",
    "dataset = load_dataset(\"csv\", data_files=\"./datas/justice/justice_train.csv\")\n",
    "\n",
    "# 텍스트와 레이블 추출\n",
    "texts = dataset['train']['scenario']\n",
    "labels = dataset['train'][\"label\"]\n",
    "\n",
    "# Step 2: 레이블링 - 정의로우면 0, 아니면 1로 레이블링\n",
    "labels = torch.tensor(labels)\n",
    "labels = 1 - labels  # 0과 1을 반대로 매핑\n",
    "\n",
    "# Step 3: 데이터셋 분할 - 트레인 데이터셋과 테스트 데이터셋\n",
    "train_texts, test_texts, train_labels, test_labels = train_test_split(texts, labels, test_size=0.2, random_state=42)\n",
    "\n",
    "# 토큰화 및 인코딩\n",
    "train_encoded_inputs = tokenizer(train_texts, padding=True, truncation=True, return_tensors=\"pt\")\n",
    "test_encoded_inputs = tokenizer(test_texts, padding=True, truncation=True, return_tensors=\"pt\")\n",
    "\n",
    "# Step 4: 모델 학습 - Hugging Face Hub에서 모델 가져오기\n",
    "model = AutoModelForSequenceClassification.from_pretrained(\"textattack/bert-base-uncased-rotten_tomatoes\")\n",
    "\n",
    "# TrainingArguments 설정\n",
    "training_args = TrainingArguments(\n",
    "    output_dir='./results',\n",
    "    evaluation_strategy='epoch',\n",
    "    learning_rate=2e-1,\n",
    "    per_device_train_batch_size=512,  # 배치 크기를 32로 조정\n",
    "    per_device_eval_batch_size=512,  # 배치 크기를 32로 조정\n",
    "    num_train_epochs=1,  # 학습 에폭 수를 1로 줄임\n",
    "    weight_decay=0.1,\n",
    "    save_strategy='epoch',\n",
    "    load_best_model_at_end=True,\n",
    "    metric_for_best_model=\"accuracy\",\n",
    ")\n",
    "\n",
    "# Trainer 설정\n",
    "trainer = Trainer(\n",
    "    model=model,\n",
    "    args=training_args,\n",
    "    train_dataset=Dataset.from_dict({\n",
    "        'input_ids': train_encoded_inputs['input_ids'],\n",
    "        'attention_mask': train_encoded_inputs['attention_mask'],\n",
    "        'labels': train_labels,\n",
    "    }),\n",
    "    eval_dataset=Dataset.from_dict({\n",
    "        'input_ids': test_encoded_inputs['input_ids'],\n",
    "        'attention_mask': test_encoded_inputs['attention_mask'],\n",
    "        'labels': test_labels,\n",
    "    }),\n",
    ")\n",
    "\n",
    "# 모델 학습\n",
    "trainer.train()\n",
    "\n",
    "# Step 5: 최종 결과 측정 - 정확도로 측정\n",
    "eval_result = trainer.evaluate(eval_dataset=torch.utils.data.TensorDataset(test_encoded_inputs['input_ids'], test_encoded_inputs['attention_mask'], test_labels))\n",
    "accuracy = eval_result['eval_accuracy']\n",
    "print(\"Accuracy:\", accuracy)"
   ]
  },
  {
   "cell_type": "code",
   "execution_count": 1,
   "id": "c14bf1a2",
   "metadata": {},
   "outputs": [
    {
     "name": "stdout",
     "output_type": "stream",
     "text": [
      "huggingface/tokenizers: The current process just got forked, after parallelism has already been used. Disabling parallelism to avoid deadlocks...\n",
      "To disable this warning, you can either:\n",
      "\t- Avoid using `tokenizers` before the fork if possible\n",
      "\t- Explicitly set the environment variable TOKENIZERS_PARALLELISM=(true | false)\n"
     ]
    },
    {
     "data": {
      "application/vnd.jupyter.widget-view+json": {
       "model_id": "f4a08570bed644f69eb888941a704c42",
       "version_major": 2,
       "version_minor": 0
      },
      "text/plain": [
       "Downloading model.safetensors:   0%|          | 0.00/440M [00:00<?, ?B/s]"
      ]
     },
     "metadata": {},
     "output_type": "display_data"
    },
    {
     "name": "stderr",
     "output_type": "stream",
     "text": [
      "Some weights of the model checkpoint at bert-base-uncased were not used when initializing BertForSequenceClassification: ['cls.predictions.transform.dense.bias', 'cls.seq_relationship.bias', 'cls.predictions.transform.LayerNorm.weight', 'cls.seq_relationship.weight', 'cls.predictions.bias', 'cls.predictions.transform.dense.weight', 'cls.predictions.transform.LayerNorm.bias']\n",
      "- This IS expected if you are initializing BertForSequenceClassification from the checkpoint of a model trained on another task or with another architecture (e.g. initializing a BertForSequenceClassification model from a BertForPreTraining model).\n",
      "- This IS NOT expected if you are initializing BertForSequenceClassification from the checkpoint of a model that you expect to be exactly identical (initializing a BertForSequenceClassification model from a BertForSequenceClassification model).\n",
      "Some weights of BertForSequenceClassification were not initialized from the model checkpoint at bert-base-uncased and are newly initialized: ['classifier.bias', 'classifier.weight']\n",
      "You should probably TRAIN this model on a down-stream task to be able to use it for predictions and inference.\n"
     ]
    },
    {
     "name": "stdout",
     "output_type": "stream",
     "text": [
      "Epoch 1:\n",
      "  Training Loss: 0.5252090042063949\n",
      "  Evaluation Accuracy: 0.7967423721036935\n",
      "Epoch 2:\n",
      "  Training Loss: 0.34706535946338546\n",
      "  Evaluation Accuracy: 0.8095893553567332\n",
      "Epoch 3:\n",
      "  Training Loss: 0.23324432597760486\n",
      "  Evaluation Accuracy: 0.8226657490250058\n",
      "Final Evaluation Accuracy: 0.8226657490250058\n"
     ]
    }
   ],
   "source": [
    "import torch\n",
    "from torch.utils.data import Dataset, DataLoader\n",
    "from transformers import AutoTokenizer, AutoModelForSequenceClassification, AdamW\n",
    "from sklearn.model_selection import train_test_split\n",
    "import pandas as pd\n",
    "\n",
    "import warnings\n",
    "\n",
    "warnings.filterwarnings(\"ignore\")\n",
    "\n",
    "# 1. 데이터 전처리\n",
    "class EthicsDataset(Dataset):\n",
    "    def __init__(self, data_path, tokenizer):\n",
    "        self.data = pd.read_csv(data_path)\n",
    "        self.labels = self.data['label'].values\n",
    "        self.texts = self.data['scenario'].values\n",
    "        self.tokenizer = tokenizer\n",
    "        \n",
    "    def __len__(self):\n",
    "        return len(self.data)\n",
    "    \n",
    "    def __getitem__(self, index):\n",
    "        text = self.texts[index]\n",
    "        label = self.labels[index]\n",
    "        encoding = self.tokenizer(text, truncation=True, padding='max_length', max_length=128, return_tensors='pt')\n",
    "        return {\n",
    "            'input_ids': encoding['input_ids'].flatten(),\n",
    "            'attention_mask': encoding['attention_mask'].flatten(),\n",
    "            'labels': torch.tensor(label)\n",
    "        }\n",
    "\n",
    "# 2. 데이터셋 로드 및 전처리\n",
    "data_path = '/Users/minsoo/Downloads/ethics/justice/justice_train.csv'\n",
    "tokenizer = AutoTokenizer.from_pretrained('bert-base-uncased')\n",
    "dataset = EthicsDataset(data_path, tokenizer)\n",
    "train_dataset, eval_dataset = train_test_split(dataset, test_size=0.2, random_state=42)\n",
    "\n",
    "# 3. 모델 학습\n",
    "model = AutoModelForSequenceClassification.from_pretrained('bert-base-uncased', num_labels=2)\n",
    "optimizer = AdamW(model.parameters(), lr=1e-5)\n",
    "device = torch.device('cuda' if torch.cuda.is_available() else 'cpu')\n",
    "\n",
    "train_loader = DataLoader(train_dataset, batch_size=16, shuffle=True)\n",
    "eval_loader = DataLoader(eval_dataset, batch_size=16, shuffle=False)\n",
    "\n",
    "model.to(device)\n",
    "\n",
    "for epoch in range(3):\n",
    "    model.train()\n",
    "    total_loss = 0\n",
    "    \n",
    "    for batch in train_loader:\n",
    "        input_ids = batch['input_ids'].to(device)\n",
    "        attention_mask = batch['attention_mask'].to(device)\n",
    "        labels = batch['labels'].to(device)\n",
    "        \n",
    "        outputs = model(input_ids, attention_mask=attention_mask, labels=labels)\n",
    "        loss = outputs.loss\n",
    "        \n",
    "        optimizer.zero_grad()\n",
    "        loss.backward()\n",
    "        optimizer.step()\n",
    "        \n",
    "        total_loss += loss.item()\n",
    "    \n",
    "    average_loss = total_loss / len(train_loader)\n",
    "    \n",
    "    print(f\"Epoch {epoch+1}:\")\n",
    "    print(f\"  Training Loss: {average_loss}\")\n",
    "    \n",
    "    model.eval()\n",
    "    correct = 0\n",
    "    total = 0\n",
    "    \n",
    "    with torch.no_grad():\n",
    "        for batch in eval_loader:\n",
    "            input_ids = batch['input_ids'].to(device)\n",
    "            attention_mask = batch['attention_mask'].to(device)\n",
    "            labels = batch['labels'].to(device)\n",
    "            \n",
    "            outputs = model(input_ids, attention_mask=attention_mask, labels=labels)\n",
    "            logits = outputs.logits\n",
    "            predictions = torch.argmax(logits, dim=1)\n",
    "            \n",
    "            total += labels.size(0)\n",
    "            correct += (predictions == labels).sum().item()\n",
    "    \n",
    "    accuracy = correct / total\n",
    "    print(f\"  Evaluation Accuracy: {accuracy}\")\n",
    "\n",
    "# 4. 최종 결과\n",
    "print(f\"Final Evaluation Accuracy: {accuracy}\")"
   ]
  }
 ],
 "metadata": {
  "kernelspec": {
   "display_name": "Python 3 (ipykernel)",
   "language": "python",
   "name": "python3"
  },
  "language_info": {
   "codemirror_mode": {
    "name": "ipython",
    "version": 3
   },
   "file_extension": ".py",
   "mimetype": "text/x-python",
   "name": "python",
   "nbconvert_exporter": "python",
   "pygments_lexer": "ipython3",
   "version": "3.10.1"
  }
 },
 "nbformat": 4,
 "nbformat_minor": 5
}
